{
 "cells": [
  {
   "cell_type": "code",
   "execution_count": 1,
   "metadata": {},
   "outputs": [],
   "source": [
    "#-200 value imputtion techquie used to removed missing value.dataset having some missing value.replace -200 value from datset.in that datset dont present Nan value -200 is replace "
   ]
  },
  {
   "cell_type": "code",
   "execution_count": null,
   "metadata": {},
   "outputs": [],
   "source": [
    "#find /identify which area are highly populated\n",
    "#lasso/ridge :regulazation term techquie add into linar regression thenth is became lasso and ridge regression.l1 regularization ridge regression l2 regularization is lasso regression"
   ]
  },
  {
   "cell_type": "code",
   "execution_count": null,
   "metadata": {},
   "outputs": [],
   "source": [
    "import pandas as pd\n",
    "import numpy as np"
   ]
  },
  {
   "cell_type": "code",
   "execution_count": 2,
   "metadata": {},
   "outputs": [
    {
     "data": {
      "text/html": [
       "<div>\n",
       "<style scoped>\n",
       "    .dataframe tbody tr th:only-of-type {\n",
       "        vertical-align: middle;\n",
       "    }\n",
       "\n",
       "    .dataframe tbody tr th {\n",
       "        vertical-align: top;\n",
       "    }\n",
       "\n",
       "    .dataframe thead th {\n",
       "        text-align: right;\n",
       "    }\n",
       "</style>\n",
       "<table border=\"1\" class=\"dataframe\">\n",
       "  <thead>\n",
       "    <tr style=\"text-align: right;\">\n",
       "      <th></th>\n",
       "      <th>id</th>\n",
       "      <th>title</th>\n",
       "      <th>author</th>\n",
       "      <th>text</th>\n",
       "      <th>label</th>\n",
       "    </tr>\n",
       "  </thead>\n",
       "  <tbody>\n",
       "    <tr>\n",
       "      <th>0</th>\n",
       "      <td>0</td>\n",
       "      <td>House Dem Aide: We Didn’t Even See Comey’s Let...</td>\n",
       "      <td>Darrell Lucus</td>\n",
       "      <td>House Dem Aide: We Didn’t Even See Comey’s Let...</td>\n",
       "      <td>1</td>\n",
       "    </tr>\n",
       "    <tr>\n",
       "      <th>1</th>\n",
       "      <td>1</td>\n",
       "      <td>FLYNN: Hillary Clinton, Big Woman on Campus - ...</td>\n",
       "      <td>Daniel J. Flynn</td>\n",
       "      <td>Ever get the feeling your life circles the rou...</td>\n",
       "      <td>0</td>\n",
       "    </tr>\n",
       "    <tr>\n",
       "      <th>2</th>\n",
       "      <td>2</td>\n",
       "      <td>Why the Truth Might Get You Fired</td>\n",
       "      <td>Consortiumnews.com</td>\n",
       "      <td>Why the Truth Might Get You Fired October 29, ...</td>\n",
       "      <td>1</td>\n",
       "    </tr>\n",
       "    <tr>\n",
       "      <th>3</th>\n",
       "      <td>3</td>\n",
       "      <td>15 Civilians Killed In Single US Airstrike Hav...</td>\n",
       "      <td>Jessica Purkiss</td>\n",
       "      <td>Videos 15 Civilians Killed In Single US Airstr...</td>\n",
       "      <td>1</td>\n",
       "    </tr>\n",
       "    <tr>\n",
       "      <th>4</th>\n",
       "      <td>4</td>\n",
       "      <td>Iranian woman jailed for fictional unpublished...</td>\n",
       "      <td>Howard Portnoy</td>\n",
       "      <td>Print \\nAn Iranian woman has been sentenced to...</td>\n",
       "      <td>1</td>\n",
       "    </tr>\n",
       "    <tr>\n",
       "      <th>...</th>\n",
       "      <td>...</td>\n",
       "      <td>...</td>\n",
       "      <td>...</td>\n",
       "      <td>...</td>\n",
       "      <td>...</td>\n",
       "    </tr>\n",
       "    <tr>\n",
       "      <th>20795</th>\n",
       "      <td>20795</td>\n",
       "      <td>Rapper T.I.: Trump a ’Poster Child For White S...</td>\n",
       "      <td>Jerome Hudson</td>\n",
       "      <td>Rapper T. I. unloaded on black celebrities who...</td>\n",
       "      <td>0</td>\n",
       "    </tr>\n",
       "    <tr>\n",
       "      <th>20796</th>\n",
       "      <td>20796</td>\n",
       "      <td>N.F.L. Playoffs: Schedule, Matchups and Odds -...</td>\n",
       "      <td>Benjamin Hoffman</td>\n",
       "      <td>When the Green Bay Packers lost to the Washing...</td>\n",
       "      <td>0</td>\n",
       "    </tr>\n",
       "    <tr>\n",
       "      <th>20797</th>\n",
       "      <td>20797</td>\n",
       "      <td>Macy’s Is Said to Receive Takeover Approach by...</td>\n",
       "      <td>Michael J. de la Merced and Rachel Abrams</td>\n",
       "      <td>The Macy’s of today grew from the union of sev...</td>\n",
       "      <td>0</td>\n",
       "    </tr>\n",
       "    <tr>\n",
       "      <th>20798</th>\n",
       "      <td>20798</td>\n",
       "      <td>NATO, Russia To Hold Parallel Exercises In Bal...</td>\n",
       "      <td>Alex Ansary</td>\n",
       "      <td>NATO, Russia To Hold Parallel Exercises In Bal...</td>\n",
       "      <td>1</td>\n",
       "    </tr>\n",
       "    <tr>\n",
       "      <th>20799</th>\n",
       "      <td>20799</td>\n",
       "      <td>What Keeps the F-35 Alive</td>\n",
       "      <td>David Swanson</td>\n",
       "      <td>David Swanson is an author, activist, journa...</td>\n",
       "      <td>1</td>\n",
       "    </tr>\n",
       "  </tbody>\n",
       "</table>\n",
       "<p>20800 rows × 5 columns</p>\n",
       "</div>"
      ],
      "text/plain": [
       "          id                                              title  \\\n",
       "0          0  House Dem Aide: We Didn’t Even See Comey’s Let...   \n",
       "1          1  FLYNN: Hillary Clinton, Big Woman on Campus - ...   \n",
       "2          2                  Why the Truth Might Get You Fired   \n",
       "3          3  15 Civilians Killed In Single US Airstrike Hav...   \n",
       "4          4  Iranian woman jailed for fictional unpublished...   \n",
       "...      ...                                                ...   \n",
       "20795  20795  Rapper T.I.: Trump a ’Poster Child For White S...   \n",
       "20796  20796  N.F.L. Playoffs: Schedule, Matchups and Odds -...   \n",
       "20797  20797  Macy’s Is Said to Receive Takeover Approach by...   \n",
       "20798  20798  NATO, Russia To Hold Parallel Exercises In Bal...   \n",
       "20799  20799                          What Keeps the F-35 Alive   \n",
       "\n",
       "                                          author  \\\n",
       "0                                  Darrell Lucus   \n",
       "1                                Daniel J. Flynn   \n",
       "2                             Consortiumnews.com   \n",
       "3                                Jessica Purkiss   \n",
       "4                                 Howard Portnoy   \n",
       "...                                          ...   \n",
       "20795                              Jerome Hudson   \n",
       "20796                           Benjamin Hoffman   \n",
       "20797  Michael J. de la Merced and Rachel Abrams   \n",
       "20798                                Alex Ansary   \n",
       "20799                              David Swanson   \n",
       "\n",
       "                                                    text  label  \n",
       "0      House Dem Aide: We Didn’t Even See Comey’s Let...      1  \n",
       "1      Ever get the feeling your life circles the rou...      0  \n",
       "2      Why the Truth Might Get You Fired October 29, ...      1  \n",
       "3      Videos 15 Civilians Killed In Single US Airstr...      1  \n",
       "4      Print \\nAn Iranian woman has been sentenced to...      1  \n",
       "...                                                  ...    ...  \n",
       "20795  Rapper T. I. unloaded on black celebrities who...      0  \n",
       "20796  When the Green Bay Packers lost to the Washing...      0  \n",
       "20797  The Macy’s of today grew from the union of sev...      0  \n",
       "20798  NATO, Russia To Hold Parallel Exercises In Bal...      1  \n",
       "20799    David Swanson is an author, activist, journa...      1  \n",
       "\n",
       "[20800 rows x 5 columns]"
      ]
     },
     "execution_count": 2,
     "metadata": {},
     "output_type": "execute_result"
    }
   ],
   "source": [
    "df=pd.read_csv(r'C:\\Users\\SAGAR\\Documents\\ashwini\\latest_project\\avishkar\\assignment\\projects\\fake news detection proj2\\train.csv')\n",
    "df"
   ]
  },
  {
   "cell_type": "code",
   "execution_count": 3,
   "metadata": {},
   "outputs": [
    {
     "data": {
      "text/plain": [
       "0        House Dem Aide: We Didn’t Even See Comey’s Let...\n",
       "1        FLYNN: Hillary Clinton, Big Woman on Campus - ...\n",
       "2                        Why the Truth Might Get You Fired\n",
       "3        15 Civilians Killed In Single US Airstrike Hav...\n",
       "4        Iranian woman jailed for fictional unpublished...\n",
       "                               ...                        \n",
       "20795    Rapper T.I.: Trump a ’Poster Child For White S...\n",
       "20796    N.F.L. Playoffs: Schedule, Matchups and Odds -...\n",
       "20797    Macy’s Is Said to Receive Takeover Approach by...\n",
       "20798    NATO, Russia To Hold Parallel Exercises In Bal...\n",
       "20799                            What Keeps the F-35 Alive\n",
       "Name: title, Length: 20800, dtype: object"
      ]
     },
     "execution_count": 3,
     "metadata": {},
     "output_type": "execute_result"
    }
   ],
   "source": [
    "df['title']"
   ]
  },
  {
   "cell_type": "code",
   "execution_count": 4,
   "metadata": {},
   "outputs": [
    {
     "data": {
      "text/plain": [
       "['House',\n",
       " 'Dem',\n",
       " 'Aide:',\n",
       " 'We',\n",
       " 'Didn’t',\n",
       " 'Even',\n",
       " 'See',\n",
       " 'Comey’s',\n",
       " 'Letter',\n",
       " 'Until',\n",
       " 'Jason',\n",
       " 'Chaffetz',\n",
       " 'Tweeted',\n",
       " 'It']"
      ]
     },
     "execution_count": 4,
     "metadata": {},
     "output_type": "execute_result"
    }
   ],
   "source": [
    "df['title'][0].split()"
   ]
  },
  {
   "cell_type": "code",
   "execution_count": 5,
   "metadata": {},
   "outputs": [
    {
     "data": {
      "text/plain": [
       "id           0\n",
       "title      558\n",
       "author    1957\n",
       "text        39\n",
       "label        0\n",
       "dtype: int64"
      ]
     },
     "execution_count": 5,
     "metadata": {},
     "output_type": "execute_result"
    }
   ],
   "source": [
    "df.isnull().sum()"
   ]
  },
  {
   "cell_type": "code",
   "execution_count": 6,
   "metadata": {},
   "outputs": [
    {
     "data": {
      "text/plain": [
       "(20800, 5)"
      ]
     },
     "execution_count": 6,
     "metadata": {},
     "output_type": "execute_result"
    }
   ],
   "source": [
    "df.shape"
   ]
  },
  {
   "cell_type": "code",
   "execution_count": 7,
   "metadata": {},
   "outputs": [
    {
     "name": "stdout",
     "output_type": "stream",
     "text": [
      "          id                                              title  \\\n",
      "0          0  House Dem Aide: We Didn’t Even See Comey’s Let...   \n",
      "1          1  FLYNN: Hillary Clinton, Big Woman on Campus - ...   \n",
      "2          2                  Why the Truth Might Get You Fired   \n",
      "3          3  15 Civilians Killed In Single US Airstrike Hav...   \n",
      "4          4  Iranian woman jailed for fictional unpublished...   \n",
      "...      ...                                                ...   \n",
      "20795  20795  Rapper T.I.: Trump a ’Poster Child For White S...   \n",
      "20796  20796  N.F.L. Playoffs: Schedule, Matchups and Odds -...   \n",
      "20797  20797  Macy’s Is Said to Receive Takeover Approach by...   \n",
      "20798  20798  NATO, Russia To Hold Parallel Exercises In Bal...   \n",
      "20799  20799                          What Keeps the F-35 Alive   \n",
      "\n",
      "                                          author  \\\n",
      "0                                  Darrell Lucus   \n",
      "1                                Daniel J. Flynn   \n",
      "2                             Consortiumnews.com   \n",
      "3                                Jessica Purkiss   \n",
      "4                                 Howard Portnoy   \n",
      "...                                          ...   \n",
      "20795                              Jerome Hudson   \n",
      "20796                           Benjamin Hoffman   \n",
      "20797  Michael J. de la Merced and Rachel Abrams   \n",
      "20798                                Alex Ansary   \n",
      "20799                              David Swanson   \n",
      "\n",
      "                                                    text  label  \n",
      "0      House Dem Aide: We Didn’t Even See Comey’s Let...      1  \n",
      "1      Ever get the feeling your life circles the rou...      0  \n",
      "2      Why the Truth Might Get You Fired October 29, ...      1  \n",
      "3      Videos 15 Civilians Killed In Single US Airstr...      1  \n",
      "4      Print \\nAn Iranian woman has been sentenced to...      1  \n",
      "...                                                  ...    ...  \n",
      "20795  Rapper T. I. unloaded on black celebrities who...      0  \n",
      "20796  When the Green Bay Packers lost to the Washing...      0  \n",
      "20797  The Macy’s of today grew from the union of sev...      0  \n",
      "20798  NATO, Russia To Hold Parallel Exercises In Bal...      1  \n",
      "20799    David Swanson is an author, activist, journa...      1  \n",
      "\n",
      "[20800 rows x 5 columns]\n"
     ]
    }
   ],
   "source": [
    "split_data = df[\"text\"].str.split(\", \")\n",
    "data = split_data.to_list()\n",
    "new_df = pd.DataFrame(df)\n",
    "print(new_df)"
   ]
  },
  {
   "cell_type": "code",
   "execution_count": 8,
   "metadata": {},
   "outputs": [
    {
     "data": {
      "text/plain": [
       "12"
      ]
     },
     "execution_count": 8,
     "metadata": {},
     "output_type": "execute_result"
    }
   ],
   "source": [
    "len(df['title'][100].split())"
   ]
  },
  {
   "cell_type": "code",
   "execution_count": 9,
   "metadata": {},
   "outputs": [
    {
     "data": {
      "text/plain": [
       "array(['Darrell Lucus', 'Daniel J. Flynn', 'Consortiumnews.com', ...,\n",
       "       'D. Samuelson', 'Judge Andrew Napolitano',\n",
       "       'Michael J. de la Merced and Rachel Abrams'], dtype=object)"
      ]
     },
     "execution_count": 9,
     "metadata": {},
     "output_type": "execute_result"
    }
   ],
   "source": [
    "df['author'].unique()"
   ]
  },
  {
   "cell_type": "code",
   "execution_count": 10,
   "metadata": {},
   "outputs": [
    {
     "data": {
      "text/plain": [
       "array(['House Dem Aide: We Didn’t Even See Comey’s Letter Until Jason Chaffetz Tweeted It By Darrell Lucus on October 30, 2016 Subscribe Jason Chaffetz on the stump in American Fork, Utah ( image courtesy Michael Jolley, available under a Creative Commons-BY license) \\nWith apologies to Keith Olbermann, there is no doubt who the Worst Person in The World is this week–FBI Director James Comey. But according to a House Democratic aide, it looks like we also know who the second-worst person is as well. It turns out that when Comey sent his now-infamous letter announcing that the FBI was looking into emails that may be related to Hillary Clinton’s email server, the ranking Democrats on the relevant committees didn’t hear about it from Comey. They found out via a tweet from one of the Republican committee chairmen. \\nAs we now know, Comey notified the Republican chairmen and Democratic ranking members of the House Intelligence, Judiciary, and Oversight committees that his agency was reviewing emails it had recently discovered in order to see if they contained classified information. Not long after this letter went out, Oversight Committee Chairman Jason Chaffetz set the political world ablaze with this tweet. FBI Dir just informed me, \"The FBI has learned of the existence of emails that appear to be pertinent to the investigation.\" Case reopened \\n— Jason Chaffetz (@jasoninthehouse) October 28, 2016 \\nOf course, we now know that this was not the case . Comey was actually saying that it was reviewing the emails in light of “an unrelated case”–which we now know to be Anthony Weiner’s sexting with a teenager. But apparently such little things as facts didn’t matter to Chaffetz. The Utah Republican had already vowed to initiate a raft of investigations if Hillary wins–at least two years’ worth, and possibly an entire term’s worth of them. Apparently Chaffetz thought the FBI was already doing his work for him–resulting in a tweet that briefly roiled the nation before cooler heads realized it was a dud. \\nBut according to a senior House Democratic aide, misreading that letter may have been the least of Chaffetz’ sins. That aide told Shareblue that his boss and other Democrats didn’t even know about Comey’s letter at the time–and only found out when they checked Twitter. “Democratic Ranking Members on the relevant committees didn’t receive Comey’s letter until after the Republican Chairmen. In fact, the Democratic Ranking Members didn’ receive it until after the Chairman of the Oversight and Government Reform Committee, Jason Chaffetz, tweeted it out and made it public.” \\nSo let’s see if we’ve got this right. The FBI director tells Chaffetz and other GOP committee chairmen about a major development in a potentially politically explosive investigation, and neither Chaffetz nor his other colleagues had the courtesy to let their Democratic counterparts know about it. Instead, according to this aide, he made them find out about it on Twitter. \\nThere has already been talk on Daily Kos that Comey himself provided advance notice of this letter to Chaffetz and other Republicans, giving them time to turn on the spin machine. That may make for good theater, but there is nothing so far that even suggests this is the case. After all, there is nothing so far that suggests that Comey was anything other than grossly incompetent and tone-deaf. \\nWhat it does suggest, however, is that Chaffetz is acting in a way that makes Dan Burton and Darrell Issa look like models of responsibility and bipartisanship. He didn’t even have the decency to notify ranking member Elijah Cummings about something this explosive. If that doesn’t trample on basic standards of fairness, I don’t know what does. \\nGranted, it’s not likely that Chaffetz will have to answer for this. He sits in a ridiculously Republican district anchored in Provo and Orem; it has a Cook Partisan Voting Index of R+25, and gave Mitt Romney a punishing 78 percent of the vote in 2012. Moreover, the Republican House leadership has given its full support to Chaffetz’ planned fishing expedition. But that doesn’t mean we can’t turn the hot lights on him. After all, he is a textbook example of what the House has become under Republican control. And he is also the Second Worst Person in the World. About Darrell Lucus \\nDarrell is a 30-something graduate of the University of North Carolina who considers himself a journalist of the old school. An attempt to turn him into a member of the religious right in college only succeeded in turning him into the religious right\\'s worst nightmare--a charismatic Christian who is an unapologetic liberal. His desire to stand up for those who have been scared into silence only increased when he survived an abusive three-year marriage. You may know him on Daily Kos as Christian Dem in NC . Follow him on Twitter @DarrellLucus or connect with him on Facebook . Click here to buy Darrell a Mello Yello. Connect',\n",
       "       'Ever get the feeling your life circles the roundabout rather than heads in a straight line toward the intended destination? [Hillary Clinton remains the big woman on campus in leafy, liberal Wellesley, Massachusetts. Everywhere else votes her most likely to don her inauguration dress for the remainder of her days the way Miss Havisham forever wore that wedding dress.  Speaking of Great Expectations, Hillary Rodham overflowed with them 48 years ago when she first addressed a Wellesley graduating class. The president of the college informed those gathered in 1969 that the students needed “no debate so far as I could ascertain as to who their spokesman was to be” (kind of the like the Democratic primaries in 2016 minus the   terms unknown then even at a Seven Sisters school). “I am very glad that Miss Adams made it clear that what I am speaking for today is all of us —  the 400 of us,” Miss Rodham told her classmates. After appointing herself Edger Bergen to the Charlie McCarthys and Mortimer Snerds in attendance, the    bespectacled in granny glasses (awarding her matronly wisdom —  or at least John Lennon wisdom) took issue with the previous speaker. Despite becoming the first   to win election to a seat in the U. S. Senate since Reconstruction, Edward Brooke came in for criticism for calling for “empathy” for the goals of protestors as he criticized tactics. Though Clinton in her senior thesis on Saul Alinsky lamented “Black Power demagogues” and “elitist arrogance and repressive intolerance” within the New Left, similar words coming out of a Republican necessitated a brief rebuttal. “Trust,” Rodham ironically observed in 1969, “this is one word that when I asked the class at our rehearsal what it was they wanted me to say for them, everyone came up to me and said ‘Talk about trust, talk about the lack of trust both for us and the way we feel about others. Talk about the trust bust.’ What can you say about it? What can you say about a feeling that permeates a generation and that perhaps is not even understood by those who are distrusted?” The “trust bust” certainly busted Clinton’s 2016 plans. She certainly did not even understand that people distrusted her. After Whitewater, Travelgate, the vast   conspiracy, Benghazi, and the missing emails, Clinton found herself the distrusted voice on Friday. There was a load of compromising on the road to the broadening of her political horizons. And distrust from the American people —  Trump edged her 48 percent to 38 percent on the question immediately prior to November’s election —  stood as a major reason for the closing of those horizons. Clinton described her vanquisher and his supporters as embracing a “lie,” a “con,” “alternative facts,” and “a   assault on truth and reason. ” She failed to explain why the American people chose his lies over her truth. “As the history majors among you here today know all too well, when people in power invent their own facts and attack those who question them, it can mark the beginning of the end of a free society,” she offered. “That is not hyperbole. ” Like so many people to emerge from the 1960s, Hillary Clinton embarked upon a long, strange trip. From high school Goldwater Girl and Wellesley College Republican president to Democratic politician, Clinton drank in the times and the place that gave her a degree. More significantly, she went from idealist to cynic, as a comparison of her two Wellesley commencement addresses show. Way back when, she lamented that “for too long our leaders have viewed politics as the art of the possible, and the challenge now is to practice politics as the art of making what appears to be impossible possible. ” Now, as the big woman on campus but the odd woman out of the White House, she wonders how her current station is even possible. “Why aren’t I 50 points ahead?” she asked in September. In May she asks why she isn’t president. The woman famously dubbed a “congenital liar” by Bill Safire concludes that lies did her in —  theirs, mind you, not hers. Getting stood up on Election Day, like finding yourself the jilted bride on your wedding day, inspires dangerous delusions.',\n",
       "       'Why the Truth Might Get You Fired October 29, 2016 \\nThe tension between intelligence analysts and political policymakers has always been between honest assessments and desired results, with the latter often overwhelming the former, as in the Iraq War, writes Lawrence Davidson. \\nBy Lawrence Davidson \\nFor those who might wonder why foreign policy makers repeatedly make bad choices, some insight might be drawn from the following analysis. The action here plays out in the United States, but the lessons are probably universal. \\nBack in the early spring of 2003, George W. Bush initiated the invasion of Iraq. One of his key public reasons for doing so was the claim that the country’s dictator, Saddam Hussein, was on the verge of developing nuclear weapons and was hiding other weapons of mass destruction. The real reason went beyond that charge and included a long-range plan for “regime change” in the Middle East. President George W. Bush and Vice President Dick Cheney receive an Oval Office briefing from CIA Director George Tenet. Also present is Chief of Staff Andy Card (on right). (White House photo) \\nFor our purposes, we will concentrate on the belief that Iraq was about to become a hostile nuclear power. Why did President Bush and his close associates accept this scenario so readily? \\nThe short answer is Bush wanted, indeed needed, to believe it as a rationale for invading Iraq. At first he had tried to connect Saddam Hussein to the 9/11 attacks on the U.S. Though he never gave up on that stratagem, the lack of evidence made it difficult to rally an American people, already fixated on Afghanistan, to support a war against Baghdad. \\nBut the nuclear weapons gambit proved more fruitful, not because there was any hard evidence for the charge, but because supposedly reliable witnesses, in the persons of exiled anti-Saddam Iraqis (many on the U.S. government’s payroll ), kept telling Bush and his advisers that the nuclear story was true. \\nWhat we had was a U.S. leadership cadre whose worldview literally demanded a mortally dangerous Iraq, and informants who, in order to precipitate the overthrow of Saddam, were willing to tell the tale of pending atomic weapons. The strong desire to believe the tale of a nuclear Iraq lowered the threshold for proof . Likewise, the repeated assertions by assumed dependable Iraqi sources underpinned a nationwide U.S. campaign generating both fear and war fever. \\nSo the U.S. and its allies insisted that the United Nations send in weapons inspectors to scour Iraq for evidence of a nuclear weapons program (as well as chemical and biological weapons). That the inspectors could find no convincing evidence only frustrated the Bush administration and soon forced its hand. \\nOn March 19, 2003, Bush launched the invasion of Iraq with the expectation was that, once in occupation of the country, U.S. inspectors would surely find evidence of those nukes (or at least stockpiles of chemical and biological weapons). They did not. Their Iraqi informants had systematically lied to them. \\nSocial and Behavioral Sciences to the Rescue? \\nThe various U.S. intelligence agencies were thoroughly shaken by this affair, and today, 13 years later, their directors and managers are still trying to sort it out – specifically, how to tell when they are getting “true” intelligence and when they are being lied to. Or, as one intelligence worker has put it, we need “ help to protect us against armies of snake oil salesmen. ” To that end the CIA et al. are in the market for academic assistance. Ahmed Chalabi, head of the Iraqi National Congress, a key supplier of Iraqi defectors with bogus stories of hidden WMD. \\nA “partnership” is being forged between the Office of the Director of National Intelligence (ODNI), which serves as the coordinating center for the sixteen independent U.S. intelligence agencies, and the National Academies of Sciences, Engineering and Medicine . The result of this collaboration will be a “ permanent Intelligence Community Studies Board” to coordinate programs in “social and behavioral science research [that] might strengthen national security .” \\nDespite this effort, it is almost certain that the “social and behavioral sciences” cannot give the spy agencies what they want – a way of detecting lies that is better than their present standard procedures of polygraph tests and interrogations. But even if they could, it might well make no difference, because the real problem is not to be found with the liars. It is to be found with the believers. \\nThe Believers \\nIt is simply not true, as the ODNI leaders seem to assert, that U.S. intelligence agency personnel cannot tell, more often than not, that they are being lied to. This is the case because there are thousands of middle-echelon intelligence workers, desk officers, and specialists who know something closely approaching the truth – that is, they know pretty well what is going on in places like Afghanistan, Iraq, Syria, Libya, Israel, Palestine and elsewhere. Director of National Intelligence James Clapper (right) talks with President Barack Obama in the Oval Office, with John Brennan and other national security aides present. (Photo credit: Office of Director of National Intelligence) \\nTherefore, if someone feeds them “snake oil,” they usually know it. However, having an accurate grasp of things is often to no avail because their superiors – those who got their appointments by accepting a pre-structured worldview – have different criterion for what is “true” than do the analysts. \\nListen to Charles Gaukel, of the National Intelligence Council – yet another organization that acts as a meeting ground for the 16 intelligence agencies. Referring to the search for a way to avoid getting taken in by lies, Gaukel has declared, “ We’re looking for truth. But we’re particularly looking for truth that works. ” Now what might that mean? \\nI can certainly tell you what it means historically. It means that for the power brokers, “truth” must match up, fit with, their worldview – their political and ideological precepts. If it does not fit, it does not “work.” So the intelligence specialists who send their usually accurate assessments up the line to the policy makers often hit a roadblock caused by “group think,” ideological blinkers, and a “we know better” attitude. \\nOn the other hand, as long as what you’re selling the leadership matches up with what they want to believe, you can peddle them anything: imaginary Iraqi nukes, Israel as a Western-style democracy, Saudi Arabia as an indispensable ally, Libya as a liberated country, Bashar al-Assad as the real roadblock to peace in Syria, the Strategic Defense Initiative (SDI) aka Star Wars, a world that is getting colder and not warmer, American exceptionalism in all its glory – the list is almost endless. \\nWhat does this sad tale tell us? If you want to spend millions of dollars on social and behavioral science research to improve the assessment and use of intelligence, forget about the liars. What you want to look for is an antidote to the narrow-mindedness of the believers – the policymakers who seem not to be able to rise above the ideological presumptions of their class – presumptions that underpin their self-confidence as they lead us all down slippery slopes. \\nIt has happened this way so often, and in so many places, that it is the source of Shakespeare’s determination that “what is past, is prelude.” Our elites play out our destinies as if they have no free will – no capacity to break with structured ways of seeing. Yet the middle-echelon specialists keep sending their relatively accurate assessments up the ladder of power. Hope springs eternal.',\n",
       "       ...,\n",
       "       'The Macy’s of today grew from the union of several great names in American retailing, including its namesake chain, Bloomingdale’s and Marshall Field’s. But the ambitious owner of Saks Fifth Avenue has broached the idea of taking the union even further, combining with Macy’s to create a department store juggernaut at a time when the industry is reeling. Hudson’s Bay Company, the Canadian owner of Saks, has approached Macy’s about a potential takeover, people briefed on the matter who were not authorized to speak publicly said on Friday. Talks between the two companies are at an early stage and may still fall apart or lead to a partnership of some kind rather than a sale. While it is unclear whether a deal will happen, a combination could lift the fortunes of Macy’s, the country’s biggest department store, which has been struggling. Investors certainly appeared to see it that way. Shares of Macy’s rose as much as 12 percent on Friday, its biggest intraday gain since Aug. 11, according to data from Bloomberg. Once a retail titan, Macy’s has struggled to remain relevant as   and discount retailers have decimated the traditional    business. Last month, Macy’s announced plans to cut more than 10, 000 jobs and close some of its 880 stores. Terry Lundgren, its chief executive and the architect of Macy’s last big merger, is expected to step down by the end of March. He will be succeeded by the company’s president, Jeffrey Gennette. Since the recession, shoppers have grown accustomed to hunt for bargains and to not pay full price. Discount stores and outlet malls have flourished. Traditional stores have been compelled to respond by trimming prices, which cuts into their margins. Departments stores have been hit especially hard, particularly as shoppers migrate away from malls. What has emerged, analysts say, is a virtual race to the bottom. That has been particularly difficult for Macy’s, born of a series of mergers over the past two decades that made it a juggernaut in the industry. A stalwart of the middle tier of retail, the company has neither the advantages of   retailers like HM nor the   stores. In addition, Macy’s faces increasingly fierce competition online from sites like Amazon and elsewhere. Macy’s troubles have drawn the attention of a prominent activist hedge fund, Starboard Value, which has urged the company to generate cash by selling the real estate beneath its stores. Starboard, which held just under 1 percent of Macy’s shares as of Sept. 30, had previously estimated the value of that land at about $21 billion. On Friday, analysts at Citigroup estimated that Macy’s   holdings could be worth at least $18 billion. Macy’s market value, by comparison, was just under $11 billion as of Friday morning. Macy’s has taken some steps to sell or redevelop stores, and last year, it added an expert on real estate transactions to its board. But the company has largely resisted more ambitious efforts to divest its real estate, including     deals, in which a company sells the underlying land beneath its stores and then rents it back. The company’s suitor, Hudson’s Bay Company, is far smaller  —   its market value was about 1. 9 billion Canadian dollars, or $1. 5 billion  —   but is known for its bold steps. Hudson’s Bay Company has assembled a growing empire that includes the Hudson’s Bay department store chain, Lord  Taylor and its crown jewel, Saks. And the governor and executive chairman of the Hudson’s Bay Company, Richard Baker, has shown little fear of using debt: In November 2014, the company borrowed nearly $4 billion against the Saks flagship in Midtown Manhattan. He has spoken often of retailers’ need to highlight the value of their real estate. Financing a bid for Macy’s may be trickier, however, because the it carries about $6. 5 billion in   debt. That may mean that the Hudson’s Bay Company will have to bring in a partner or borrow against more of its real estate holdings. A spokesman for the Hudson’s Bay Company declined to comment on the talks, which were reported earlier by The Wall Street Journal. “We do not comment on rumors and speculation,” a representative for Macy’s said. A representative for Starboard Value did not respond to a request for comment. Some analysts said that they saw the merit of a potential combination, particularly given Macy’s operational woes and Mr. Baker’s expertise in wringing money out of real estate. “There is a clear logic, despite disparity in   cap” between Macy’s and Hudson’s Bay Company, Craig Johnson, the president of Customer Growth Partners, a research firm, said in a note. Referring to Macy’s stock ticker symbol, he added, “The retail market has been changing faster than M has been able to keep up with, whether the flight from the mall or the migration online. ”',\n",
       "       'NATO, Russia To Hold Parallel Exercises In Balkans 11/02/2016 \\nPRESS TV \\nRussia’s military and NATO forces are holding parallel military exercises in two neighboring Balkan countries. \\nRussian troops will participate in war games in Serbia while NATO is conducting military drills in Montenegro, media reported on Monday. \\nRussian forces’ 13-day military exercise in Serbia is named “The Slavic Brotherhood 2016” and begins on Wednesday. \\nIt will include 150 Russian paratroopers, 50 air force staffers, three transport planes and an unspecified number of troops from Serbia and Belarus, Russia’s Defense Ministry said. \\nThe five-day NATO drill in Montenegro started on Monday and involves responding to floods and chemical attacks. It will involve 680 unarmed personnel from seven NATO countries and 10 partner states. \\nIn the past both Serbia and Montenegro were constitutional republics of the Socialist Federal Republic of Yugoslavia. \\nBoth countries are socialist republics and traditional Russian Christian Orthodox allies. In 2003 this state union was re-formed into Serbia and Montenegro, and in 2006 the two became independent states. \\nSince their split, the two Balkan neighbors seem to have headed in different directions strategically. \\nMontenegro has taken a pro-Western stance which has been awarded by NATO with an offer to join the Northern Atlantic Alliance. \\nThe NATO invitation to Montenegro has met strong opposition from Russia. \\nMeanwhile, Montenegrin officials have accused Russia of staging an alleged coup in October to topple its pro-Western government because of the NATO accession bid. \\nSerbia, a NATO partner, has held exercises with the Western alliance, but not such a large one or with foreign troops and equipment participating on its soil.',\n",
       "       \"  David Swanson is an author, activist, journalist, and radio host. He is a 2015 Nobel Peace Prize Nominee. He is director of WorldBeyondWar.com and campaign coordinator for RootsAction.org . He hosts Talk Nation Radio . Talk Nation Radio is on VT Radio and is syndicated by Pacifica Network. The show also airs on WTJU, Charlottesville, VA; WCSX-Detroit, MI; KGHI, Westport, WA; WHUS, Storrs, CT; WPRR, Grand Rapids, MI; KRFP-LP, Moscow, ID; KZGM, Cabool, MO; KMUD, Garberville, CA; WAZU, Peoria, IL; WXRD, Crown Point, IN; Geneva Radio, Geneva, NY; KKRN, Round Mountain, CA; KSKQ-LP, Ashland, OR; WUOW-LP, Oneonta, NY; No Lies Radio, Pinole, CA; WYAP-LP, Clay, WV; The Detour, Johnson City, TN; WZRD, Chicago, IL; WEFT, Champaign, IL; WXPI, Pittsburgh, PA; WDRT, Viroqua, WI; Veracity Now, online; Liberty and Justice Radio, Shirley, MA; Ithaca Community Radio, Ithaca, NY; WMCB, Greenfield, MA; PRX.org; KAOS 89.3fm, Olympia, WA; WUSB 90.1 FM, Stony Brook, NY; WOOL-FM, Bellow Falls, Vermont; WSLR-LP 96.5 in Sarasota, Florida. He also blogs at DavidSwanson.org and WarIsACrime.org And is a prolific author. His latest books are; War Is A Lie , Daybreak: Undoing the Imperial Presidency and Forming a More Perfect Union , and When the World Outlawed War Swanson holds a master's degree in philosophy from the University of Virginia. He has worked as a newspaper reporter and as a communications director, with jobs including press secretary for Dennis Kucinich's 2004 presidential campaign, media coordinator for the International Labor Communications Association, and three years as communications coordinator for ACORN, the Association of Community Organizations for Reform Now. Read his full and complete biography at DavidSwanson.org and also visit book site at War Is Crime . What Keeps the F-35 Alive By David Swanson on October 31, 2016 Petition to Stop F-35 Going Global \\nby David Swanson \\nImagine if a local business in your town invented a brand new tool that was intended to have an almost magical effect thousands of miles away. However, where the tool was kept and used locally became an area unsafe for children. Children who got near this tool tended to have increased blood pressure and increased stress hormones, lower reading skills, poorer memories, impaired auditory and speech perception, and impaired academic performance. \\nMost of us would find this situation at least a little concerning, unless the new invention was designed to murder lots of people. Then it’d be just fine. \\nNow, imagine if this same new tool ruined neighborhoods because people couldn’t safely live near it. Imagine if the government had to compensate people but kick them out of living near the location of this tool. Again, I think, we might find that troubling if mass murder were not the mission. \\nImagine also that this tool fairly frequently explodes, emitting highly toxic chemicals, particles, and fibers unsafe to breathe into the air for miles around. Normally, that’d be a problem. But if this tool is needed for killing lots of people, we’ll work with its flaws, won’t we? \\nNow, what if this new gadget was expected to cost at least $1,400,000,000,000 over 50 years? And what if that money had to be taken away from numerous other expenses more beneficial for the economy and the world? What if the $1.4 trillion was drained out of the economy causing a loss of jobs and a radical diminuition of resources for education, healthcare, housing, environmental protection, or humanitarian aid? Wouldn’t that be a worry in some cases, I mean in those cases where the ability to kill tons of human beings wasn’t at stake? \\nWhat if this product, even when working perfectly, was a leading destroyer of the earth’s natural environment? \\nWhat if this high-tech toy wasn’t even designed to do what was expected of it and wasn’t even able to do what it was designed for? \\nAmazingly, even those shortcomings do not matter as long as the intention is massive murder and destruction. Then, all is forgiven. \\nThe tool I’m describing is called the F-35. At RootsAction.org you can find a new petition launched by locally-minded people acting globally in places where the F-35 is intended to be based. Also at that link you’ll find explanations of how the tool I’ve been decribing is the F-35. \\nThe petition is directed to the United States Congress and the governments of Australia, Italy, the Netherlands, Norway, Turkey, the United Kingdom, Israel, Japan and South Korea from the world and from the people of Burlington, Vermont, and Fairbanks, Alaska, where the F-35 is to be based. This effort is being initiated by Vermont Stop the F35 Coalition, Save Our Skies Vermont, Western Maine Matters, Alaska Peace Center, University of Alaska Fairbanks Peace Club, North Star Chapter 146 Veterans For Peace, World Beyond War, RootsAction.org, Code Pink, and Ben Cohen. \\nThe petition reads: \\nThe F-35 is a weapon of offensive war, serving no defensive purpose. It is planned to cost the U.S. $1.4 trillion over 50 years. Because starvation on earth could be ended for $30 billion and the lack of clean drinking water for $11 billion per year, it is first and foremost through the wasting of resources that this airplane will kill. Military spending, contrary to popular misconception, also hurts the U.S. economy ( see here ) and other economies. The F-35 causes negative health impacts and cognitive impairment in children living near its bases. It renders housing near airports unsuitable for residential use. It has a high crash rate and horrible consequences to those living in the area of its crashes. Its emissions are a major environmental polluter. \\nWars are endangering the United States and other participating nations rather than protecting them. Nonviolent tools of law, diplomacy, aid, crisis prevention, and verifiable nuclear disarmament should be substituted for continuing counterproductive wars. Therefore, we, the undersigned, call for the immediate cancellation of the F-35 program as a whole, and the immediate cancellation of plans to base any such dangerous and noisy jets near populated areas. We oppose replacing the F-35 with any other weapon or basing the F-35 in any other locations. We further demand redirection of the money for the F-35 back into taxpayers’ pockets, and into environmental and human needs in the U.S., other F-35 customer nations, and around the world, including to fight climate change, pay off student debt, rebuild crumbling infrastructure, and improve education, healthcare, and housing. \\nAdd your name . \\nDavid Swanson is an author, activist, journalist, and radio host. He is director of WorldBeyondWar.org and campaign coordinator for RootsAction.org . Swanson’s books include War Is A Lie . He blogs at DavidSwanson.org and WarIsACrime.org . He hosts Talk Nation Radio .He is a 2015 and 2016 Nobel Peace Prize Nominee. \\nFollow him on Twitter: @davidcnswanson and FaceBook . \\nHelp support DavidSwanson.org, WarIsACrime.org, and TalkNationRadio.org by clicking here: http://davidswanson.org/donate .\"],\n",
       "      dtype=object)"
      ]
     },
     "execution_count": 10,
     "metadata": {},
     "output_type": "execute_result"
    }
   ],
   "source": [
    "df['text'].unique()"
   ]
  },
  {
   "cell_type": "code",
   "execution_count": 11,
   "metadata": {},
   "outputs": [
    {
     "data": {
      "text/plain": [
       "1    10413\n",
       "0    10387\n",
       "Name: label, dtype: int64"
      ]
     },
     "execution_count": 11,
     "metadata": {},
     "output_type": "execute_result"
    }
   ],
   "source": [
    "df['label'].value_counts()"
   ]
  },
  {
   "cell_type": "code",
   "execution_count": 12,
   "metadata": {},
   "outputs": [
    {
     "data": {
      "text/html": [
       "<div>\n",
       "<style scoped>\n",
       "    .dataframe tbody tr th:only-of-type {\n",
       "        vertical-align: middle;\n",
       "    }\n",
       "\n",
       "    .dataframe tbody tr th {\n",
       "        vertical-align: top;\n",
       "    }\n",
       "\n",
       "    .dataframe thead th {\n",
       "        text-align: right;\n",
       "    }\n",
       "</style>\n",
       "<table border=\"1\" class=\"dataframe\">\n",
       "  <thead>\n",
       "    <tr style=\"text-align: right;\">\n",
       "      <th></th>\n",
       "      <th>id</th>\n",
       "      <th>title</th>\n",
       "      <th>author</th>\n",
       "      <th>text</th>\n",
       "      <th>label</th>\n",
       "    </tr>\n",
       "  </thead>\n",
       "  <tbody>\n",
       "    <tr>\n",
       "      <th>14990</th>\n",
       "      <td>14990</td>\n",
       "      <td>Haunted Cemeteries on Earth</td>\n",
       "      <td>NaN</td>\n",
       "      <td>Top5darkests 0 \\nThroughout our history and ou...</td>\n",
       "      <td>1</td>\n",
       "    </tr>\n",
       "    <tr>\n",
       "      <th>17959</th>\n",
       "      <td>17959</td>\n",
       "      <td>Socialismo ou Barbárie</td>\n",
       "      <td>NaN</td>\n",
       "      <td>Enviar para um amigo No modelo chinês, ele é s...</td>\n",
       "      <td>1</td>\n",
       "    </tr>\n",
       "    <tr>\n",
       "      <th>15477</th>\n",
       "      <td>15477</td>\n",
       "      <td>Gawker.com to Shut Down Next Week - The New Yo...</td>\n",
       "      <td>Sydney Ember</td>\n",
       "      <td>For nearly 14 years, Nick Denton and Gawker. c...</td>\n",
       "      <td>0</td>\n",
       "    </tr>\n",
       "    <tr>\n",
       "      <th>12502</th>\n",
       "      <td>12502</td>\n",
       "      <td>John Bolton: I’m Concerned That U.S. Is Pushin...</td>\n",
       "      <td>John Hayward</td>\n",
       "      <td>On Thursday’s Breitbart News Daily, SiriusXM h...</td>\n",
       "      <td>0</td>\n",
       "    </tr>\n",
       "    <tr>\n",
       "      <th>13994</th>\n",
       "      <td>13994</td>\n",
       "      <td>Comment on 10 Nutritious Foods That Help Reduc...</td>\n",
       "      <td>10 Nutritious Foods That Help Reduce Asthma At...</td>\n",
       "      <td>Share on Facebook Share on Twitter Over 25 mil...</td>\n",
       "      <td>1</td>\n",
       "    </tr>\n",
       "    <tr>\n",
       "      <th>...</th>\n",
       "      <td>...</td>\n",
       "      <td>...</td>\n",
       "      <td>...</td>\n",
       "      <td>...</td>\n",
       "      <td>...</td>\n",
       "    </tr>\n",
       "    <tr>\n",
       "      <th>14546</th>\n",
       "      <td>14546</td>\n",
       "      <td>David Oyelowo on How to Play a Real King - The...</td>\n",
       "      <td>Mekado Murphy, Alexandra Eaton, Jonah M. Kesse...</td>\n",
       "      <td>In “A United Kingdom,” David Oyelowo plays Ser...</td>\n",
       "      <td>0</td>\n",
       "    </tr>\n",
       "    <tr>\n",
       "      <th>12730</th>\n",
       "      <td>12730</td>\n",
       "      <td>On Vacation. How to Keep the Boss at Bay? - Th...</td>\n",
       "      <td>Rob Walker</td>\n",
       "      <td>Send your workplace conundrums to workologist@...</td>\n",
       "      <td>0</td>\n",
       "    </tr>\n",
       "    <tr>\n",
       "      <th>7974</th>\n",
       "      <td>7974</td>\n",
       "      <td>A Bigger Economic Pie, but a Smaller Slice for...</td>\n",
       "      <td>Patricia Cohen</td>\n",
       "      <td>Even with all the setbacks from recessions, bu...</td>\n",
       "      <td>0</td>\n",
       "    </tr>\n",
       "    <tr>\n",
       "      <th>15509</th>\n",
       "      <td>15509</td>\n",
       "      <td>Dior Is Expected to Name Maria Grazia Chiuri a...</td>\n",
       "      <td>Vanessa Friedman</td>\n",
       "      <td>Christian Dior has finally found its designer....</td>\n",
       "      <td>0</td>\n",
       "    </tr>\n",
       "    <tr>\n",
       "      <th>19022</th>\n",
       "      <td>19022</td>\n",
       "      <td>Julian Assange: The CIA Director Is Waging War...</td>\n",
       "      <td>Breitbart Tech</td>\n",
       "      <td>Writing at the Washington Post, WikiLeaks edit...</td>\n",
       "      <td>0</td>\n",
       "    </tr>\n",
       "  </tbody>\n",
       "</table>\n",
       "<p>10000 rows × 5 columns</p>\n",
       "</div>"
      ],
      "text/plain": [
       "          id                                              title  \\\n",
       "14990  14990                        Haunted Cemeteries on Earth   \n",
       "17959  17959                             Socialismo ou Barbárie   \n",
       "15477  15477  Gawker.com to Shut Down Next Week - The New Yo...   \n",
       "12502  12502  John Bolton: I’m Concerned That U.S. Is Pushin...   \n",
       "13994  13994  Comment on 10 Nutritious Foods That Help Reduc...   \n",
       "...      ...                                                ...   \n",
       "14546  14546  David Oyelowo on How to Play a Real King - The...   \n",
       "12730  12730  On Vacation. How to Keep the Boss at Bay? - Th...   \n",
       "7974    7974  A Bigger Economic Pie, but a Smaller Slice for...   \n",
       "15509  15509  Dior Is Expected to Name Maria Grazia Chiuri a...   \n",
       "19022  19022  Julian Assange: The CIA Director Is Waging War...   \n",
       "\n",
       "                                                  author  \\\n",
       "14990                                                NaN   \n",
       "17959                                                NaN   \n",
       "15477                                       Sydney Ember   \n",
       "12502                                       John Hayward   \n",
       "13994  10 Nutritious Foods That Help Reduce Asthma At...   \n",
       "...                                                  ...   \n",
       "14546  Mekado Murphy, Alexandra Eaton, Jonah M. Kesse...   \n",
       "12730                                         Rob Walker   \n",
       "7974                                      Patricia Cohen   \n",
       "15509                                   Vanessa Friedman   \n",
       "19022                                     Breitbart Tech   \n",
       "\n",
       "                                                    text  label  \n",
       "14990  Top5darkests 0 \\nThroughout our history and ou...      1  \n",
       "17959  Enviar para um amigo No modelo chinês, ele é s...      1  \n",
       "15477  For nearly 14 years, Nick Denton and Gawker. c...      0  \n",
       "12502  On Thursday’s Breitbart News Daily, SiriusXM h...      0  \n",
       "13994  Share on Facebook Share on Twitter Over 25 mil...      1  \n",
       "...                                                  ...    ...  \n",
       "14546  In “A United Kingdom,” David Oyelowo plays Ser...      0  \n",
       "12730  Send your workplace conundrums to workologist@...      0  \n",
       "7974   Even with all the setbacks from recessions, bu...      0  \n",
       "15509  Christian Dior has finally found its designer....      0  \n",
       "19022  Writing at the Washington Post, WikiLeaks edit...      0  \n",
       "\n",
       "[10000 rows x 5 columns]"
      ]
     },
     "execution_count": 12,
     "metadata": {},
     "output_type": "execute_result"
    }
   ],
   "source": [
    "data=df.sample(10000)\n",
    "data"
   ]
  },
  {
   "cell_type": "code",
   "execution_count": 13,
   "metadata": {},
   "outputs": [
    {
     "data": {
      "text/plain": [
       "0    5028\n",
       "1    4972\n",
       "Name: label, dtype: int64"
      ]
     },
     "execution_count": 13,
     "metadata": {},
     "output_type": "execute_result"
    }
   ],
   "source": [
    "data['label'].value_counts()"
   ]
  },
  {
   "cell_type": "code",
   "execution_count": 14,
   "metadata": {},
   "outputs": [
    {
     "data": {
      "text/plain": [
       "4201"
      ]
     },
     "execution_count": 14,
     "metadata": {},
     "output_type": "execute_result"
    }
   ],
   "source": [
    "df['author'].nunique()"
   ]
  },
  {
   "cell_type": "code",
   "execution_count": 15,
   "metadata": {},
   "outputs": [
    {
     "data": {
      "text/plain": [
       "20386"
      ]
     },
     "execution_count": 15,
     "metadata": {},
     "output_type": "execute_result"
    }
   ],
   "source": [
    "df['text'].nunique()#if system not working with 20386 records then reduce your data set..take 10000 sample only and perform model"
   ]
  },
  {
   "cell_type": "code",
   "execution_count": 16,
   "metadata": {},
   "outputs": [
    {
     "data": {
      "text/plain": [
       "20386"
      ]
     },
     "execution_count": 16,
     "metadata": {},
     "output_type": "execute_result"
    }
   ],
   "source": [
    "df['text'].nunique()#if system not working with 20386 records then reduce your data set..take 10000 sample only and perform model"
   ]
  },
  {
   "cell_type": "code",
   "execution_count": 17,
   "metadata": {},
   "outputs": [
    {
     "data": {
      "text/plain": [
       "1    10413\n",
       "0    10387\n",
       "Name: label, dtype: int64"
      ]
     },
     "execution_count": 17,
     "metadata": {},
     "output_type": "execute_result"
    }
   ],
   "source": [
    "df['label'].value_counts()"
   ]
  },
  {
   "cell_type": "code",
   "execution_count": 18,
   "metadata": {},
   "outputs": [
    {
     "data": {
      "text/plain": [
       "0        House Dem Aide: We Didn’t Even See Comey’s Let...\n",
       "1        Ever get the feeling your life circles the rou...\n",
       "2        Why the Truth Might Get You Fired October 29, ...\n",
       "3        Videos 15 Civilians Killed In Single US Airstr...\n",
       "4        Print \\nAn Iranian woman has been sentenced to...\n",
       "                               ...                        \n",
       "20795    Rapper T. I. unloaded on black celebrities who...\n",
       "20796    When the Green Bay Packers lost to the Washing...\n",
       "20797    The Macy’s of today grew from the union of sev...\n",
       "20798    NATO, Russia To Hold Parallel Exercises In Bal...\n",
       "20799      David Swanson is an author, activist, journa...\n",
       "Name: text, Length: 20800, dtype: object"
      ]
     },
     "execution_count": 18,
     "metadata": {},
     "output_type": "execute_result"
    }
   ],
   "source": [
    "df.text = df.text.str.replace('#',' ')\n",
    "df.text"
   ]
  },
  {
   "cell_type": "code",
   "execution_count": 19,
   "metadata": {},
   "outputs": [
    {
     "data": {
      "text/plain": [
       "0        House Dem Aide: We Didn’t Even See Comey’s Let...\n",
       "1        FLYNN: Hillary Clinton, Big Woman on Campus - ...\n",
       "2                        Why the Truth Might Get You Fired\n",
       "3        15 Civilians Killed In Single US Airstrike Hav...\n",
       "4        Iranian woman jailed for fictional unpublished...\n",
       "                               ...                        \n",
       "20795    Rapper T.I.: Trump a ’Poster Child For White S...\n",
       "20796    N.F.L. Playoffs: Schedule, Matchups and Odds -...\n",
       "20797    Macy’s Is Said to Receive Takeover Approach by...\n",
       "20798    NATO, Russia To Hold Parallel Exercises In Bal...\n",
       "20799                            What Keeps the F-35 Alive\n",
       "Name: title, Length: 20800, dtype: object"
      ]
     },
     "execution_count": 19,
     "metadata": {},
     "output_type": "execute_result"
    }
   ],
   "source": [
    "import pandas as pd \n",
    "# remove spaces in columns name\n",
    "df.title = df.title.str.replace('# ^ +| +$',' ')\n",
    "df.title"
   ]
  },
  {
   "cell_type": "code",
   "execution_count": 20,
   "metadata": {},
   "outputs": [],
   "source": [
    "import seaborn as sns"
   ]
  },
  {
   "cell_type": "code",
   "execution_count": 21,
   "metadata": {},
   "outputs": [
    {
     "data": {
      "text/plain": [
       "<AxesSubplot:>"
      ]
     },
     "execution_count": 21,
     "metadata": {},
     "output_type": "execute_result"
    },
    {
     "data": {
      "image/png": "[encoded data removed]",
      "text/plain": [
       "<Figure size 432x288 with 2 Axes>"
      ]
     },
     "metadata": {
      "needs_background": "light"
     },
     "output_type": "display_data"
    }
   ],
   "source": [
    "sns.heatmap(df.isnull(), cmap='viridis')"
   ]
  },
  {
   "cell_type": "code",
   "execution_count": 22,
   "metadata": {},
   "outputs": [],
   "source": [
    "spec_chars = [\"!\",'\"',\"#\",\"%\",\"&\",\"'\",\"(\",\")\",\"*\",\"+\",\",\",\"-\",\".\",\"/\",\":\",\";\",\"<\",\"=\",\">\",\"?\",\"@\",\"[\",\"\\\\\",\"]\",\"^\",\"_\",\"`\",\"{\",\"|\",\"}\",\"~\",\"–\"]\n",
    "for char in spec_chars:\n",
    "    df['title'] = df['title'].str.replace(char, ' ')"
   ]
  },
  {
   "cell_type": "code",
   "execution_count": 23,
   "metadata": {},
   "outputs": [
    {
     "data": {
      "text/plain": [
       "id           0\n",
       "title      558\n",
       "author    1957\n",
       "text        39\n",
       "label        0\n",
       "dtype: int64"
      ]
     },
     "execution_count": 23,
     "metadata": {},
     "output_type": "execute_result"
    }
   ],
   "source": [
    "df.isnull().sum()"
   ]
  },
  {
   "cell_type": "code",
   "execution_count": 24,
   "metadata": {},
   "outputs": [],
   "source": [
    "import missingno"
   ]
  },
  {
   "cell_type": "code",
   "execution_count": 25,
   "metadata": {},
   "outputs": [
    {
     "data": {
      "text/plain": [
       "<AxesSubplot:>"
      ]
     },
     "execution_count": 25,
     "metadata": {},
     "output_type": "execute_result"
    },
    {
     "data": {
      "image/png": "[encoded data removed]",
      "text/plain": [
       "<Figure size 1728x720 with 3 Axes>"
      ]
     },
     "metadata": {
      "needs_background": "light"
     },
     "output_type": "display_data"
    }
   ],
   "source": [
    "missingno.bar(df)"
   ]
  },
  {
   "cell_type": "code",
   "execution_count": 26,
   "metadata": {},
   "outputs": [
    {
     "data": {
      "text/plain": [
       "<AxesSubplot:>"
      ]
     },
     "execution_count": 26,
     "metadata": {},
     "output_type": "execute_result"
    },
    {
     "data": {
      "image/png": "[encoded data removed]",
      "text/plain": [
       "<Figure size 1800x720 with 2 Axes>"
      ]
     },
     "metadata": {
      "needs_background": "light"
     },
     "output_type": "display_data"
    }
   ],
   "source": [
    "missingno.matrix(df)"
   ]
  },
  {
   "cell_type": "code",
   "execution_count": 27,
   "metadata": {},
   "outputs": [
    {
     "data": {
      "text/plain": [
       "id           0\n",
       "title      558\n",
       "author    1957\n",
       "text        39\n",
       "label        0\n",
       "dtype: int64"
      ]
     },
     "execution_count": 27,
     "metadata": {},
     "output_type": "execute_result"
    }
   ],
   "source": [
    "df.isnull().sum()"
   ]
  },
  {
   "cell_type": "code",
   "execution_count": 28,
   "metadata": {},
   "outputs": [
    {
     "data": {
      "text/plain": [
       "39"
      ]
     },
     "execution_count": 28,
     "metadata": {},
     "output_type": "execute_result"
    }
   ],
   "source": [
    "df.text.isnull().sum()"
   ]
  },
  {
   "cell_type": "code",
   "execution_count": 29,
   "metadata": {},
   "outputs": [
    {
     "data": {
      "text/plain": [
       "558"
      ]
     },
     "execution_count": 29,
     "metadata": {},
     "output_type": "execute_result"
    }
   ],
   "source": [
    "df.title.isnull().sum()"
   ]
  },
  {
   "cell_type": "code",
   "execution_count": 30,
   "metadata": {},
   "outputs": [
    {
     "data": {
      "text/plain": [
       "0        House Dem Aide: We Didn’t Even See Comey’s Let...\n",
       "1        Ever get the feeling your life circles the rou...\n",
       "2        Why the Truth Might Get You Fired October 29, ...\n",
       "3        Videos 15 Civilians Killed In Single US Airstr...\n",
       "4        Print \\nAn Iranian woman has been sentenced to...\n",
       "                               ...                        \n",
       "20795    Rapper T. I. unloaded on black celebrities who...\n",
       "20796    When the Green Bay Packers lost to the Washing...\n",
       "20797    The Macy’s of today grew from the union of sev...\n",
       "20798    NATO, Russia To Hold Parallel Exercises In Bal...\n",
       "20799      David Swanson is an author, activist, journa...\n",
       "Name: text, Length: 20800, dtype: object"
      ]
     },
     "execution_count": 30,
     "metadata": {},
     "output_type": "execute_result"
    }
   ],
   "source": [
    "df.text.ffill()"
   ]
  },
  {
   "cell_type": "code",
   "execution_count": 31,
   "metadata": {},
   "outputs": [],
   "source": [
    "df['title']=df['title'].fillna(df['title']).ffill()"
   ]
  },
  {
   "cell_type": "code",
   "execution_count": 32,
   "metadata": {},
   "outputs": [
    {
     "data": {
      "text/plain": [
       "id           0\n",
       "title        0\n",
       "author    1957\n",
       "text        39\n",
       "label        0\n",
       "dtype: int64"
      ]
     },
     "execution_count": 32,
     "metadata": {},
     "output_type": "execute_result"
    }
   ],
   "source": [
    "df.isnull().sum()"
   ]
  },
  {
   "cell_type": "code",
   "execution_count": 33,
   "metadata": {},
   "outputs": [],
   "source": [
    "df = df.dropna(subset=['author'])"
   ]
  },
  {
   "cell_type": "code",
   "execution_count": 34,
   "metadata": {},
   "outputs": [
    {
     "data": {
      "text/plain": [
       "id        0\n",
       "title     0\n",
       "author    0\n",
       "text      0\n",
       "label     0\n",
       "dtype: int64"
      ]
     },
     "execution_count": 34,
     "metadata": {},
     "output_type": "execute_result"
    }
   ],
   "source": [
    "df.isnull().sum()"
   ]
  },
  {
   "cell_type": "code",
   "execution_count": 35,
   "metadata": {},
   "outputs": [],
   "source": [
    "#df['text']=df['text'].fillna(df['text']).ffill()"
   ]
  },
  {
   "cell_type": "code",
   "execution_count": 36,
   "metadata": {},
   "outputs": [],
   "source": [
    "#df['title'] = df['title'].fillna(df['title'].bfill())"
   ]
  },
  {
   "cell_type": "code",
   "execution_count": 37,
   "metadata": {},
   "outputs": [
    {
     "data": {
      "text/plain": [
       "id        0\n",
       "title     0\n",
       "author    0\n",
       "text      0\n",
       "label     0\n",
       "dtype: int64"
      ]
     },
     "execution_count": 37,
     "metadata": {},
     "output_type": "execute_result"
    }
   ],
   "source": [
    "df.isnull().sum()"
   ]
  },
  {
   "cell_type": "code",
   "execution_count": 38,
   "metadata": {},
   "outputs": [
    {
     "data": {
      "text/plain": [
       "['i',\n",
       " 'me',\n",
       " 'my',\n",
       " 'myself',\n",
       " 'we',\n",
       " 'our',\n",
       " 'ours',\n",
       " 'ourselves',\n",
       " 'you',\n",
       " \"you're\",\n",
       " \"you've\",\n",
       " \"you'll\",\n",
       " \"you'd\",\n",
       " 'your',\n",
       " 'yours',\n",
       " 'yourself',\n",
       " 'yourselves',\n",
       " 'he',\n",
       " 'him',\n",
       " 'his',\n",
       " 'himself',\n",
       " 'she',\n",
       " \"she's\",\n",
       " 'her',\n",
       " 'hers',\n",
       " 'herself',\n",
       " 'it',\n",
       " \"it's\",\n",
       " 'its',\n",
       " 'itself',\n",
       " 'they',\n",
       " 'them',\n",
       " 'their',\n",
       " 'theirs',\n",
       " 'themselves',\n",
       " 'what',\n",
       " 'which',\n",
       " 'who',\n",
       " 'whom',\n",
       " 'this',\n",
       " 'that',\n",
       " \"that'll\",\n",
       " 'these',\n",
       " 'those',\n",
       " 'am',\n",
       " 'is',\n",
       " 'are',\n",
       " 'was',\n",
       " 'were',\n",
       " 'be',\n",
       " 'been',\n",
       " 'being',\n",
       " 'have',\n",
       " 'has',\n",
       " 'had',\n",
       " 'having',\n",
       " 'do',\n",
       " 'does',\n",
       " 'did',\n",
       " 'doing',\n",
       " 'a',\n",
       " 'an',\n",
       " 'the',\n",
       " 'and',\n",
       " 'but',\n",
       " 'if',\n",
       " 'or',\n",
       " 'because',\n",
       " 'as',\n",
       " 'until',\n",
       " 'while',\n",
       " 'of',\n",
       " 'at',\n",
       " 'by',\n",
       " 'for',\n",
       " 'with',\n",
       " 'about',\n",
       " 'against',\n",
       " 'between',\n",
       " 'into',\n",
       " 'through',\n",
       " 'during',\n",
       " 'before',\n",
       " 'after',\n",
       " 'above',\n",
       " 'below',\n",
       " 'to',\n",
       " 'from',\n",
       " 'up',\n",
       " 'down',\n",
       " 'in',\n",
       " 'out',\n",
       " 'on',\n",
       " 'off',\n",
       " 'over',\n",
       " 'under',\n",
       " 'again',\n",
       " 'further',\n",
       " 'then',\n",
       " 'once',\n",
       " 'here',\n",
       " 'there',\n",
       " 'when',\n",
       " 'where',\n",
       " 'why',\n",
       " 'how',\n",
       " 'all',\n",
       " 'any',\n",
       " 'both',\n",
       " 'each',\n",
       " 'few',\n",
       " 'more',\n",
       " 'most',\n",
       " 'other',\n",
       " 'some',\n",
       " 'such',\n",
       " 'no',\n",
       " 'nor',\n",
       " 'not',\n",
       " 'only',\n",
       " 'own',\n",
       " 'same',\n",
       " 'so',\n",
       " 'than',\n",
       " 'too',\n",
       " 'very',\n",
       " 's',\n",
       " 't',\n",
       " 'can',\n",
       " 'will',\n",
       " 'just',\n",
       " 'don',\n",
       " \"don't\",\n",
       " 'should',\n",
       " \"should've\",\n",
       " 'now',\n",
       " 'd',\n",
       " 'll',\n",
       " 'm',\n",
       " 'o',\n",
       " 're',\n",
       " 've',\n",
       " 'y',\n",
       " 'ain',\n",
       " 'aren',\n",
       " \"aren't\",\n",
       " 'couldn',\n",
       " \"couldn't\",\n",
       " 'didn',\n",
       " \"didn't\",\n",
       " 'doesn',\n",
       " \"doesn't\",\n",
       " 'hadn',\n",
       " \"hadn't\",\n",
       " 'hasn',\n",
       " \"hasn't\",\n",
       " 'haven',\n",
       " \"haven't\",\n",
       " 'isn',\n",
       " \"isn't\",\n",
       " 'ma',\n",
       " 'mightn',\n",
       " \"mightn't\",\n",
       " 'mustn',\n",
       " \"mustn't\",\n",
       " 'needn',\n",
       " \"needn't\",\n",
       " 'shan',\n",
       " \"shan't\",\n",
       " 'shouldn',\n",
       " \"shouldn't\",\n",
       " 'wasn',\n",
       " \"wasn't\",\n",
       " 'weren',\n",
       " \"weren't\",\n",
       " 'won',\n",
       " \"won't\",\n",
       " 'wouldn',\n",
       " \"wouldn't\"]"
      ]
     },
     "execution_count": 38,
     "metadata": {},
     "output_type": "execute_result"
    }
   ],
   "source": [
    "from nltk.corpus import stopwords\n",
    "stop=stopwords.words(\"english\")\n",
    "stop"
   ]
  },
  {
   "cell_type": "code",
   "execution_count": 39,
   "metadata": {},
   "outputs": [],
   "source": [
    "import re"
   ]
  },
  {
   "cell_type": "code",
   "execution_count": 40,
   "metadata": {},
   "outputs": [],
   "source": [
    "import re\n",
    "def clean_text(text):\n",
    "    # specific\n",
    "    text = re.sub(r\"won't\", \"will not\", text)\n",
    "    text = re.sub(r\"can\\'t\", \"can not\", text)\n",
    "    # general\n",
    "    text = re.sub(r\"n\\'t\", \" not\", text)\n",
    "    text = re.sub(r\"\\'re\", \" are\", text)\n",
    "    text = re.sub(r\"\\'s\", \" is\", text)\n",
    "    text = re.sub(r\"\\'d\", \" would\", text)\n",
    "    text = re.sub(r\"\\'ll\", \" will\", text)\n",
    "    text = re.sub(r\"\\'t\", \" not\", text)\n",
    "    text = re.sub(r\"\\'ve\", \" have\", text)\n",
    "    text = re.sub(r\"\\'m\", \" am\", text)\n",
    "    text = text.replace('\\\\r', ' ')\n",
    "    text = text.replace('\\\\n', ' ')\n",
    "    text = text.replace('\\\\\"', ' ')\n",
    "    #text = text.replace('!!!\"', ' ')\n",
    "    text = re.sub(\"(@[A-Za-z0-9]+)|([^A-Za-z0-9']+)|(\\w+:\\/\\/\\S+)\", ' ', text)\n",
    "    text = text.lower().strip()\n",
    "    text = ' '.join(e for e in text.split() if e not in stop)\n",
    "    return text"
   ]
  },
  {
   "cell_type": "code",
   "execution_count": 41,
   "metadata": {},
   "outputs": [
    {
     "data": {
      "text/plain": [
       "0        House Dem Aide: We Didn’t Even See Comey’s Let...\n",
       "1        Ever get the feeling your life circles the rou...\n",
       "2        Why the Truth Might Get You Fired October 29, ...\n",
       "3        Videos 15 Civilians Killed In Single US Airstr...\n",
       "4        Print \\nAn Iranian woman has been sentenced to...\n",
       "                               ...                        \n",
       "20795    Rapper T. I. unloaded on black celebrities who...\n",
       "20796    When the Green Bay Packers lost to the Washing...\n",
       "20797    The Macy’s of today grew from the union of sev...\n",
       "20798    NATO, Russia To Hold Parallel Exercises In Bal...\n",
       "20799      David Swanson is an author, activist, journa...\n",
       "Name: text, Length: 18843, dtype: object"
      ]
     },
     "execution_count": 41,
     "metadata": {},
     "output_type": "execute_result"
    }
   ],
   "source": [
    "df['text']"
   ]
  },
  {
   "cell_type": "code",
   "execution_count": 42,
   "metadata": {},
   "outputs": [],
   "source": [
    "import re\n",
    "def clean_title(title):\n",
    "    # specific\n",
    "    title = re.sub(r\"won't\", \"will not\", title)\n",
    "    title = re.sub(r\"can\\'t\", \"can not\", title)\n",
    "    # general\n",
    "    title = re.sub(r\"n\\'t\", \" not\", title)\n",
    "    title = re.sub(r\"\\'re\", \" are\", title)\n",
    "    title = re.sub(r\"\\'s\", \" is\", title)\n",
    "    title = re.sub(r\"\\'d\", \" would\", title)\n",
    "    title = re.sub(r\"\\'ll\", \" will\", title)\n",
    "    title = re.sub(r\"\\'t\", \" not\", title)\n",
    "    title = re.sub(r\"\\'ve\", \" have\", title)\n",
    "    title = re.sub(r\"\\'m\", \" am\", title)\n",
    "    title = title.replace('\\\\r', ' ')\n",
    "    title = title.replace('\\\\n', ' ')\n",
    "    title = title.replace('\\\\\"', ' ')\n",
    "    #text = text.replace('!!!\"', ' ')\n",
    "    title = re.sub(\"(@[A-Za-z0-9]+)|([^A-Za-z0-9']+)|(\\w+:\\/\\/\\S+)\", ' ', title)\n",
    "    title = title.lower().strip()\n",
    "    title = ' '.join(e for e in title.split() if e not in stop)\n",
    "    return title"
   ]
  },
  {
   "cell_type": "code",
   "execution_count": 43,
   "metadata": {},
   "outputs": [
    {
     "data": {
      "text/plain": [
       "0        House Dem Aide: We Didn’t Even See Comey’s Let...\n",
       "1        Ever get the feeling your life circles the rou...\n",
       "2        Why the Truth Might Get You Fired October 29, ...\n",
       "3        Videos 15 Civilians Killed In Single US Airstr...\n",
       "4        Print \\nAn Iranian woman has been sentenced to...\n",
       "                               ...                        \n",
       "20795    Rapper T. I. unloaded on black celebrities who...\n",
       "20796    When the Green Bay Packers lost to the Washing...\n",
       "20797    The Macy’s of today grew from the union of sev...\n",
       "20798    NATO, Russia To Hold Parallel Exercises In Bal...\n",
       "20799      David Swanson is an author, activist, journa...\n",
       "Name: text, Length: 18843, dtype: object"
      ]
     },
     "execution_count": 43,
     "metadata": {},
     "output_type": "execute_result"
    }
   ],
   "source": [
    "df['text']"
   ]
  },
  {
   "cell_type": "code",
   "execution_count": 44,
   "metadata": {},
   "outputs": [
    {
     "name": "stderr",
     "output_type": "stream",
     "text": [
      "C:\\logs\\lib\\site-packages\\pandas\\core\\generic.py:5170: SettingWithCopyWarning: \n",
      "A value is trying to be set on a copy of a slice from a DataFrame.\n",
      "Try using .loc[row_indexer,col_indexer] = value instead\n",
      "\n",
      "See the caveats in the documentation: https://pandas.pydata.org/pandas-docs/stable/user_guide/indexing.html#returning-a-view-versus-a-copy\n",
      "  self[name] = value\n"
     ]
    },
    {
     "data": {
      "text/plain": [
       "0        house dem aide even see comey letter jason cha...\n",
       "1        ever get feeling life circles roundabout rathe...\n",
       "2        truth might get fired october 29 2016 tension ...\n",
       "3        videos 15 civilians killed single us airstrike...\n",
       "4        print iranian woman sentenced six years prison...\n",
       "                               ...                        \n",
       "20795    rapper unloaded black celebrities met donald t...\n",
       "20796    green bay packers lost washington redskins wee...\n",
       "20797    macy today grew union several great names amer...\n",
       "20798    nato russia hold parallel exercises balkans 11...\n",
       "20799    david swanson author activist journalist radio...\n",
       "Name: text, Length: 18843, dtype: object"
      ]
     },
     "execution_count": 44,
     "metadata": {},
     "output_type": "execute_result"
    }
   ],
   "source": [
    "df.text= df[\"text\"].apply(clean_text)\n",
    "df.text"
   ]
  },
  {
   "cell_type": "code",
   "execution_count": 45,
   "metadata": {},
   "outputs": [
    {
     "data": {
      "text/html": [
       "<div>\n",
       "<style scoped>\n",
       "    .dataframe tbody tr th:only-of-type {\n",
       "        vertical-align: middle;\n",
       "    }\n",
       "\n",
       "    .dataframe tbody tr th {\n",
       "        vertical-align: top;\n",
       "    }\n",
       "\n",
       "    .dataframe thead th {\n",
       "        text-align: right;\n",
       "    }\n",
       "</style>\n",
       "<table border=\"1\" class=\"dataframe\">\n",
       "  <thead>\n",
       "    <tr style=\"text-align: right;\">\n",
       "      <th></th>\n",
       "      <th>id</th>\n",
       "      <th>title</th>\n",
       "      <th>author</th>\n",
       "      <th>text</th>\n",
       "      <th>label</th>\n",
       "    </tr>\n",
       "  </thead>\n",
       "  <tbody>\n",
       "    <tr>\n",
       "      <th>0</th>\n",
       "      <td>0</td>\n",
       "      <td>house dem aide even see comey letter jason cha...</td>\n",
       "      <td>Darrell Lucus</td>\n",
       "      <td>house dem aide even see comey letter jason cha...</td>\n",
       "      <td>1</td>\n",
       "    </tr>\n",
       "    <tr>\n",
       "      <th>1</th>\n",
       "      <td>1</td>\n",
       "      <td>flynn hillary clinton big woman campus breitbart</td>\n",
       "      <td>Daniel J. Flynn</td>\n",
       "      <td>ever get feeling life circles roundabout rathe...</td>\n",
       "      <td>0</td>\n",
       "    </tr>\n",
       "    <tr>\n",
       "      <th>2</th>\n",
       "      <td>2</td>\n",
       "      <td>truth might get fired</td>\n",
       "      <td>Consortiumnews.com</td>\n",
       "      <td>truth might get fired october 29 2016 tension ...</td>\n",
       "      <td>1</td>\n",
       "    </tr>\n",
       "    <tr>\n",
       "      <th>3</th>\n",
       "      <td>3</td>\n",
       "      <td>15 civilians killed single us airstrike identi...</td>\n",
       "      <td>Jessica Purkiss</td>\n",
       "      <td>videos 15 civilians killed single us airstrike...</td>\n",
       "      <td>1</td>\n",
       "    </tr>\n",
       "    <tr>\n",
       "      <th>4</th>\n",
       "      <td>4</td>\n",
       "      <td>iranian woman jailed fictional unpublished sto...</td>\n",
       "      <td>Howard Portnoy</td>\n",
       "      <td>print iranian woman sentenced six years prison...</td>\n",
       "      <td>1</td>\n",
       "    </tr>\n",
       "  </tbody>\n",
       "</table>\n",
       "</div>"
      ],
      "text/plain": [
       "   id                                              title              author  \\\n",
       "0   0  house dem aide even see comey letter jason cha...       Darrell Lucus   \n",
       "1   1   flynn hillary clinton big woman campus breitbart     Daniel J. Flynn   \n",
       "2   2                              truth might get fired  Consortiumnews.com   \n",
       "3   3  15 civilians killed single us airstrike identi...     Jessica Purkiss   \n",
       "4   4  iranian woman jailed fictional unpublished sto...      Howard Portnoy   \n",
       "\n",
       "                                                text  label  \n",
       "0  house dem aide even see comey letter jason cha...      1  \n",
       "1  ever get feeling life circles roundabout rathe...      0  \n",
       "2  truth might get fired october 29 2016 tension ...      1  \n",
       "3  videos 15 civilians killed single us airstrike...      1  \n",
       "4  print iranian woman sentenced six years prison...      1  "
      ]
     },
     "execution_count": 45,
     "metadata": {},
     "output_type": "execute_result"
    }
   ],
   "source": [
    "df.title= df[\"title\"].apply(clean_title)\n",
    "df.head()"
   ]
  },
  {
   "cell_type": "code",
   "execution_count": 46,
   "metadata": {},
   "outputs": [
    {
     "data": {
      "text/html": [
       "<div>\n",
       "<style scoped>\n",
       "    .dataframe tbody tr th:only-of-type {\n",
       "        vertical-align: middle;\n",
       "    }\n",
       "\n",
       "    .dataframe tbody tr th {\n",
       "        vertical-align: top;\n",
       "    }\n",
       "\n",
       "    .dataframe thead th {\n",
       "        text-align: right;\n",
       "    }\n",
       "</style>\n",
       "<table border=\"1\" class=\"dataframe\">\n",
       "  <thead>\n",
       "    <tr style=\"text-align: right;\">\n",
       "      <th></th>\n",
       "      <th>title</th>\n",
       "      <th>text</th>\n",
       "      <th>label</th>\n",
       "    </tr>\n",
       "  </thead>\n",
       "  <tbody>\n",
       "    <tr>\n",
       "      <th>0</th>\n",
       "      <td>house dem aide even see comey letter jason cha...</td>\n",
       "      <td>house dem aide even see comey letter jason cha...</td>\n",
       "      <td>1</td>\n",
       "    </tr>\n",
       "    <tr>\n",
       "      <th>1</th>\n",
       "      <td>flynn hillary clinton big woman campus breitbart</td>\n",
       "      <td>ever get feeling life circles roundabout rathe...</td>\n",
       "      <td>0</td>\n",
       "    </tr>\n",
       "    <tr>\n",
       "      <th>2</th>\n",
       "      <td>truth might get fired</td>\n",
       "      <td>truth might get fired october 29 2016 tension ...</td>\n",
       "      <td>1</td>\n",
       "    </tr>\n",
       "    <tr>\n",
       "      <th>3</th>\n",
       "      <td>15 civilians killed single us airstrike identi...</td>\n",
       "      <td>videos 15 civilians killed single us airstrike...</td>\n",
       "      <td>1</td>\n",
       "    </tr>\n",
       "    <tr>\n",
       "      <th>4</th>\n",
       "      <td>iranian woman jailed fictional unpublished sto...</td>\n",
       "      <td>print iranian woman sentenced six years prison...</td>\n",
       "      <td>1</td>\n",
       "    </tr>\n",
       "    <tr>\n",
       "      <th>...</th>\n",
       "      <td>...</td>\n",
       "      <td>...</td>\n",
       "      <td>...</td>\n",
       "    </tr>\n",
       "    <tr>\n",
       "      <th>20795</th>\n",
       "      <td>rapper trump poster child white supremacy</td>\n",
       "      <td>rapper unloaded black celebrities met donald t...</td>\n",
       "      <td>0</td>\n",
       "    </tr>\n",
       "    <tr>\n",
       "      <th>20796</th>\n",
       "      <td>n f l playoffs schedule matchups odds new york...</td>\n",
       "      <td>green bay packers lost washington redskins wee...</td>\n",
       "      <td>0</td>\n",
       "    </tr>\n",
       "    <tr>\n",
       "      <th>20797</th>\n",
       "      <td>macy said receive takeover approach hudson bay...</td>\n",
       "      <td>macy today grew union several great names amer...</td>\n",
       "      <td>0</td>\n",
       "    </tr>\n",
       "    <tr>\n",
       "      <th>20798</th>\n",
       "      <td>nato russia hold parallel exercises balkans</td>\n",
       "      <td>nato russia hold parallel exercises balkans 11...</td>\n",
       "      <td>1</td>\n",
       "    </tr>\n",
       "    <tr>\n",
       "      <th>20799</th>\n",
       "      <td>keeps f 35 alive</td>\n",
       "      <td>david swanson author activist journalist radio...</td>\n",
       "      <td>1</td>\n",
       "    </tr>\n",
       "  </tbody>\n",
       "</table>\n",
       "<p>18843 rows × 3 columns</p>\n",
       "</div>"
      ],
      "text/plain": [
       "                                                   title  \\\n",
       "0      house dem aide even see comey letter jason cha...   \n",
       "1       flynn hillary clinton big woman campus breitbart   \n",
       "2                                  truth might get fired   \n",
       "3      15 civilians killed single us airstrike identi...   \n",
       "4      iranian woman jailed fictional unpublished sto...   \n",
       "...                                                  ...   \n",
       "20795          rapper trump poster child white supremacy   \n",
       "20796  n f l playoffs schedule matchups odds new york...   \n",
       "20797  macy said receive takeover approach hudson bay...   \n",
       "20798        nato russia hold parallel exercises balkans   \n",
       "20799                                   keeps f 35 alive   \n",
       "\n",
       "                                                    text  label  \n",
       "0      house dem aide even see comey letter jason cha...      1  \n",
       "1      ever get feeling life circles roundabout rathe...      0  \n",
       "2      truth might get fired october 29 2016 tension ...      1  \n",
       "3      videos 15 civilians killed single us airstrike...      1  \n",
       "4      print iranian woman sentenced six years prison...      1  \n",
       "...                                                  ...    ...  \n",
       "20795  rapper unloaded black celebrities met donald t...      0  \n",
       "20796  green bay packers lost washington redskins wee...      0  \n",
       "20797  macy today grew union several great names amer...      0  \n",
       "20798  nato russia hold parallel exercises balkans 11...      1  \n",
       "20799  david swanson author activist journalist radio...      1  \n",
       "\n",
       "[18843 rows x 3 columns]"
      ]
     },
     "execution_count": 46,
     "metadata": {},
     "output_type": "execute_result"
    }
   ],
   "source": [
    "df=df.drop(['id','author'],axis=1)\n",
    "df"
   ]
  },
  {
   "cell_type": "code",
   "execution_count": 47,
   "metadata": {},
   "outputs": [
    {
     "data": {
      "text/plain": [
       "0    0.549859\n",
       "1    0.450141\n",
       "Name: label, dtype: float64"
      ]
     },
     "execution_count": 47,
     "metadata": {},
     "output_type": "execute_result"
    }
   ],
   "source": [
    "df.label.value_counts(normalize=True)"
   ]
  },
  {
   "cell_type": "code",
   "execution_count": 48,
   "metadata": {},
   "outputs": [
    {
     "data": {
      "text/html": [
       "<div>\n",
       "<style scoped>\n",
       "    .dataframe tbody tr th:only-of-type {\n",
       "        vertical-align: middle;\n",
       "    }\n",
       "\n",
       "    .dataframe tbody tr th {\n",
       "        vertical-align: top;\n",
       "    }\n",
       "\n",
       "    .dataframe thead th {\n",
       "        text-align: right;\n",
       "    }\n",
       "</style>\n",
       "<table border=\"1\" class=\"dataframe\">\n",
       "  <thead>\n",
       "    <tr style=\"text-align: right;\">\n",
       "      <th></th>\n",
       "      <th>title</th>\n",
       "      <th>text</th>\n",
       "      <th>label</th>\n",
       "    </tr>\n",
       "  </thead>\n",
       "  <tbody>\n",
       "    <tr>\n",
       "      <th>0</th>\n",
       "      <td>house dem aide even see comey letter jason cha...</td>\n",
       "      <td>house dem aide even see comey letter jason cha...</td>\n",
       "      <td>1</td>\n",
       "    </tr>\n",
       "    <tr>\n",
       "      <th>1</th>\n",
       "      <td>flynn hillary clinton big woman campus breitbart</td>\n",
       "      <td>ever get feel life circle roundabout rather he...</td>\n",
       "      <td>0</td>\n",
       "    </tr>\n",
       "    <tr>\n",
       "      <th>2</th>\n",
       "      <td>truth might get fire</td>\n",
       "      <td>truth might get fire october 29 2016 tension i...</td>\n",
       "      <td>1</td>\n",
       "    </tr>\n",
       "    <tr>\n",
       "      <th>3</th>\n",
       "      <td>15 civilians kill single us airstrike identify</td>\n",
       "      <td>videos 15 civilians kill single us airstrike i...</td>\n",
       "      <td>1</td>\n",
       "    </tr>\n",
       "    <tr>\n",
       "      <th>4</th>\n",
       "      <td>iranian woman jail fictional unpublished story...</td>\n",
       "      <td>print iranian woman sentence six years prison ...</td>\n",
       "      <td>1</td>\n",
       "    </tr>\n",
       "  </tbody>\n",
       "</table>\n",
       "</div>"
      ],
      "text/plain": [
       "                                               title  \\\n",
       "0  house dem aide even see comey letter jason cha...   \n",
       "1   flynn hillary clinton big woman campus breitbart   \n",
       "2                               truth might get fire   \n",
       "3     15 civilians kill single us airstrike identify   \n",
       "4  iranian woman jail fictional unpublished story...   \n",
       "\n",
       "                                                text  label  \n",
       "0  house dem aide even see comey letter jason cha...      1  \n",
       "1  ever get feel life circle roundabout rather he...      0  \n",
       "2  truth might get fire october 29 2016 tension i...      1  \n",
       "3  videos 15 civilians kill single us airstrike i...      1  \n",
       "4  print iranian woman sentence six years prison ...      1  "
      ]
     },
     "execution_count": 48,
     "metadata": {},
     "output_type": "execute_result"
    }
   ],
   "source": [
    "#Applying Lemmatization\n",
    "from nltk.stem.wordnet import WordNetLemmatizer\n",
    "w = WordNetLemmatizer()\n",
    "df.text=df.text.apply(lambda x:' '.join([w.lemmatize(word,'v') for word in x.split()])) # v stands for verb\n",
    "df.title=df.title.apply(lambda x:' '.join([w.lemmatize(word,'v') for word in x.split()]))\n",
    "df.head()"
   ]
  },
  {
   "cell_type": "code",
   "execution_count": 49,
   "metadata": {},
   "outputs": [
    {
     "data": {
      "text/plain": [
       "0    0.549859\n",
       "1    0.450141\n",
       "Name: label, dtype: float64"
      ]
     },
     "execution_count": 49,
     "metadata": {},
     "output_type": "execute_result"
    }
   ],
   "source": [
    "df.label.value_counts(normalize=True)"
   ]
  },
  {
   "cell_type": "code",
   "execution_count": 50,
   "metadata": {},
   "outputs": [],
   "source": [
    "import pandas as pd\n",
    "from sklearn.feature_extraction.text import CountVectorizer\n",
    "vectorizer = CountVectorizer()\n",
    "x = vectorizer.fit(df.text)\n",
    "#print(pd.DataFrame(x.A, columns=vectorizer.get_feature_names()).to_string())\n"
   ]
  },
  {
   "cell_type": "code",
   "execution_count": 51,
   "metadata": {},
   "outputs": [
    {
     "data": {
      "text/plain": [
       "['00',\n",
       " '000',\n",
       " '0000',\n",
       " '000035',\n",
       " '0001',\n",
       " '00012',\n",
       " '0002',\n",
       " '000202',\n",
       " '000205',\n",
       " '0002062',\n",
       " '000billion',\n",
       " '000c',\n",
       " '000k',\n",
       " '000km',\n",
       " '000lb',\n",
       " '000m',\n",
       " '000mg',\n",
       " '000s',\n",
       " '000th',\n",
       " '001',\n",
       " '0011',\n",
       " '0012',\n",
       " '0013',\n",
       " '002',\n",
       " '0020143',\n",
       " '0023z',\n",
       " '0024',\n",
       " '003',\n",
       " '004',\n",
       " '004s',\n",
       " '005',\n",
       " '0054z',\n",
       " '0057',\n",
       " '005s',\n",
       " '006',\n",
       " '00684',\n",
       " '006s',\n",
       " '007',\n",
       " '007s',\n",
       " '008',\n",
       " '008s',\n",
       " '009',\n",
       " '0099',\n",
       " '00am',\n",
       " '00o',\n",
       " '00p',\n",
       " '00pm',\n",
       " '01',\n",
       " '010',\n",
       " '0101',\n",
       " '0102',\n",
       " '0107y',\n",
       " '011s',\n",
       " '012',\n",
       " '0128',\n",
       " '013',\n",
       " '0134',\n",
       " '0135y',\n",
       " '014',\n",
       " '015',\n",
       " '017',\n",
       " '018',\n",
       " '019',\n",
       " '01915',\n",
       " '01am',\n",
       " '01pm',\n",
       " '01s',\n",
       " '01welcome',\n",
       " '02',\n",
       " '020',\n",
       " '0200gmt',\n",
       " '021',\n",
       " '022',\n",
       " '023',\n",
       " '024',\n",
       " '025',\n",
       " '026',\n",
       " '027',\n",
       " '02714',\n",
       " '028',\n",
       " '02863',\n",
       " '02870',\n",
       " '029',\n",
       " '02pm',\n",
       " '02welcome',\n",
       " '03',\n",
       " '030',\n",
       " '031',\n",
       " '032',\n",
       " '0325',\n",
       " '033',\n",
       " '0331',\n",
       " '033s',\n",
       " '034',\n",
       " '035',\n",
       " '036',\n",
       " '03747',\n",
       " '038',\n",
       " '039',\n",
       " '03am',\n",
       " '03eb',\n",
       " '03pm',\n",
       " '04',\n",
       " '040',\n",
       " '041',\n",
       " '042',\n",
       " '043',\n",
       " '045',\n",
       " '046',\n",
       " '047',\n",
       " '048',\n",
       " '049',\n",
       " '04am',\n",
       " '04pm',\n",
       " '05',\n",
       " '050',\n",
       " '0500america',\n",
       " '0509245d29',\n",
       " '051',\n",
       " '052',\n",
       " '053',\n",
       " '053s',\n",
       " '055',\n",
       " '056',\n",
       " '057',\n",
       " '058',\n",
       " '059',\n",
       " '06',\n",
       " '060',\n",
       " '0600',\n",
       " '061',\n",
       " '062',\n",
       " '063',\n",
       " '064',\n",
       " '0640',\n",
       " '065',\n",
       " '066',\n",
       " '067',\n",
       " '068',\n",
       " '069',\n",
       " '06pm',\n",
       " '06quito2150',\n",
       " '06quito2991',\n",
       " '07',\n",
       " '070',\n",
       " '0700',\n",
       " '071',\n",
       " '072',\n",
       " '074',\n",
       " '075',\n",
       " '076',\n",
       " '077',\n",
       " '078',\n",
       " '079',\n",
       " '07pm',\n",
       " '08',\n",
       " '080',\n",
       " '0800',\n",
       " '080808',\n",
       " '081',\n",
       " '082',\n",
       " '083',\n",
       " '08365472',\n",
       " '084',\n",
       " '085',\n",
       " '087',\n",
       " '089',\n",
       " '0891',\n",
       " '0896n',\n",
       " '08hrs',\n",
       " '09',\n",
       " '090',\n",
       " '090aa',\n",
       " '091',\n",
       " '094',\n",
       " '095',\n",
       " '096451',\n",
       " '097',\n",
       " '098',\n",
       " '098263',\n",
       " '09k1xgyjns',\n",
       " '09l',\n",
       " '09pm',\n",
       " '0a',\n",
       " '0d',\n",
       " '0dpbdk6rjd',\n",
       " '0fjjvowyhg8qtskiz',\n",
       " '0h4at2yetra17uxetni02ls2jeg0mty45jrcu7mrzsrpcbq464i',\n",
       " '0hour',\n",
       " '0hour1',\n",
       " '0hq3vb2giv',\n",
       " '0j6tjyeysh',\n",
       " '0k',\n",
       " '0lxfawgztu',\n",
       " '0m87gioy8c',\n",
       " '0mp7jvswy1',\n",
       " '0n',\n",
       " '0oeekvljlt',\n",
       " '0pbruepg1o',\n",
       " '0pen',\n",
       " '0s',\n",
       " '0sdvzjgofq',\n",
       " '0shpgahsnw',\n",
       " '0t5',\n",
       " '0txrbwvobzz4fi5nksw6k5a6cxzbb3juxthmdiz93cby8gvrqiypzhajvjnt2',\n",
       " '0womdwalmi',\n",
       " '0x',\n",
       " '0x10004ba0',\n",
       " '0x10012aa4',\n",
       " '0x402560',\n",
       " '0x40f598ac21c8ad899727137c4b94458d7aa8d8',\n",
       " '10',\n",
       " '100',\n",
       " '1000',\n",
       " '10000',\n",
       " '1000000',\n",
       " '10000s',\n",
       " '10009020',\n",
       " '1000mg',\n",
       " '1000s',\n",
       " '1000th',\n",
       " '1000x',\n",
       " '1001',\n",
       " '100115997',\n",
       " '10016',\n",
       " '1002',\n",
       " '1004',\n",
       " '1004381107',\n",
       " '10086',\n",
       " '10087',\n",
       " '100bn',\n",
       " '100cr6',\n",
       " '100g',\n",
       " '100k',\n",
       " '100kloc',\n",
       " '100lbs',\n",
       " '100percentfedup',\n",
       " '100s',\n",
       " '100th',\n",
       " '100x',\n",
       " '100yearsstrong',\n",
       " '101',\n",
       " '1010',\n",
       " '10102',\n",
       " '1012',\n",
       " '1013th',\n",
       " '1014',\n",
       " '101m',\n",
       " '101st',\n",
       " '102',\n",
       " '1024026',\n",
       " '102716',\n",
       " '10272016',\n",
       " '102816',\n",
       " '102836002',\n",
       " '1029',\n",
       " '102nd',\n",
       " '103',\n",
       " '1032',\n",
       " '1033',\n",
       " '1038',\n",
       " '103d',\n",
       " '103rd',\n",
       " '104',\n",
       " '1040',\n",
       " '1040s',\n",
       " '1040x',\n",
       " '104396002',\n",
       " '1047622',\n",
       " '104893',\n",
       " '10492',\n",
       " '104th',\n",
       " '105',\n",
       " '1050',\n",
       " '1052',\n",
       " '1054',\n",
       " '1055',\n",
       " '1058',\n",
       " '105th',\n",
       " '106',\n",
       " '1060',\n",
       " '106116001',\n",
       " '1064',\n",
       " '1065',\n",
       " '1066',\n",
       " '1067',\n",
       " '106th',\n",
       " '107',\n",
       " '1070',\n",
       " '1073',\n",
       " '1078',\n",
       " '1079',\n",
       " '108',\n",
       " '1080',\n",
       " '108000',\n",
       " '108th',\n",
       " '109',\n",
       " '1091',\n",
       " '1093',\n",
       " '1095',\n",
       " '1099',\n",
       " '109th',\n",
       " '10a',\n",
       " '10am',\n",
       " '10b',\n",
       " '10bn',\n",
       " '10et',\n",
       " '10f',\n",
       " '10ft',\n",
       " '10k',\n",
       " '10km',\n",
       " '10m',\n",
       " '10m54s',\n",
       " '10mg',\n",
       " '10mm',\n",
       " '10ng',\n",
       " '10p',\n",
       " '10pm',\n",
       " '10pm31pmf',\n",
       " '10q',\n",
       " '10rounds',\n",
       " '10s',\n",
       " '10th',\n",
       " '10ths',\n",
       " '10x',\n",
       " '10y',\n",
       " '10yrs',\n",
       " '11',\n",
       " '110',\n",
       " '1100',\n",
       " '1100s',\n",
       " '1101',\n",
       " '110136001',\n",
       " '1103',\n",
       " '1105',\n",
       " '1105759579497225',\n",
       " '11063387',\n",
       " '1107',\n",
       " '110913',\n",
       " '110k',\n",
       " '110th',\n",
       " '111',\n",
       " '11110',\n",
       " '1112',\n",
       " '1116',\n",
       " '1117',\n",
       " '111925',\n",
       " '111928',\n",
       " '111th',\n",
       " '112',\n",
       " '1121',\n",
       " '1123',\n",
       " '112th',\n",
       " '113',\n",
       " '11356',\n",
       " '1137',\n",
       " '1138',\n",
       " '113th',\n",
       " '114',\n",
       " '1140',\n",
       " '1146',\n",
       " '1149',\n",
       " '114th',\n",
       " '115',\n",
       " '1150',\n",
       " '11540',\n",
       " '1157',\n",
       " '115aug',\n",
       " '115th',\n",
       " '116',\n",
       " '1160',\n",
       " '11615',\n",
       " '1166',\n",
       " '1168',\n",
       " '1169',\n",
       " '116th',\n",
       " '117',\n",
       " '1171',\n",
       " '1172',\n",
       " '1177',\n",
       " '1178',\n",
       " '117th',\n",
       " '118',\n",
       " '1180',\n",
       " '1182',\n",
       " '1182f',\n",
       " '1183',\n",
       " '1186',\n",
       " '118k',\n",
       " '118th',\n",
       " '119',\n",
       " '1199',\n",
       " '11a',\n",
       " '11am',\n",
       " '11b',\n",
       " '11c',\n",
       " '11cm',\n",
       " '11million',\n",
       " '11mn',\n",
       " '11pm',\n",
       " '11s',\n",
       " '11t',\n",
       " '11th',\n",
       " '11truly',\n",
       " '11truther',\n",
       " '12',\n",
       " '120',\n",
       " '1200',\n",
       " '12000',\n",
       " '1200euros',\n",
       " '1202',\n",
       " '1204840109',\n",
       " '1207',\n",
       " '120bn',\n",
       " '120k',\n",
       " '120mm',\n",
       " '120mph',\n",
       " '120th',\n",
       " '121',\n",
       " '1210',\n",
       " '12113',\n",
       " '1212',\n",
       " '1215',\n",
       " '1219',\n",
       " '122',\n",
       " '1226',\n",
       " '1228',\n",
       " '122nd',\n",
       " '123',\n",
       " '1230',\n",
       " '12333',\n",
       " '1234',\n",
       " '123421',\n",
       " '12345',\n",
       " '1234567',\n",
       " '124',\n",
       " '1240',\n",
       " '1244',\n",
       " '124th',\n",
       " '125',\n",
       " '1250',\n",
       " '1252',\n",
       " '1253',\n",
       " '1258',\n",
       " '1259',\n",
       " '125k',\n",
       " '125mm',\n",
       " '125th',\n",
       " '126',\n",
       " '1260',\n",
       " '1262',\n",
       " '127',\n",
       " '12702162',\n",
       " '1274',\n",
       " '1279',\n",
       " '127th',\n",
       " '128',\n",
       " '1280',\n",
       " '1282',\n",
       " '1287',\n",
       " '1289',\n",
       " '128th',\n",
       " '128ths',\n",
       " '129',\n",
       " '1290',\n",
       " '1291',\n",
       " '1294',\n",
       " '1295',\n",
       " '1296',\n",
       " '12982104',\n",
       " '12anglaieb',\n",
       " '12b',\n",
       " '12ft',\n",
       " '12gb',\n",
       " '12h',\n",
       " '12hdlgeeua87t2ju8m4tbro247yj5u2tvp',\n",
       " '12k',\n",
       " '12m',\n",
       " '12mn',\n",
       " '12newsnow',\n",
       " '12pm',\n",
       " '12sso1zj2bbdguiraddmamlnets7oc1',\n",
       " '12t',\n",
       " '12th',\n",
       " '13',\n",
       " '130',\n",
       " '1300',\n",
       " '1301',\n",
       " '1303',\n",
       " '1306',\n",
       " '130s',\n",
       " '130th',\n",
       " '131',\n",
       " '1313',\n",
       " '1315',\n",
       " '1318',\n",
       " '1319',\n",
       " '131st',\n",
       " '132',\n",
       " '13224',\n",
       " '1323',\n",
       " '1324',\n",
       " '133',\n",
       " '134',\n",
       " '134386',\n",
       " '134742',\n",
       " '135',\n",
       " '1352',\n",
       " '1357',\n",
       " '135ad',\n",
       " '135s',\n",
       " '135th',\n",
       " '136',\n",
       " '13603',\n",
       " '1363',\n",
       " '1364',\n",
       " '13679',\n",
       " '1368',\n",
       " '136th',\n",
       " '137',\n",
       " '1371',\n",
       " '1373',\n",
       " '13738',\n",
       " '1375',\n",
       " '13769',\n",
       " '13780',\n",
       " '137894',\n",
       " '137th',\n",
       " '138',\n",
       " '1381',\n",
       " '139',\n",
       " '1393',\n",
       " '1396',\n",
       " '139th',\n",
       " '13a',\n",
       " '13apr17',\n",
       " '13b',\n",
       " '13onze15',\n",
       " '13pm',\n",
       " '13th',\n",
       " '13the',\n",
       " '13y',\n",
       " '14',\n",
       " '140',\n",
       " '1400',\n",
       " '1400s',\n",
       " '140230',\n",
       " '141',\n",
       " '14141',\n",
       " '141st',\n",
       " '142',\n",
       " '1425817301725',\n",
       " '1426',\n",
       " '142nd',\n",
       " '143',\n",
       " '1431',\n",
       " '1437',\n",
       " '1438',\n",
       " '1439',\n",
       " '143rd',\n",
       " '144',\n",
       " '1440',\n",
       " '1441',\n",
       " '14432034680',\n",
       " '14482302',\n",
       " '144px',\n",
       " '144s',\n",
       " '144th',\n",
       " '145',\n",
       " '1453',\n",
       " '1455',\n",
       " '145th',\n",
       " '146',\n",
       " '1460',\n",
       " '1461',\n",
       " '1464',\n",
       " '146m',\n",
       " '146th',\n",
       " '147',\n",
       " '1471',\n",
       " '14728',\n",
       " '1475',\n",
       " '1477',\n",
       " '1478',\n",
       " '1479',\n",
       " '148',\n",
       " '1482',\n",
       " '1483',\n",
       " '1485',\n",
       " '1487',\n",
       " '1488',\n",
       " '148th',\n",
       " '149',\n",
       " '1492',\n",
       " '1493',\n",
       " '1497',\n",
       " '1498',\n",
       " '1499',\n",
       " '14a',\n",
       " '14am',\n",
       " '14b',\n",
       " '14bn',\n",
       " '14c',\n",
       " '14hr',\n",
       " '14k',\n",
       " '14kwh',\n",
       " '14mm',\n",
       " '14px',\n",
       " '14th',\n",
       " '15',\n",
       " '150',\n",
       " '1500',\n",
       " '1500s',\n",
       " '1501',\n",
       " '1502',\n",
       " '1503',\n",
       " '1506',\n",
       " '1508',\n",
       " '1509',\n",
       " '150k',\n",
       " '150km',\n",
       " '150th',\n",
       " '151',\n",
       " '1510',\n",
       " '1511',\n",
       " '1513',\n",
       " '1516',\n",
       " '1517',\n",
       " '1519',\n",
       " '151st',\n",
       " '152',\n",
       " '1520s',\n",
       " '1521',\n",
       " '1523',\n",
       " '1526',\n",
       " '1527',\n",
       " '152nd',\n",
       " '153',\n",
       " '1532',\n",
       " '1533',\n",
       " '1534',\n",
       " '1536',\n",
       " '1538',\n",
       " '153rd',\n",
       " '154',\n",
       " '1540',\n",
       " '1541',\n",
       " '1543',\n",
       " '15488',\n",
       " '1549',\n",
       " '154s',\n",
       " '154th',\n",
       " '155',\n",
       " '1552',\n",
       " '1554',\n",
       " '1555',\n",
       " '1558',\n",
       " '1559',\n",
       " '155mm',\n",
       " '155th',\n",
       " '156',\n",
       " '1560',\n",
       " '1562',\n",
       " '1563',\n",
       " '1565',\n",
       " '1566',\n",
       " '1569',\n",
       " '156th',\n",
       " '157',\n",
       " '1575',\n",
       " '1576',\n",
       " '1578',\n",
       " '157th',\n",
       " '158',\n",
       " '1582',\n",
       " '1584',\n",
       " '1588',\n",
       " '15893',\n",
       " '159',\n",
       " '159022597',\n",
       " '1591',\n",
       " '1596',\n",
       " '1597',\n",
       " '15975445007',\n",
       " '1598',\n",
       " '15am',\n",
       " '15b',\n",
       " '15cwt',\n",
       " '15g',\n",
       " '15hrs',\n",
       " '15k',\n",
       " '15million',\n",
       " '15mm',\n",
       " '15oz',\n",
       " '15pm',\n",
       " '15s',\n",
       " '15sa',\n",
       " '15sf',\n",
       " '15th',\n",
       " '16',\n",
       " '160',\n",
       " '1600',\n",
       " '1600s',\n",
       " '1602',\n",
       " '1604',\n",
       " '1605',\n",
       " '1606',\n",
       " '1607',\n",
       " '1608',\n",
       " '160c',\n",
       " '160k',\n",
       " '160th',\n",
       " '161',\n",
       " '1610',\n",
       " '1611',\n",
       " '1612',\n",
       " '1613',\n",
       " '1614',\n",
       " '1615',\n",
       " '1616',\n",
       " '1619',\n",
       " '161st',\n",
       " '162',\n",
       " '1620',\n",
       " '1620s',\n",
       " '1621',\n",
       " '1622',\n",
       " '16222',\n",
       " '16227',\n",
       " '16236675004',\n",
       " '1625',\n",
       " '16277580',\n",
       " '1628',\n",
       " '162lvbnkan',\n",
       " '163',\n",
       " '1632',\n",
       " '1633',\n",
       " '1636',\n",
       " '1637',\n",
       " '164',\n",
       " '1644',\n",
       " '1645',\n",
       " '1646',\n",
       " '1648',\n",
       " '1649',\n",
       " '16490835',\n",
       " '165',\n",
       " '1650',\n",
       " '1652',\n",
       " '1653',\n",
       " '166',\n",
       " '1660',\n",
       " '1661',\n",
       " '1663',\n",
       " '1665',\n",
       " '1666',\n",
       " '1667',\n",
       " '1669',\n",
       " '167',\n",
       " '1670',\n",
       " '1670s',\n",
       " '1672',\n",
       " '1675',\n",
       " '1676',\n",
       " '1679',\n",
       " '168',\n",
       " '1680',\n",
       " '1681',\n",
       " '1685',\n",
       " '169',\n",
       " '1690',\n",
       " '1692',\n",
       " '1693',\n",
       " '1695',\n",
       " '1697',\n",
       " '1698',\n",
       " '16a52',\n",
       " '16bn',\n",
       " '16g',\n",
       " '16gb',\n",
       " '16k',\n",
       " '16pm',\n",
       " '16s',\n",
       " '16th',\n",
       " '16yo',\n",
       " '16yrs',\n",
       " '17',\n",
       " '170',\n",
       " '1700',\n",
       " '1700s',\n",
       " '1701',\n",
       " '17025',\n",
       " '1703',\n",
       " '1704',\n",
       " '17062738',\n",
       " '1707',\n",
       " '170c',\n",
       " '170th',\n",
       " '171',\n",
       " '1711',\n",
       " '17128239585',\n",
       " '1713',\n",
       " '1714',\n",
       " '1716',\n",
       " '1717',\n",
       " '172',\n",
       " '1720',\n",
       " '1721',\n",
       " '1722',\n",
       " '1723',\n",
       " '1724',\n",
       " '1725',\n",
       " '172nd',\n",
       " '173',\n",
       " '1730s',\n",
       " '1735',\n",
       " '1737',\n",
       " '1738',\n",
       " '1739',\n",
       " '174',\n",
       " '17402028608',\n",
       " '1742',\n",
       " '1744',\n",
       " '1745',\n",
       " '1746',\n",
       " '1748',\n",
       " '175',\n",
       " '1750',\n",
       " '1752',\n",
       " '1753',\n",
       " '1757',\n",
       " '175th',\n",
       " '175x',\n",
       " '176',\n",
       " '1760',\n",
       " '1763',\n",
       " '1769',\n",
       " '177',\n",
       " '1770',\n",
       " '1770s',\n",
       " '1771',\n",
       " '1772',\n",
       " '1773',\n",
       " '1774',\n",
       " '1775',\n",
       " '1776',\n",
       " '1777',\n",
       " '1778',\n",
       " '1779',\n",
       " '177a',\n",
       " '178',\n",
       " '1780',\n",
       " '1780s',\n",
       " '1781',\n",
       " '1783',\n",
       " '1786',\n",
       " '1787',\n",
       " '1788',\n",
       " '1789',\n",
       " '179',\n",
       " '1790',\n",
       " '1790s',\n",
       " '1791',\n",
       " '1792',\n",
       " '1793',\n",
       " '1794',\n",
       " '1795',\n",
       " '1795583',\n",
       " '1796',\n",
       " '1797',\n",
       " '1799',\n",
       " '179th',\n",
       " '17am',\n",
       " '17b2908f',\n",
       " '17b2908ff9fa45188d243fd49aaeeb2dhrcofficecom',\n",
       " '17cv141',\n",
       " '17cv50',\n",
       " '17k',\n",
       " '17million',\n",
       " '17px',\n",
       " '17s',\n",
       " '17th',\n",
       " '18',\n",
       " '180',\n",
       " '1800',\n",
       " '1800flowers',\n",
       " '1800s',\n",
       " '1801',\n",
       " '1802',\n",
       " '1804',\n",
       " '1805',\n",
       " '1806',\n",
       " '1807',\n",
       " '1808',\n",
       " '18087936',\n",
       " '180b',\n",
       " '180k',\n",
       " '181',\n",
       " '1810',\n",
       " '1811',\n",
       " '1812',\n",
       " '1814',\n",
       " '1815',\n",
       " '1816',\n",
       " '1817',\n",
       " '1818',\n",
       " '1819',\n",
       " '18192',\n",
       " '182',\n",
       " '1820',\n",
       " '1820s',\n",
       " '1821',\n",
       " '1822',\n",
       " '1823',\n",
       " '1824',\n",
       " '1825',\n",
       " '1826',\n",
       " '1827',\n",
       " '1828',\n",
       " '1829',\n",
       " '182nd',\n",
       " '183',\n",
       " '1830',\n",
       " '1830s',\n",
       " '1831',\n",
       " '1832',\n",
       " '1833',\n",
       " '1834',\n",
       " '1835',\n",
       " '1836',\n",
       " '1837',\n",
       " '1838',\n",
       " '1839',\n",
       " '184',\n",
       " '1840',\n",
       " '1840s',\n",
       " '1841',\n",
       " '1842',\n",
       " '1843',\n",
       " '1844',\n",
       " '1845',\n",
       " '1846',\n",
       " '1847',\n",
       " '1848',\n",
       " '1849',\n",
       " '185',\n",
       " '1850',\n",
       " '1850s',\n",
       " '1851',\n",
       " '1852',\n",
       " '1853',\n",
       " '1854',\n",
       " '1855',\n",
       " '1856',\n",
       " '1857',\n",
       " '1858',\n",
       " '1859',\n",
       " '186',\n",
       " '1860',\n",
       " '18600',\n",
       " '1860er',\n",
       " '1860s',\n",
       " '1861',\n",
       " '1862',\n",
       " '1863',\n",
       " '1864',\n",
       " '1865',\n",
       " '1866',\n",
       " '1867',\n",
       " '1868',\n",
       " '1869',\n",
       " '187',\n",
       " '1870',\n",
       " '1870s',\n",
       " '1871',\n",
       " '1872',\n",
       " '1873',\n",
       " '1874',\n",
       " '1875',\n",
       " '1876',\n",
       " '1877',\n",
       " '1878',\n",
       " '1879',\n",
       " '188',\n",
       " '1880',\n",
       " '1880s',\n",
       " '1881',\n",
       " '1882',\n",
       " '1883',\n",
       " '1884',\n",
       " '1885',\n",
       " '1886',\n",
       " '1887',\n",
       " '1888',\n",
       " '1889',\n",
       " '189',\n",
       " '1890',\n",
       " '1890s',\n",
       " '1891',\n",
       " '1892',\n",
       " ...]"
      ]
     },
     "execution_count": 51,
     "metadata": {},
     "output_type": "execute_result"
    }
   ],
   "source": [
    "vectorizer.get_feature_names()"
   ]
  },
  {
   "cell_type": "code",
   "execution_count": 52,
   "metadata": {},
   "outputs": [],
   "source": [
    "vec_text = vectorizer.transform(df.text)"
   ]
  },
  {
   "cell_type": "code",
   "execution_count": 53,
   "metadata": {},
   "outputs": [
    {
     "data": {
      "text/plain": [
       "['00',\n",
       " '000',\n",
       " '0000',\n",
       " '000035',\n",
       " '0001',\n",
       " '00012',\n",
       " '0002',\n",
       " '000202',\n",
       " '000205',\n",
       " '0002062',\n",
       " '000billion',\n",
       " '000c',\n",
       " '000k',\n",
       " '000km',\n",
       " '000lb',\n",
       " '000m',\n",
       " '000mg',\n",
       " '000s',\n",
       " '000th',\n",
       " '001',\n",
       " '0011',\n",
       " '0012',\n",
       " '0013',\n",
       " '002',\n",
       " '0020143',\n",
       " '0023z',\n",
       " '0024',\n",
       " '003',\n",
       " '004',\n",
       " '004s',\n",
       " '005',\n",
       " '0054z',\n",
       " '0057',\n",
       " '005s',\n",
       " '006',\n",
       " '00684',\n",
       " '006s',\n",
       " '007',\n",
       " '007s',\n",
       " '008',\n",
       " '008s',\n",
       " '009',\n",
       " '0099',\n",
       " '00am',\n",
       " '00o',\n",
       " '00p',\n",
       " '00pm',\n",
       " '01',\n",
       " '010',\n",
       " '0101',\n",
       " '0102',\n",
       " '0107y',\n",
       " '011s',\n",
       " '012',\n",
       " '0128',\n",
       " '013',\n",
       " '0134',\n",
       " '0135y',\n",
       " '014',\n",
       " '015',\n",
       " '017',\n",
       " '018',\n",
       " '019',\n",
       " '01915',\n",
       " '01am',\n",
       " '01pm',\n",
       " '01s',\n",
       " '01welcome',\n",
       " '02',\n",
       " '020',\n",
       " '0200gmt',\n",
       " '021',\n",
       " '022',\n",
       " '023',\n",
       " '024',\n",
       " '025',\n",
       " '026',\n",
       " '027',\n",
       " '02714',\n",
       " '028',\n",
       " '02863',\n",
       " '02870',\n",
       " '029',\n",
       " '02pm',\n",
       " '02welcome',\n",
       " '03',\n",
       " '030',\n",
       " '031',\n",
       " '032',\n",
       " '0325',\n",
       " '033',\n",
       " '0331',\n",
       " '033s',\n",
       " '034',\n",
       " '035',\n",
       " '036',\n",
       " '03747',\n",
       " '038',\n",
       " '039',\n",
       " '03am',\n",
       " '03eb',\n",
       " '03pm',\n",
       " '04',\n",
       " '040',\n",
       " '041',\n",
       " '042',\n",
       " '043',\n",
       " '045',\n",
       " '046',\n",
       " '047',\n",
       " '048',\n",
       " '049',\n",
       " '04am',\n",
       " '04pm',\n",
       " '05',\n",
       " '050',\n",
       " '0500america',\n",
       " '0509245d29',\n",
       " '051',\n",
       " '052',\n",
       " '053',\n",
       " '053s',\n",
       " '055',\n",
       " '056',\n",
       " '057',\n",
       " '058',\n",
       " '059',\n",
       " '06',\n",
       " '060',\n",
       " '0600',\n",
       " '061',\n",
       " '062',\n",
       " '063',\n",
       " '064',\n",
       " '0640',\n",
       " '065',\n",
       " '066',\n",
       " '067',\n",
       " '068',\n",
       " '069',\n",
       " '06pm',\n",
       " '06quito2150',\n",
       " '06quito2991',\n",
       " '07',\n",
       " '070',\n",
       " '0700',\n",
       " '071',\n",
       " '072',\n",
       " '074',\n",
       " '075',\n",
       " '076',\n",
       " '077',\n",
       " '078',\n",
       " '079',\n",
       " '07pm',\n",
       " '08',\n",
       " '080',\n",
       " '0800',\n",
       " '080808',\n",
       " '081',\n",
       " '082',\n",
       " '083',\n",
       " '08365472',\n",
       " '084',\n",
       " '085',\n",
       " '087',\n",
       " '089',\n",
       " '0891',\n",
       " '0896n',\n",
       " '08hrs',\n",
       " '09',\n",
       " '090',\n",
       " '090aa',\n",
       " '091',\n",
       " '094',\n",
       " '095',\n",
       " '096451',\n",
       " '097',\n",
       " '098',\n",
       " '098263',\n",
       " '09k1xgyjns',\n",
       " '09l',\n",
       " '09pm',\n",
       " '0a',\n",
       " '0d',\n",
       " '0dpbdk6rjd',\n",
       " '0fjjvowyhg8qtskiz',\n",
       " '0h4at2yetra17uxetni02ls2jeg0mty45jrcu7mrzsrpcbq464i',\n",
       " '0hour',\n",
       " '0hour1',\n",
       " '0hq3vb2giv',\n",
       " '0j6tjyeysh',\n",
       " '0k',\n",
       " '0lxfawgztu',\n",
       " '0m87gioy8c',\n",
       " '0mp7jvswy1',\n",
       " '0n',\n",
       " '0oeekvljlt',\n",
       " '0pbruepg1o',\n",
       " '0pen',\n",
       " '0s',\n",
       " '0sdvzjgofq',\n",
       " '0shpgahsnw',\n",
       " '0t5',\n",
       " '0txrbwvobzz4fi5nksw6k5a6cxzbb3juxthmdiz93cby8gvrqiypzhajvjnt2',\n",
       " '0womdwalmi',\n",
       " '0x',\n",
       " '0x10004ba0',\n",
       " '0x10012aa4',\n",
       " '0x402560',\n",
       " '0x40f598ac21c8ad899727137c4b94458d7aa8d8',\n",
       " '10',\n",
       " '100',\n",
       " '1000',\n",
       " '10000',\n",
       " '1000000',\n",
       " '10000s',\n",
       " '10009020',\n",
       " '1000mg',\n",
       " '1000s',\n",
       " '1000th',\n",
       " '1000x',\n",
       " '1001',\n",
       " '100115997',\n",
       " '10016',\n",
       " '1002',\n",
       " '1004',\n",
       " '1004381107',\n",
       " '10086',\n",
       " '10087',\n",
       " '100bn',\n",
       " '100cr6',\n",
       " '100g',\n",
       " '100k',\n",
       " '100kloc',\n",
       " '100lbs',\n",
       " '100percentfedup',\n",
       " '100s',\n",
       " '100th',\n",
       " '100x',\n",
       " '100yearsstrong',\n",
       " '101',\n",
       " '1010',\n",
       " '10102',\n",
       " '1012',\n",
       " '1013th',\n",
       " '1014',\n",
       " '101m',\n",
       " '101st',\n",
       " '102',\n",
       " '1024026',\n",
       " '102716',\n",
       " '10272016',\n",
       " '102816',\n",
       " '102836002',\n",
       " '1029',\n",
       " '102nd',\n",
       " '103',\n",
       " '1032',\n",
       " '1033',\n",
       " '1038',\n",
       " '103d',\n",
       " '103rd',\n",
       " '104',\n",
       " '1040',\n",
       " '1040s',\n",
       " '1040x',\n",
       " '104396002',\n",
       " '1047622',\n",
       " '104893',\n",
       " '10492',\n",
       " '104th',\n",
       " '105',\n",
       " '1050',\n",
       " '1052',\n",
       " '1054',\n",
       " '1055',\n",
       " '1058',\n",
       " '105th',\n",
       " '106',\n",
       " '1060',\n",
       " '106116001',\n",
       " '1064',\n",
       " '1065',\n",
       " '1066',\n",
       " '1067',\n",
       " '106th',\n",
       " '107',\n",
       " '1070',\n",
       " '1073',\n",
       " '1078',\n",
       " '1079',\n",
       " '108',\n",
       " '1080',\n",
       " '108000',\n",
       " '108th',\n",
       " '109',\n",
       " '1091',\n",
       " '1093',\n",
       " '1095',\n",
       " '1099',\n",
       " '109th',\n",
       " '10a',\n",
       " '10am',\n",
       " '10b',\n",
       " '10bn',\n",
       " '10et',\n",
       " '10f',\n",
       " '10ft',\n",
       " '10k',\n",
       " '10km',\n",
       " '10m',\n",
       " '10m54s',\n",
       " '10mg',\n",
       " '10mm',\n",
       " '10ng',\n",
       " '10p',\n",
       " '10pm',\n",
       " '10pm31pmf',\n",
       " '10q',\n",
       " '10rounds',\n",
       " '10s',\n",
       " '10th',\n",
       " '10ths',\n",
       " '10x',\n",
       " '10y',\n",
       " '10yrs',\n",
       " '11',\n",
       " '110',\n",
       " '1100',\n",
       " '1100s',\n",
       " '1101',\n",
       " '110136001',\n",
       " '1103',\n",
       " '1105',\n",
       " '1105759579497225',\n",
       " '11063387',\n",
       " '1107',\n",
       " '110913',\n",
       " '110k',\n",
       " '110th',\n",
       " '111',\n",
       " '11110',\n",
       " '1112',\n",
       " '1116',\n",
       " '1117',\n",
       " '111925',\n",
       " '111928',\n",
       " '111th',\n",
       " '112',\n",
       " '1121',\n",
       " '1123',\n",
       " '112th',\n",
       " '113',\n",
       " '11356',\n",
       " '1137',\n",
       " '1138',\n",
       " '113th',\n",
       " '114',\n",
       " '1140',\n",
       " '1146',\n",
       " '1149',\n",
       " '114th',\n",
       " '115',\n",
       " '1150',\n",
       " '11540',\n",
       " '1157',\n",
       " '115aug',\n",
       " '115th',\n",
       " '116',\n",
       " '1160',\n",
       " '11615',\n",
       " '1166',\n",
       " '1168',\n",
       " '1169',\n",
       " '116th',\n",
       " '117',\n",
       " '1171',\n",
       " '1172',\n",
       " '1177',\n",
       " '1178',\n",
       " '117th',\n",
       " '118',\n",
       " '1180',\n",
       " '1182',\n",
       " '1182f',\n",
       " '1183',\n",
       " '1186',\n",
       " '118k',\n",
       " '118th',\n",
       " '119',\n",
       " '1199',\n",
       " '11a',\n",
       " '11am',\n",
       " '11b',\n",
       " '11c',\n",
       " '11cm',\n",
       " '11million',\n",
       " '11mn',\n",
       " '11pm',\n",
       " '11s',\n",
       " '11t',\n",
       " '11th',\n",
       " '11truly',\n",
       " '11truther',\n",
       " '12',\n",
       " '120',\n",
       " '1200',\n",
       " '12000',\n",
       " '1200euros',\n",
       " '1202',\n",
       " '1204840109',\n",
       " '1207',\n",
       " '120bn',\n",
       " '120k',\n",
       " '120mm',\n",
       " '120mph',\n",
       " '120th',\n",
       " '121',\n",
       " '1210',\n",
       " '12113',\n",
       " '1212',\n",
       " '1215',\n",
       " '1219',\n",
       " '122',\n",
       " '1226',\n",
       " '1228',\n",
       " '122nd',\n",
       " '123',\n",
       " '1230',\n",
       " '12333',\n",
       " '1234',\n",
       " '123421',\n",
       " '12345',\n",
       " '1234567',\n",
       " '124',\n",
       " '1240',\n",
       " '1244',\n",
       " '124th',\n",
       " '125',\n",
       " '1250',\n",
       " '1252',\n",
       " '1253',\n",
       " '1258',\n",
       " '1259',\n",
       " '125k',\n",
       " '125mm',\n",
       " '125th',\n",
       " '126',\n",
       " '1260',\n",
       " '1262',\n",
       " '127',\n",
       " '12702162',\n",
       " '1274',\n",
       " '1279',\n",
       " '127th',\n",
       " '128',\n",
       " '1280',\n",
       " '1282',\n",
       " '1287',\n",
       " '1289',\n",
       " '128th',\n",
       " '128ths',\n",
       " '129',\n",
       " '1290',\n",
       " '1291',\n",
       " '1294',\n",
       " '1295',\n",
       " '1296',\n",
       " '12982104',\n",
       " '12anglaieb',\n",
       " '12b',\n",
       " '12ft',\n",
       " '12gb',\n",
       " '12h',\n",
       " '12hdlgeeua87t2ju8m4tbro247yj5u2tvp',\n",
       " '12k',\n",
       " '12m',\n",
       " '12mn',\n",
       " '12newsnow',\n",
       " '12pm',\n",
       " '12sso1zj2bbdguiraddmamlnets7oc1',\n",
       " '12t',\n",
       " '12th',\n",
       " '13',\n",
       " '130',\n",
       " '1300',\n",
       " '1301',\n",
       " '1303',\n",
       " '1306',\n",
       " '130s',\n",
       " '130th',\n",
       " '131',\n",
       " '1313',\n",
       " '1315',\n",
       " '1318',\n",
       " '1319',\n",
       " '131st',\n",
       " '132',\n",
       " '13224',\n",
       " '1323',\n",
       " '1324',\n",
       " '133',\n",
       " '134',\n",
       " '134386',\n",
       " '134742',\n",
       " '135',\n",
       " '1352',\n",
       " '1357',\n",
       " '135ad',\n",
       " '135s',\n",
       " '135th',\n",
       " '136',\n",
       " '13603',\n",
       " '1363',\n",
       " '1364',\n",
       " '13679',\n",
       " '1368',\n",
       " '136th',\n",
       " '137',\n",
       " '1371',\n",
       " '1373',\n",
       " '13738',\n",
       " '1375',\n",
       " '13769',\n",
       " '13780',\n",
       " '137894',\n",
       " '137th',\n",
       " '138',\n",
       " '1381',\n",
       " '139',\n",
       " '1393',\n",
       " '1396',\n",
       " '139th',\n",
       " '13a',\n",
       " '13apr17',\n",
       " '13b',\n",
       " '13onze15',\n",
       " '13pm',\n",
       " '13th',\n",
       " '13the',\n",
       " '13y',\n",
       " '14',\n",
       " '140',\n",
       " '1400',\n",
       " '1400s',\n",
       " '140230',\n",
       " '141',\n",
       " '14141',\n",
       " '141st',\n",
       " '142',\n",
       " '1425817301725',\n",
       " '1426',\n",
       " '142nd',\n",
       " '143',\n",
       " '1431',\n",
       " '1437',\n",
       " '1438',\n",
       " '1439',\n",
       " '143rd',\n",
       " '144',\n",
       " '1440',\n",
       " '1441',\n",
       " '14432034680',\n",
       " '14482302',\n",
       " '144px',\n",
       " '144s',\n",
       " '144th',\n",
       " '145',\n",
       " '1453',\n",
       " '1455',\n",
       " '145th',\n",
       " '146',\n",
       " '1460',\n",
       " '1461',\n",
       " '1464',\n",
       " '146m',\n",
       " '146th',\n",
       " '147',\n",
       " '1471',\n",
       " '14728',\n",
       " '1475',\n",
       " '1477',\n",
       " '1478',\n",
       " '1479',\n",
       " '148',\n",
       " '1482',\n",
       " '1483',\n",
       " '1485',\n",
       " '1487',\n",
       " '1488',\n",
       " '148th',\n",
       " '149',\n",
       " '1492',\n",
       " '1493',\n",
       " '1497',\n",
       " '1498',\n",
       " '1499',\n",
       " '14a',\n",
       " '14am',\n",
       " '14b',\n",
       " '14bn',\n",
       " '14c',\n",
       " '14hr',\n",
       " '14k',\n",
       " '14kwh',\n",
       " '14mm',\n",
       " '14px',\n",
       " '14th',\n",
       " '15',\n",
       " '150',\n",
       " '1500',\n",
       " '1500s',\n",
       " '1501',\n",
       " '1502',\n",
       " '1503',\n",
       " '1506',\n",
       " '1508',\n",
       " '1509',\n",
       " '150k',\n",
       " '150km',\n",
       " '150th',\n",
       " '151',\n",
       " '1510',\n",
       " '1511',\n",
       " '1513',\n",
       " '1516',\n",
       " '1517',\n",
       " '1519',\n",
       " '151st',\n",
       " '152',\n",
       " '1520s',\n",
       " '1521',\n",
       " '1523',\n",
       " '1526',\n",
       " '1527',\n",
       " '152nd',\n",
       " '153',\n",
       " '1532',\n",
       " '1533',\n",
       " '1534',\n",
       " '1536',\n",
       " '1538',\n",
       " '153rd',\n",
       " '154',\n",
       " '1540',\n",
       " '1541',\n",
       " '1543',\n",
       " '15488',\n",
       " '1549',\n",
       " '154s',\n",
       " '154th',\n",
       " '155',\n",
       " '1552',\n",
       " '1554',\n",
       " '1555',\n",
       " '1558',\n",
       " '1559',\n",
       " '155mm',\n",
       " '155th',\n",
       " '156',\n",
       " '1560',\n",
       " '1562',\n",
       " '1563',\n",
       " '1565',\n",
       " '1566',\n",
       " '1569',\n",
       " '156th',\n",
       " '157',\n",
       " '1575',\n",
       " '1576',\n",
       " '1578',\n",
       " '157th',\n",
       " '158',\n",
       " '1582',\n",
       " '1584',\n",
       " '1588',\n",
       " '15893',\n",
       " '159',\n",
       " '159022597',\n",
       " '1591',\n",
       " '1596',\n",
       " '1597',\n",
       " '15975445007',\n",
       " '1598',\n",
       " '15am',\n",
       " '15b',\n",
       " '15cwt',\n",
       " '15g',\n",
       " '15hrs',\n",
       " '15k',\n",
       " '15million',\n",
       " '15mm',\n",
       " '15oz',\n",
       " '15pm',\n",
       " '15s',\n",
       " '15sa',\n",
       " '15sf',\n",
       " '15th',\n",
       " '16',\n",
       " '160',\n",
       " '1600',\n",
       " '1600s',\n",
       " '1602',\n",
       " '1604',\n",
       " '1605',\n",
       " '1606',\n",
       " '1607',\n",
       " '1608',\n",
       " '160c',\n",
       " '160k',\n",
       " '160th',\n",
       " '161',\n",
       " '1610',\n",
       " '1611',\n",
       " '1612',\n",
       " '1613',\n",
       " '1614',\n",
       " '1615',\n",
       " '1616',\n",
       " '1619',\n",
       " '161st',\n",
       " '162',\n",
       " '1620',\n",
       " '1620s',\n",
       " '1621',\n",
       " '1622',\n",
       " '16222',\n",
       " '16227',\n",
       " '16236675004',\n",
       " '1625',\n",
       " '16277580',\n",
       " '1628',\n",
       " '162lvbnkan',\n",
       " '163',\n",
       " '1632',\n",
       " '1633',\n",
       " '1636',\n",
       " '1637',\n",
       " '164',\n",
       " '1644',\n",
       " '1645',\n",
       " '1646',\n",
       " '1648',\n",
       " '1649',\n",
       " '16490835',\n",
       " '165',\n",
       " '1650',\n",
       " '1652',\n",
       " '1653',\n",
       " '166',\n",
       " '1660',\n",
       " '1661',\n",
       " '1663',\n",
       " '1665',\n",
       " '1666',\n",
       " '1667',\n",
       " '1669',\n",
       " '167',\n",
       " '1670',\n",
       " '1670s',\n",
       " '1672',\n",
       " '1675',\n",
       " '1676',\n",
       " '1679',\n",
       " '168',\n",
       " '1680',\n",
       " '1681',\n",
       " '1685',\n",
       " '169',\n",
       " '1690',\n",
       " '1692',\n",
       " '1693',\n",
       " '1695',\n",
       " '1697',\n",
       " '1698',\n",
       " '16a52',\n",
       " '16bn',\n",
       " '16g',\n",
       " '16gb',\n",
       " '16k',\n",
       " '16pm',\n",
       " '16s',\n",
       " '16th',\n",
       " '16yo',\n",
       " '16yrs',\n",
       " '17',\n",
       " '170',\n",
       " '1700',\n",
       " '1700s',\n",
       " '1701',\n",
       " '17025',\n",
       " '1703',\n",
       " '1704',\n",
       " '17062738',\n",
       " '1707',\n",
       " '170c',\n",
       " '170th',\n",
       " '171',\n",
       " '1711',\n",
       " '17128239585',\n",
       " '1713',\n",
       " '1714',\n",
       " '1716',\n",
       " '1717',\n",
       " '172',\n",
       " '1720',\n",
       " '1721',\n",
       " '1722',\n",
       " '1723',\n",
       " '1724',\n",
       " '1725',\n",
       " '172nd',\n",
       " '173',\n",
       " '1730s',\n",
       " '1735',\n",
       " '1737',\n",
       " '1738',\n",
       " '1739',\n",
       " '174',\n",
       " '17402028608',\n",
       " '1742',\n",
       " '1744',\n",
       " '1745',\n",
       " '1746',\n",
       " '1748',\n",
       " '175',\n",
       " '1750',\n",
       " '1752',\n",
       " '1753',\n",
       " '1757',\n",
       " '175th',\n",
       " '175x',\n",
       " '176',\n",
       " '1760',\n",
       " '1763',\n",
       " '1769',\n",
       " '177',\n",
       " '1770',\n",
       " '1770s',\n",
       " '1771',\n",
       " '1772',\n",
       " '1773',\n",
       " '1774',\n",
       " '1775',\n",
       " '1776',\n",
       " '1777',\n",
       " '1778',\n",
       " '1779',\n",
       " '177a',\n",
       " '178',\n",
       " '1780',\n",
       " '1780s',\n",
       " '1781',\n",
       " '1783',\n",
       " '1786',\n",
       " '1787',\n",
       " '1788',\n",
       " '1789',\n",
       " '179',\n",
       " '1790',\n",
       " '1790s',\n",
       " '1791',\n",
       " '1792',\n",
       " '1793',\n",
       " '1794',\n",
       " '1795',\n",
       " '1795583',\n",
       " '1796',\n",
       " '1797',\n",
       " '1799',\n",
       " '179th',\n",
       " '17am',\n",
       " '17b2908f',\n",
       " '17b2908ff9fa45188d243fd49aaeeb2dhrcofficecom',\n",
       " '17cv141',\n",
       " '17cv50',\n",
       " '17k',\n",
       " '17million',\n",
       " '17px',\n",
       " '17s',\n",
       " '17th',\n",
       " '18',\n",
       " '180',\n",
       " '1800',\n",
       " '1800flowers',\n",
       " '1800s',\n",
       " '1801',\n",
       " '1802',\n",
       " '1804',\n",
       " '1805',\n",
       " '1806',\n",
       " '1807',\n",
       " '1808',\n",
       " '18087936',\n",
       " '180b',\n",
       " '180k',\n",
       " '181',\n",
       " '1810',\n",
       " '1811',\n",
       " '1812',\n",
       " '1814',\n",
       " '1815',\n",
       " '1816',\n",
       " '1817',\n",
       " '1818',\n",
       " '1819',\n",
       " '18192',\n",
       " '182',\n",
       " '1820',\n",
       " '1820s',\n",
       " '1821',\n",
       " '1822',\n",
       " '1823',\n",
       " '1824',\n",
       " '1825',\n",
       " '1826',\n",
       " '1827',\n",
       " '1828',\n",
       " '1829',\n",
       " '182nd',\n",
       " '183',\n",
       " '1830',\n",
       " '1830s',\n",
       " '1831',\n",
       " '1832',\n",
       " '1833',\n",
       " '1834',\n",
       " '1835',\n",
       " '1836',\n",
       " '1837',\n",
       " '1838',\n",
       " '1839',\n",
       " '184',\n",
       " '1840',\n",
       " '1840s',\n",
       " '1841',\n",
       " '1842',\n",
       " '1843',\n",
       " '1844',\n",
       " '1845',\n",
       " '1846',\n",
       " '1847',\n",
       " '1848',\n",
       " '1849',\n",
       " '185',\n",
       " '1850',\n",
       " '1850s',\n",
       " '1851',\n",
       " '1852',\n",
       " '1853',\n",
       " '1854',\n",
       " '1855',\n",
       " '1856',\n",
       " '1857',\n",
       " '1858',\n",
       " '1859',\n",
       " '186',\n",
       " '1860',\n",
       " '18600',\n",
       " '1860er',\n",
       " '1860s',\n",
       " '1861',\n",
       " '1862',\n",
       " '1863',\n",
       " '1864',\n",
       " '1865',\n",
       " '1866',\n",
       " '1867',\n",
       " '1868',\n",
       " '1869',\n",
       " '187',\n",
       " '1870',\n",
       " '1870s',\n",
       " '1871',\n",
       " '1872',\n",
       " '1873',\n",
       " '1874',\n",
       " '1875',\n",
       " '1876',\n",
       " '1877',\n",
       " '1878',\n",
       " '1879',\n",
       " '188',\n",
       " '1880',\n",
       " '1880s',\n",
       " '1881',\n",
       " '1882',\n",
       " '1883',\n",
       " '1884',\n",
       " '1885',\n",
       " '1886',\n",
       " '1887',\n",
       " '1888',\n",
       " '1889',\n",
       " '189',\n",
       " '1890',\n",
       " '1890s',\n",
       " '1891',\n",
       " '1892',\n",
       " ...]"
      ]
     },
     "execution_count": 53,
     "metadata": {},
     "output_type": "execute_result"
    }
   ],
   "source": [
    "vectorizer.get_feature_names()"
   ]
  },
  {
   "cell_type": "code",
   "execution_count": 54,
   "metadata": {},
   "outputs": [],
   "source": [
    "X = vec_text\n",
    "y = df.label"
   ]
  },
  {
   "cell_type": "code",
   "execution_count": 55,
   "metadata": {},
   "outputs": [],
   "source": [
    "from sklearn.model_selection import train_test_split\n",
    "x_train,x_test,y_train,y_test = train_test_split(X,y,test_size=0.2)"
   ]
  },
  {
   "cell_type": "code",
   "execution_count": 56,
   "metadata": {},
   "outputs": [
    {
     "data": {
      "text/plain": [
       "(15074, 129533)"
      ]
     },
     "execution_count": 56,
     "metadata": {},
     "output_type": "execute_result"
    }
   ],
   "source": [
    "x_train.shape"
   ]
  },
  {
   "cell_type": "markdown",
   "metadata": {},
   "source": [
    "# BernoulliNB"
   ]
  },
  {
   "cell_type": "code",
   "execution_count": 57,
   "metadata": {},
   "outputs": [
    {
     "data": {
      "text/plain": [
       "BernoulliNB()"
      ]
     },
     "execution_count": 57,
     "metadata": {},
     "output_type": "execute_result"
    }
   ],
   "source": [
    "from sklearn.naive_bayes import BernoulliNB\n",
    "bnb = BernoulliNB()\n",
    "bnb.fit(x_train,y_train)"
   ]
  },
  {
   "cell_type": "code",
   "execution_count": 58,
   "metadata": {},
   "outputs": [
    {
     "data": {
      "text/plain": [
       "array([0, 1, 1, ..., 1, 1, 0], dtype=int64)"
      ]
     },
     "execution_count": 58,
     "metadata": {},
     "output_type": "execute_result"
    }
   ],
   "source": [
    "y_pred = bnb.predict(x_test)\n",
    "y_pred"
   ]
  },
  {
   "cell_type": "code",
   "execution_count": 59,
   "metadata": {},
   "outputs": [
    {
     "data": {
      "text/html": [
       "<div>\n",
       "<style scoped>\n",
       "    .dataframe tbody tr th:only-of-type {\n",
       "        vertical-align: middle;\n",
       "    }\n",
       "\n",
       "    .dataframe tbody tr th {\n",
       "        vertical-align: top;\n",
       "    }\n",
       "\n",
       "    .dataframe thead th {\n",
       "        text-align: right;\n",
       "    }\n",
       "</style>\n",
       "<table border=\"1\" class=\"dataframe\">\n",
       "  <thead>\n",
       "    <tr style=\"text-align: right;\">\n",
       "      <th></th>\n",
       "      <th>Actual</th>\n",
       "      <th>Predicted</th>\n",
       "    </tr>\n",
       "  </thead>\n",
       "  <tbody>\n",
       "    <tr>\n",
       "      <th>18984</th>\n",
       "      <td>0</td>\n",
       "      <td>0</td>\n",
       "    </tr>\n",
       "    <tr>\n",
       "      <th>2628</th>\n",
       "      <td>1</td>\n",
       "      <td>1</td>\n",
       "    </tr>\n",
       "    <tr>\n",
       "      <th>14411</th>\n",
       "      <td>0</td>\n",
       "      <td>1</td>\n",
       "    </tr>\n",
       "    <tr>\n",
       "      <th>6726</th>\n",
       "      <td>1</td>\n",
       "      <td>1</td>\n",
       "    </tr>\n",
       "    <tr>\n",
       "      <th>8395</th>\n",
       "      <td>0</td>\n",
       "      <td>1</td>\n",
       "    </tr>\n",
       "    <tr>\n",
       "      <th>...</th>\n",
       "      <td>...</td>\n",
       "      <td>...</td>\n",
       "    </tr>\n",
       "    <tr>\n",
       "      <th>18524</th>\n",
       "      <td>0</td>\n",
       "      <td>1</td>\n",
       "    </tr>\n",
       "    <tr>\n",
       "      <th>4201</th>\n",
       "      <td>1</td>\n",
       "      <td>1</td>\n",
       "    </tr>\n",
       "    <tr>\n",
       "      <th>5569</th>\n",
       "      <td>1</td>\n",
       "      <td>1</td>\n",
       "    </tr>\n",
       "    <tr>\n",
       "      <th>13411</th>\n",
       "      <td>1</td>\n",
       "      <td>1</td>\n",
       "    </tr>\n",
       "    <tr>\n",
       "      <th>19430</th>\n",
       "      <td>0</td>\n",
       "      <td>0</td>\n",
       "    </tr>\n",
       "  </tbody>\n",
       "</table>\n",
       "<p>3769 rows × 2 columns</p>\n",
       "</div>"
      ],
      "text/plain": [
       "       Actual  Predicted\n",
       "18984       0          0\n",
       "2628        1          1\n",
       "14411       0          1\n",
       "6726        1          1\n",
       "8395        0          1\n",
       "...       ...        ...\n",
       "18524       0          1\n",
       "4201        1          1\n",
       "5569        1          1\n",
       "13411       1          1\n",
       "19430       0          0\n",
       "\n",
       "[3769 rows x 2 columns]"
      ]
     },
     "execution_count": 59,
     "metadata": {},
     "output_type": "execute_result"
    }
   ],
   "source": [
    "ber=pd.DataFrame({\"Actual\":y_test,\"Predicted\":y_pred})\n",
    "ber"
   ]
  },
  {
   "cell_type": "code",
   "execution_count": 60,
   "metadata": {},
   "outputs": [
    {
     "data": {
      "text/plain": [
       "0.7691695409923056"
      ]
     },
     "execution_count": 60,
     "metadata": {},
     "output_type": "execute_result"
    }
   ],
   "source": [
    "from sklearn.metrics import accuracy_score\n",
    "accuracy_score(y_pred,y_test)"
   ]
  },
  {
   "cell_type": "code",
   "execution_count": 61,
   "metadata": {},
   "outputs": [
    {
     "name": "stdout",
     "output_type": "stream",
     "text": [
      "Average precision-recall score:0.67\n"
     ]
    }
   ],
   "source": [
    "from sklearn.metrics import average_precision_score\n",
    "average_precision = average_precision_score(y_test,y_pred)\n",
    "print('Average precision-recall score:{0:0.2f}'.format(average_precision))"
   ]
  },
  {
   "cell_type": "code",
   "execution_count": 62,
   "metadata": {},
   "outputs": [
    {
     "data": {
      "text/plain": [
       "0.665390094201337"
      ]
     },
     "execution_count": 62,
     "metadata": {},
     "output_type": "execute_result"
    }
   ],
   "source": [
    "average_precision"
   ]
  },
  {
   "cell_type": "code",
   "execution_count": 63,
   "metadata": {},
   "outputs": [],
   "source": [
    "ber.to_csv('file1 berno.csv',header=False, index=False,sep='\\t', encoding='utf-8')   "
   ]
  },
  {
   "cell_type": "code",
   "execution_count": 64,
   "metadata": {},
   "outputs": [
    {
     "name": "stdout",
     "output_type": "stream",
     "text": [
      "     Actual\\tPredicted\n",
      "0                 0\\t0\n",
      "1                 1\\t1\n",
      "2                 0\\t1\n",
      "3                 1\\t1\n",
      "4                 0\\t1\n",
      "...                ...\n",
      "3764              0\\t1\n",
      "3765              1\\t1\n",
      "3766              1\\t1\n",
      "3767              1\\t1\n",
      "3768              0\\t0\n",
      "\n",
      "[3769 rows x 1 columns]\n"
     ]
    }
   ],
   "source": [
    "ber.to_csv('Users berno.csv', sep='\\t', index=False,header=True) \n",
    "new_df = pd.read_csv('Users berno.csv') \n",
    "print(new_df) "
   ]
  },
  {
   "cell_type": "code",
   "execution_count": 65,
   "metadata": {},
   "outputs": [],
   "source": [
    "compression_opts = dict(method='zip',archive_name='out.csv')  \n",
    "ber.to_csv('out berno.zip', index=False,compression=compression_opts)  "
   ]
  },
  {
   "cell_type": "code",
   "execution_count": 66,
   "metadata": {},
   "outputs": [],
   "source": [
    "l = [\"fire october 29 2016 \",\"15 civilians killed single\",\"this news is not good\",\"truth might get fired\",\"this news is written by xyz \"]"
   ]
  },
  {
   "cell_type": "code",
   "execution_count": 67,
   "metadata": {},
   "outputs": [],
   "source": [
    "sample = pd.DataFrame(l,columns=[\"text\"])"
   ]
  },
  {
   "cell_type": "code",
   "execution_count": 68,
   "metadata": {},
   "outputs": [],
   "source": [
    "sample[\"label\"] = [1,1,0,1,0]"
   ]
  },
  {
   "cell_type": "code",
   "execution_count": 69,
   "metadata": {},
   "outputs": [
    {
     "data": {
      "text/html": [
       "<div>\n",
       "<style scoped>\n",
       "    .dataframe tbody tr th:only-of-type {\n",
       "        vertical-align: middle;\n",
       "    }\n",
       "\n",
       "    .dataframe tbody tr th {\n",
       "        vertical-align: top;\n",
       "    }\n",
       "\n",
       "    .dataframe thead th {\n",
       "        text-align: right;\n",
       "    }\n",
       "</style>\n",
       "<table border=\"1\" class=\"dataframe\">\n",
       "  <thead>\n",
       "    <tr style=\"text-align: right;\">\n",
       "      <th></th>\n",
       "      <th>text</th>\n",
       "      <th>label</th>\n",
       "    </tr>\n",
       "  </thead>\n",
       "  <tbody>\n",
       "    <tr>\n",
       "      <th>0</th>\n",
       "      <td>fire october 29 2016</td>\n",
       "      <td>1</td>\n",
       "    </tr>\n",
       "    <tr>\n",
       "      <th>1</th>\n",
       "      <td>15 civilians killed single</td>\n",
       "      <td>1</td>\n",
       "    </tr>\n",
       "    <tr>\n",
       "      <th>2</th>\n",
       "      <td>this news is not good</td>\n",
       "      <td>0</td>\n",
       "    </tr>\n",
       "    <tr>\n",
       "      <th>3</th>\n",
       "      <td>truth might get fired</td>\n",
       "      <td>1</td>\n",
       "    </tr>\n",
       "    <tr>\n",
       "      <th>4</th>\n",
       "      <td>this news is written by xyz</td>\n",
       "      <td>0</td>\n",
       "    </tr>\n",
       "  </tbody>\n",
       "</table>\n",
       "</div>"
      ],
      "text/plain": [
       "                           text  label\n",
       "0         fire october 29 2016       1\n",
       "1    15 civilians killed single      1\n",
       "2         this news is not good      0\n",
       "3         truth might get fired      1\n",
       "4  this news is written by xyz       0"
      ]
     },
     "execution_count": 69,
     "metadata": {},
     "output_type": "execute_result"
    }
   ],
   "source": [
    "sample"
   ]
  },
  {
   "cell_type": "markdown",
   "metadata": {},
   "source": [
    "# TfidfVectorizer"
   ]
  },
  {
   "cell_type": "code",
   "execution_count": 70,
   "metadata": {},
   "outputs": [
    {
     "data": {
      "text/plain": [
       "TfidfVectorizer()"
      ]
     },
     "execution_count": 70,
     "metadata": {},
     "output_type": "execute_result"
    }
   ],
   "source": [
    "from sklearn.feature_extraction.text import TfidfVectorizer\n",
    "tfidf = TfidfVectorizer()\n",
    "tfidf.fit(sample.text)"
   ]
  },
  {
   "cell_type": "code",
   "execution_count": 71,
   "metadata": {},
   "outputs": [
    {
     "data": {
      "text/plain": [
       "['15',\n",
       " '2016',\n",
       " '29',\n",
       " 'by',\n",
       " 'civilians',\n",
       " 'fire',\n",
       " 'fired',\n",
       " 'get',\n",
       " 'good',\n",
       " 'is',\n",
       " 'killed',\n",
       " 'might',\n",
       " 'news',\n",
       " 'not',\n",
       " 'october',\n",
       " 'single',\n",
       " 'this',\n",
       " 'truth',\n",
       " 'written',\n",
       " 'xyz']"
      ]
     },
     "execution_count": 71,
     "metadata": {},
     "output_type": "execute_result"
    }
   ],
   "source": [
    "tfidf.get_feature_names()"
   ]
  },
  {
   "cell_type": "code",
   "execution_count": 72,
   "metadata": {},
   "outputs": [
    {
     "data": {
      "text/plain": [
       "<5x20 sparse matrix of type '<class 'numpy.float64'>'\n",
       "\twith 23 stored elements in Compressed Sparse Row format>"
      ]
     },
     "execution_count": 72,
     "metadata": {},
     "output_type": "execute_result"
    }
   ],
   "source": [
    "tfidf_vec = tfidf.transform(sample.text)\n",
    "tfidf_vec"
   ]
  },
  {
   "cell_type": "code",
   "execution_count": 73,
   "metadata": {},
   "outputs": [
    {
     "name": "stdout",
     "output_type": "stream",
     "text": [
      "(5, 20)\n"
     ]
    }
   ],
   "source": [
    "print(tfidf_vec.shape)"
   ]
  },
  {
   "cell_type": "code",
   "execution_count": 74,
   "metadata": {},
   "outputs": [
    {
     "data": {
      "text/html": [
       "<div>\n",
       "<style scoped>\n",
       "    .dataframe tbody tr th:only-of-type {\n",
       "        vertical-align: middle;\n",
       "    }\n",
       "\n",
       "    .dataframe tbody tr th {\n",
       "        vertical-align: top;\n",
       "    }\n",
       "\n",
       "    .dataframe thead th {\n",
       "        text-align: right;\n",
       "    }\n",
       "</style>\n",
       "<table border=\"1\" class=\"dataframe\">\n",
       "  <thead>\n",
       "    <tr style=\"text-align: right;\">\n",
       "      <th></th>\n",
       "      <th>15</th>\n",
       "      <th>2016</th>\n",
       "      <th>29</th>\n",
       "      <th>by</th>\n",
       "      <th>civilians</th>\n",
       "      <th>fire</th>\n",
       "      <th>fired</th>\n",
       "      <th>get</th>\n",
       "      <th>good</th>\n",
       "      <th>is</th>\n",
       "      <th>killed</th>\n",
       "      <th>might</th>\n",
       "      <th>news</th>\n",
       "      <th>not</th>\n",
       "      <th>october</th>\n",
       "      <th>single</th>\n",
       "      <th>this</th>\n",
       "      <th>truth</th>\n",
       "      <th>written</th>\n",
       "      <th>xyz</th>\n",
       "    </tr>\n",
       "  </thead>\n",
       "  <tbody>\n",
       "    <tr>\n",
       "      <th>0</th>\n",
       "      <td>0.0</td>\n",
       "      <td>0.5</td>\n",
       "      <td>0.5</td>\n",
       "      <td>0.000000</td>\n",
       "      <td>0.0</td>\n",
       "      <td>0.5</td>\n",
       "      <td>0.0</td>\n",
       "      <td>0.0</td>\n",
       "      <td>0.00000</td>\n",
       "      <td>0.000000</td>\n",
       "      <td>0.0</td>\n",
       "      <td>0.0</td>\n",
       "      <td>0.000000</td>\n",
       "      <td>0.00000</td>\n",
       "      <td>0.5</td>\n",
       "      <td>0.0</td>\n",
       "      <td>0.000000</td>\n",
       "      <td>0.0</td>\n",
       "      <td>0.000000</td>\n",
       "      <td>0.000000</td>\n",
       "    </tr>\n",
       "    <tr>\n",
       "      <th>1</th>\n",
       "      <td>0.5</td>\n",
       "      <td>0.0</td>\n",
       "      <td>0.0</td>\n",
       "      <td>0.000000</td>\n",
       "      <td>0.5</td>\n",
       "      <td>0.0</td>\n",
       "      <td>0.0</td>\n",
       "      <td>0.0</td>\n",
       "      <td>0.00000</td>\n",
       "      <td>0.000000</td>\n",
       "      <td>0.5</td>\n",
       "      <td>0.0</td>\n",
       "      <td>0.000000</td>\n",
       "      <td>0.00000</td>\n",
       "      <td>0.0</td>\n",
       "      <td>0.5</td>\n",
       "      <td>0.000000</td>\n",
       "      <td>0.0</td>\n",
       "      <td>0.000000</td>\n",
       "      <td>0.000000</td>\n",
       "    </tr>\n",
       "    <tr>\n",
       "      <th>2</th>\n",
       "      <td>0.0</td>\n",
       "      <td>0.0</td>\n",
       "      <td>0.0</td>\n",
       "      <td>0.000000</td>\n",
       "      <td>0.0</td>\n",
       "      <td>0.0</td>\n",
       "      <td>0.0</td>\n",
       "      <td>0.0</td>\n",
       "      <td>0.50298</td>\n",
       "      <td>0.405801</td>\n",
       "      <td>0.0</td>\n",
       "      <td>0.0</td>\n",
       "      <td>0.405801</td>\n",
       "      <td>0.50298</td>\n",
       "      <td>0.0</td>\n",
       "      <td>0.0</td>\n",
       "      <td>0.405801</td>\n",
       "      <td>0.0</td>\n",
       "      <td>0.000000</td>\n",
       "      <td>0.000000</td>\n",
       "    </tr>\n",
       "    <tr>\n",
       "      <th>3</th>\n",
       "      <td>0.0</td>\n",
       "      <td>0.0</td>\n",
       "      <td>0.0</td>\n",
       "      <td>0.000000</td>\n",
       "      <td>0.0</td>\n",
       "      <td>0.0</td>\n",
       "      <td>0.5</td>\n",
       "      <td>0.5</td>\n",
       "      <td>0.00000</td>\n",
       "      <td>0.000000</td>\n",
       "      <td>0.0</td>\n",
       "      <td>0.5</td>\n",
       "      <td>0.000000</td>\n",
       "      <td>0.00000</td>\n",
       "      <td>0.0</td>\n",
       "      <td>0.0</td>\n",
       "      <td>0.000000</td>\n",
       "      <td>0.5</td>\n",
       "      <td>0.000000</td>\n",
       "      <td>0.000000</td>\n",
       "    </tr>\n",
       "    <tr>\n",
       "      <th>4</th>\n",
       "      <td>0.0</td>\n",
       "      <td>0.0</td>\n",
       "      <td>0.0</td>\n",
       "      <td>0.449342</td>\n",
       "      <td>0.0</td>\n",
       "      <td>0.0</td>\n",
       "      <td>0.0</td>\n",
       "      <td>0.0</td>\n",
       "      <td>0.00000</td>\n",
       "      <td>0.362526</td>\n",
       "      <td>0.0</td>\n",
       "      <td>0.0</td>\n",
       "      <td>0.362526</td>\n",
       "      <td>0.00000</td>\n",
       "      <td>0.0</td>\n",
       "      <td>0.0</td>\n",
       "      <td>0.362526</td>\n",
       "      <td>0.0</td>\n",
       "      <td>0.449342</td>\n",
       "      <td>0.449342</td>\n",
       "    </tr>\n",
       "  </tbody>\n",
       "</table>\n",
       "</div>"
      ],
      "text/plain": [
       "    15  2016   29        by  civilians  fire  fired  get     good        is  \\\n",
       "0  0.0   0.5  0.5  0.000000        0.0   0.5    0.0  0.0  0.00000  0.000000   \n",
       "1  0.5   0.0  0.0  0.000000        0.5   0.0    0.0  0.0  0.00000  0.000000   \n",
       "2  0.0   0.0  0.0  0.000000        0.0   0.0    0.0  0.0  0.50298  0.405801   \n",
       "3  0.0   0.0  0.0  0.000000        0.0   0.0    0.5  0.5  0.00000  0.000000   \n",
       "4  0.0   0.0  0.0  0.449342        0.0   0.0    0.0  0.0  0.00000  0.362526   \n",
       "\n",
       "   killed  might      news      not  october  single      this  truth  \\\n",
       "0     0.0    0.0  0.000000  0.00000      0.5     0.0  0.000000    0.0   \n",
       "1     0.5    0.0  0.000000  0.00000      0.0     0.5  0.000000    0.0   \n",
       "2     0.0    0.0  0.405801  0.50298      0.0     0.0  0.405801    0.0   \n",
       "3     0.0    0.5  0.000000  0.00000      0.0     0.0  0.000000    0.5   \n",
       "4     0.0    0.0  0.362526  0.00000      0.0     0.0  0.362526    0.0   \n",
       "\n",
       "    written       xyz  \n",
       "0  0.000000  0.000000  \n",
       "1  0.000000  0.000000  \n",
       "2  0.000000  0.000000  \n",
       "3  0.000000  0.000000  \n",
       "4  0.449342  0.449342  "
      ]
     },
     "execution_count": 74,
     "metadata": {},
     "output_type": "execute_result"
    }
   ],
   "source": [
    "pd.DataFrame(tfidf_vec.toarray(),columns=tfidf.get_feature_names())"
   ]
  },
  {
   "cell_type": "code",
   "execution_count": 75,
   "metadata": {},
   "outputs": [
    {
     "data": {
      "text/plain": [
       "array([['house dem aide even see comey letter jason chaffetz tweet',\n",
       "        'house dem aide even see comey letter jason chaffetz tweet darrell lucus october 30 2016 subscribe jason chaffetz stump american fork utah image courtesy michael jolley available creative commons license apologies keith olbermann doubt worst person world week fbi director jam comey accord house democratic aide look like also know second worst person well turn comey send infamous letter announce fbi look email may relate hillary clinton email server rank democrats relevant committees hear comey find via tweet one republican committee chairmen know comey notify republican chairmen democratic rank members house intelligence judiciary oversight committees agency review email recently discover order see contain classify information long letter go oversight committee chairman jason chaffetz set political world ablaze tweet fbi dir inform fbi learn existence email appear pertinent investigation case reopen jason chaffetz jasoninthehouse october 28 2016 course know case comey actually say review email light unrelated case know anthony weiner sexting teenager apparently little things facts matter chaffetz utah republican already vow initiate raft investigations hillary win least two years worth possibly entire term worth apparently chaffetz think fbi already work result tweet briefly roil nation cooler head realize dud accord senior house democratic aide misread letter may least chaffetz sin aide tell shareblue boss democrats even know comey letter time find check twitter democratic rank members relevant committees receive comey letter republican chairmen fact democratic rank members receive chairman oversight government reform committee jason chaffetz tweet make public let see get right fbi director tell chaffetz gop committee chairmen major development potentially politically explosive investigation neither chaffetz colleagues courtesy let democratic counterparts know instead accord aide make find twitter already talk daily kos comey provide advance notice letter chaffetz republicans give time turn spin machine may make good theater nothing far even suggest case nothing far suggest comey anything grossly incompetent tone deaf suggest however chaffetz act way make dan burton darrell issa look like model responsibility bipartisanship even decency notify rank member elijah cummings something explosive trample basic standards fairness know grant likely chaffetz answer sit ridiculously republican district anchor provo orem cook partisan vote index r 25 give mitt romney punish 78 percent vote 2012 moreover republican house leadership give full support chaffetz plan fish expedition mean turn hot light textbook example house become republican control also second worst person world darrell lucus darrell 30 something graduate university north carolina consider journalist old school attempt turn member religious right college succeed turn religious right worst nightmare charismatic christian unapologetic liberal desire stand scar silence increase survive abusive three year marriage may know daily kos christian dem nc follow twitter darrelllucus connect facebook click buy darrell mello yello connect',\n",
       "        1],\n",
       "       ['flynn hillary clinton big woman campus breitbart',\n",
       "        'ever get feel life circle roundabout rather head straight line toward intend destination hillary clinton remain big woman campus leafy liberal wellesley massachusetts everywhere else vote likely inauguration dress remainder days way miss havisham forever wear wed dress speak great expectations hillary rodham overflow 48 years ago first address wellesley graduate class president college inform gather 1969 students need debate far could ascertain spokesman kind like democratic primaries 2016 minus term unknown even seven sisters school glad miss adams make clear speak today us 400 us miss rodham tell classmates appoint edger bergen charlie mccarthys mortimer snerds attendance bespectacled granny glass award matronly wisdom least john lennon wisdom take issue previous speaker despite become first win election seat u senate since reconstruction edward brooke come criticism call empathy goals protestors criticize tactics though clinton senior thesis saul alinsky lament black power demagogues elitist arrogance repressive intolerance within new leave similar word come republican necessitate brief rebuttal trust rodham ironically observe 1969 one word ask class rehearsal want say everyone come say talk trust talk lack trust us way feel others talk trust bust say say feel permeate generation perhaps even understand distrust trust bust certainly bust clinton 2016 plan certainly even understand people distrust whitewater travelgate vast conspiracy benghazi miss email clinton find distrust voice friday load compromise road broaden political horizons distrust american people trump edge 48 percent 38 percent question immediately prior november election stand major reason close horizons clinton describe vanquisher supporters embrace lie con alternative facts assault truth reason fail explain american people choose lie truth history major among today know well people power invent facts attack question mark begin end free society offer hyperbole like many people emerge 1960s hillary clinton embark upon long strange trip high school goldwater girl wellesley college republican president democratic politician clinton drink time place give degree significantly go idealist cynic comparison two wellesley commencement address show way back lament long leaders view politics art possible challenge practice politics art make appear impossible possible big woman campus odd woman white house wonder current station even possible 50 point ahead ask september may ask president woman famously dub congenital liar bill safire conclude lie mind get stand election day like find jilt bride wed day inspire dangerous delusions',\n",
       "        0],\n",
       "       ['truth might get fire',\n",
       "        'truth might get fire october 29 2016 tension intelligence analysts political policymakers always honest assessments desire result latter often overwhelm former iraq war write lawrence davidson lawrence davidson might wonder foreign policy makers repeatedly make bad choices insight might draw follow analysis action play unite state lessons probably universal back early spring 2003 george w bush initiate invasion iraq one key public reason claim country dictator saddam hussein verge develop nuclear weapons hide weapons mass destruction real reason go beyond charge include long range plan regime change middle east president george w bush vice president dick cheney receive oval office brief cia director george tenet also present chief staff andy card right white house photo purpose concentrate belief iraq become hostile nuclear power president bush close associate accept scenario readily short answer bush want indeed need believe rationale invade iraq first try connect saddam hussein 9 11 attack u though never give stratagem lack evidence make difficult rally american people already fixate afghanistan support war baghdad nuclear weapons gambit prove fruitful hard evidence charge supposedly reliable witness persons exile anti saddam iraqis many u government payroll keep tell bush advisers nuclear story true u leadership cadre whose worldview literally demand mortally dangerous iraq informants order precipitate overthrow saddam will tell tale pending atomic weapons strong desire believe tale nuclear iraq lower threshold proof likewise repeat assertions assume dependable iraqi source underpin nationwide u campaign generate fear war fever u ally insist unite nations send weapons inspectors scour iraq evidence nuclear weapons program well chemical biological weapons inspectors could find convince evidence frustrate bush administration soon force hand march 19 2003 bush launch invasion iraq expectation occupation country u inspectors would surely find evidence nuke least stockpile chemical biological weapons iraqi informants systematically lie social behavioral sciences rescue various u intelligence agencies thoroughly shake affair today 13 years later directors managers still try sort specifically tell get true intelligence lie one intelligence worker put need help protect us armies snake oil salesmen end cia et al market academic assistance ahmed chalabi head iraqi national congress key supplier iraqi defectors bogus stories hide wmd partnership forge office director national intelligence odni serve coordinate center sixteen independent u intelligence agencies national academies sciences engineer medicine result collaboration permanent intelligence community study board coordinate program social behavioral science research might strengthen national security despite effort almost certain social behavioral sciences cannot give spy agencies want way detect lie better present standard procedures polygraph test interrogations even could might well make difference real problem find liars find believers believers simply true odni leaders seem assert u intelligence agency personnel cannot tell often lie case thousands middle echelon intelligence workers desk officer specialists know something closely approach truth know pretty well go place like afghanistan iraq syria libya israel palestine elsewhere director national intelligence jam clapper right talk president barack obama oval office john brennan national security aid present photo credit office director national intelligence therefore someone feed snake oil usually know however accurate grasp things often avail superiors get appointments accept pre structure worldview different criterion true analysts listen charles gaukel national intelligence council yet another organization act meet grind 16 intelligence agencies refer search way avoid get take lie gaukel declare look truth particularly look truth work might mean certainly tell mean historically mean power broker truth must match fit worldview political ideological precepts fit work intelligence specialists send usually accurate assessments line policy makers often hit roadblock cause group think ideological blinker know better attitude hand long sell leadership match want believe peddle anything imaginary iraqi nuke israel western style democracy saudi arabia indispensable ally libya liberate country bashar al assad real roadblock peace syria strategic defense initiative sdi aka star war world get colder warmer american exceptionalism glory list almost endless sad tale tell us want spend millions dollars social behavioral science research improve assessment use intelligence forget liars want look antidote narrow mindedness believers policymakers seem able rise ideological presumptions class presumptions underpin self confidence lead us slippery slop happen way often many place source shakespeare determination past prelude elites play destinies free capacity break structure ways see yet middle echelon specialists keep send relatively accurate assessments ladder power hope spring eternal',\n",
       "        1],\n",
       "       ...,\n",
       "       ['n f l playoffs schedule matchups odds new york time',\n",
       "        'green bay packers lose washington redskins week 11 drop aaron rodgers vow run table march playoffs victory detroit lions sunday night team fulfil rodgers promise much drama matchup division rival eliminate earlier day redskins lose giants thus guarantee packers lions would playoff team n f c north brag right home game first round playoffs sufficient motivation green bay push hard enough secure team sixth consecutive win third consecutive loss detroit pundits spend week decipher wild scenarios could play position among remain team say do ten team line playoff spot remain seed order 6 detroit lions 3 seattle seahawks time 8 15 p eastern saturday nbc seahawks title hop take crush blow earl thomas lose season break leg injury seahawks go win come major asterisk come ram 49ers collapse pal comparison lions lose final three game blow large division lead green bay line seahawks 43 5 giants 4 green bay packers time 4 40 p eastern sunday fox thank play n f c east home dallas cowboys giants manage tie atlanta record n f c get stick 5 seed playoffs road game packers squad final six game good news giants superstitious fan note last two time play packers road playoffs game go win super bowl time line packers 44 5 bye weeks dallas atlanta 5 oakland raiders 4 houston texans time 4 35 p eastern saturday espn line texans 37 texans least inspire n f l division champion complicate tom savage team elevate start quarterback bench brock osweiler force leave week 17 loss tennessee concussion bad sound may still enough reel oakland squad lose derek carr break leg week 16 matt mcgloin shoulder injury week 17 fell way 2 seed f c 5 unclear point mcgloin rookie connor cook start quarterback houston 6 miami dolphins 3 pittsburgh steelers time 1 05 p eastern sunday cbs dolphins contender team quarterback ryan tannehill lose week 14 injure ligaments leave knee thank backup quarterback matt moore jay ajayi team run back two three game secure berth go offense like pittsburgh tough test miami middle defense even tannehill knee heal enough allow return line steelers 5 47 5 bye weeks new england kansas city four team vie two n f c playoff spot eye game sunday redskins victory could cause movement seed lions packers play even matchup giants already lock 5 seed nothing gain throw wrench redskins plan eliminate division rival decisive victory drama essentially take n f c playoff movement sunday occur f c top stand f c west week lose derek carr team quarterback legitimate candidate valuable player break leg oakland raiders crush denver broncos combine kansas city chiefs victory san diego chargers vault chiefs spot way 2 seed f c come bye playoffs loss oakland add misery raiders go super bowl contenders last week team play road houston next week potentially quarterback center carr backup matt mcgloin injure shoulder loss broncos beyond switch chiefs f c business usual team get bye weeks playoffs new england patriots secure 1 spot f c win miami dallas cowboys already guarantee 1 spot n f c loss philadelphia atlanta falcon hold onto 2 seed n f c win new orleans remain chance minor packers lead division virtue tiebreaker lose lions would force play road round playoffs aspect de facto n f c north championship go away redskins lose giants eliminate redskins contention race straight forward one crazier playoff scenarios discuss week possibility tampa bay buccaneer could find playoffs simply shoot moon beat carolina panthers redskins tie giants packers lose lions happen simply require win indianapolis dallas tennessee san francisco top packers strength schedule tampa bay take care end beat panthers early day eliminate officially dallas lose philadelphia',\n",
       "        0],\n",
       "       ['macy say receive takeover approach hudson bay new york time',\n",
       "        'macy today grow union several great name american retail include namesake chain bloomingdale marshall field ambitious owner saks fifth avenue broach idea take union even combine macy create department store juggernaut time industry reel hudson bay company canadian owner saks approach macy potential takeover people brief matter authorize speak publicly say friday talk two company early stage may still fall apart lead partnership kind rather sale unclear whether deal happen combination could lift fortunes macy country biggest department store struggle investors certainly appear see way share macy rise much 12 percent friday biggest intraday gain since aug 11 accord data bloomberg retail titan macy struggle remain relevant discount retailers decimate traditional business last month macy announce plan cut 10 000 job close 880 store terry lundgren chief executive architect macy last big merger expect step end march succeed company president jeffrey gennette since recession shoppers grow accustom hunt bargain pay full price discount store outlet malls flourish traditional store compel respond trim price cut margins departments store hit especially hard particularly shoppers migrate away malls emerge analysts say virtual race bottom particularly difficult macy bear series mergers past two decades make juggernaut industry stalwart middle tier retail company neither advantage retailers like hm store addition macy face increasingly fierce competition online sit like amazon elsewhere macy trouble draw attention prominent activist hedge fund starboard value urge company generate cash sell real estate beneath store starboard hold 1 percent macy share sept 30 previously estimate value land 21 billion friday analysts citigroup estimate macy hold could worth least 18 billion macy market value comparison 11 billion friday morning macy take step sell redevelop store last year add expert real estate transactions board company largely resist ambitious efforts divest real estate include deal company sell underlie land beneath store rent back company suitor hudson bay company far smaller market value 1 9 billion canadian dollars 1 5 billion know bold step hudson bay company assemble grow empire include hudson bay department store chain lord taylor crown jewel saks governor executive chairman hudson bay company richard baker show little fear use debt november 2014 company borrow nearly 4 billion saks flagship midtown manhattan speak often retailers need highlight value real estate finance bid macy may trickier however carry 6 5 billion debt may mean hudson bay company bring partner borrow real estate hold spokesman hudson bay company decline comment talk report earlier wall street journal comment rumor speculation representative macy say representative starboard value respond request comment analysts say saw merit potential combination particularly give macy operational woes mr baker expertise wring money real estate clear logic despite disparity cap macy hudson bay company craig johnson president customer growth partner research firm say note refer macy stock ticker symbol add retail market change faster able keep whether flight mall migration online',\n",
       "        0],\n",
       "       ['nato russia hold parallel exercise balkans',\n",
       "        'nato russia hold parallel exercise balkans 11 02 2016 press tv russia military nato force hold parallel military exercise two neighbor balkan countries russian troop participate war game serbia nato conduct military drill montenegro media report monday russian force 13 day military exercise serbia name slavic brotherhood 2016 begin wednesday include 150 russian paratroopers 50 air force staffers three transport plan unspecified number troop serbia belarus russia defense ministry say five day nato drill montenegro start monday involve respond flood chemical attack involve 680 unarm personnel seven nato countries 10 partner state past serbia montenegro constitutional republics socialist federal republic yugoslavia countries socialist republics traditional russian christian orthodox ally 2003 state union form serbia montenegro 2006 two become independent state since split two balkan neighbor seem head different directions strategically montenegro take pro western stance award nato offer join northern atlantic alliance nato invitation montenegro meet strong opposition russia meanwhile montenegrin officials accuse russia stag allege coup october topple pro western government nato accession bid serbia nato partner hold exercise western alliance large one foreign troop equipment participate soil',\n",
       "        1]], dtype=object)"
      ]
     },
     "execution_count": 75,
     "metadata": {},
     "output_type": "execute_result"
    }
   ],
   "source": [
    "X = df[:-1].values\n",
    "y = df.label\n",
    "X"
   ]
  },
  {
   "cell_type": "code",
   "execution_count": 76,
   "metadata": {},
   "outputs": [],
   "source": [
    "X = np.array(df[:-1])\n",
    "Y = np.array(df['label'].values.tolist())\n",
    "n = pd.get_dummies(df.text) "
   ]
  },
  {
   "cell_type": "code",
   "execution_count": 77,
   "metadata": {},
   "outputs": [
    {
     "name": "stdout",
     "output_type": "stream",
     "text": [
      "(8000, 20) (2000, 20)\n"
     ]
    }
   ],
   "source": [
    "from sklearn.model_selection import train_test_split \n",
    "from sklearn.datasets import make_classification\n",
    "X, y = make_classification(n_samples=10000, n_features=20, n_informative=2,n_classes=2,weights=[0.5, 0.5],n_clusters_per_class=2, random_state=1729)\n",
    "X_train, X_test, y_train, y_test = train_test_split(X, y, test_size=0.2, random_state=42)\n",
    "print(X_train.shape,X_test.shape)"
   ]
  },
  {
   "cell_type": "markdown",
   "metadata": {},
   "source": [
    "# DecisionTreeClassifier"
   ]
  },
  {
   "cell_type": "code",
   "execution_count": 78,
   "metadata": {},
   "outputs": [
    {
     "data": {
      "text/plain": [
       "DecisionTreeClassifier(class_weight='balanced')"
      ]
     },
     "execution_count": 78,
     "metadata": {},
     "output_type": "execute_result"
    }
   ],
   "source": [
    "# Now we will use decision tree as a base estimator, you can use any ML learner as base estimator if it accepts sample weight \n",
    "from sklearn.tree import DecisionTreeClassifier\n",
    "dt = DecisionTreeClassifier(class_weight=\"balanced\") \n",
    "dt.fit(X_train,y_train)"
   ]
  },
  {
   "cell_type": "code",
   "execution_count": 79,
   "metadata": {},
   "outputs": [],
   "source": [
    "y_pred = dt.predict(X_test)"
   ]
  },
  {
   "cell_type": "code",
   "execution_count": 80,
   "metadata": {},
   "outputs": [
    {
     "data": {
      "text/html": [
       "<div>\n",
       "<style scoped>\n",
       "    .dataframe tbody tr th:only-of-type {\n",
       "        vertical-align: middle;\n",
       "    }\n",
       "\n",
       "    .dataframe tbody tr th {\n",
       "        vertical-align: top;\n",
       "    }\n",
       "\n",
       "    .dataframe thead th {\n",
       "        text-align: right;\n",
       "    }\n",
       "</style>\n",
       "<table border=\"1\" class=\"dataframe\">\n",
       "  <thead>\n",
       "    <tr style=\"text-align: right;\">\n",
       "      <th></th>\n",
       "      <th>Actual</th>\n",
       "      <th>Predicted</th>\n",
       "    </tr>\n",
       "  </thead>\n",
       "  <tbody>\n",
       "    <tr>\n",
       "      <th>0</th>\n",
       "      <td>1</td>\n",
       "      <td>1</td>\n",
       "    </tr>\n",
       "    <tr>\n",
       "      <th>1</th>\n",
       "      <td>1</td>\n",
       "      <td>1</td>\n",
       "    </tr>\n",
       "    <tr>\n",
       "      <th>2</th>\n",
       "      <td>0</td>\n",
       "      <td>0</td>\n",
       "    </tr>\n",
       "    <tr>\n",
       "      <th>3</th>\n",
       "      <td>0</td>\n",
       "      <td>0</td>\n",
       "    </tr>\n",
       "    <tr>\n",
       "      <th>4</th>\n",
       "      <td>0</td>\n",
       "      <td>0</td>\n",
       "    </tr>\n",
       "    <tr>\n",
       "      <th>...</th>\n",
       "      <td>...</td>\n",
       "      <td>...</td>\n",
       "    </tr>\n",
       "    <tr>\n",
       "      <th>1995</th>\n",
       "      <td>1</td>\n",
       "      <td>1</td>\n",
       "    </tr>\n",
       "    <tr>\n",
       "      <th>1996</th>\n",
       "      <td>0</td>\n",
       "      <td>0</td>\n",
       "    </tr>\n",
       "    <tr>\n",
       "      <th>1997</th>\n",
       "      <td>0</td>\n",
       "      <td>0</td>\n",
       "    </tr>\n",
       "    <tr>\n",
       "      <th>1998</th>\n",
       "      <td>1</td>\n",
       "      <td>1</td>\n",
       "    </tr>\n",
       "    <tr>\n",
       "      <th>1999</th>\n",
       "      <td>1</td>\n",
       "      <td>1</td>\n",
       "    </tr>\n",
       "  </tbody>\n",
       "</table>\n",
       "<p>2000 rows × 2 columns</p>\n",
       "</div>"
      ],
      "text/plain": [
       "      Actual  Predicted\n",
       "0          1          1\n",
       "1          1          1\n",
       "2          0          0\n",
       "3          0          0\n",
       "4          0          0\n",
       "...      ...        ...\n",
       "1995       1          1\n",
       "1996       0          0\n",
       "1997       0          0\n",
       "1998       1          1\n",
       "1999       1          1\n",
       "\n",
       "[2000 rows x 2 columns]"
      ]
     },
     "execution_count": 80,
     "metadata": {},
     "output_type": "execute_result"
    }
   ],
   "source": [
    "de=pd.DataFrame({\"Actual\":y_test,\"Predicted\":y_pred})\n",
    "de"
   ]
  },
  {
   "cell_type": "code",
   "execution_count": 81,
   "metadata": {},
   "outputs": [],
   "source": [
    "de.to_csv('file1 decisionclassifier.csv',header=False, index=False,sep='\\t', encoding='utf-8')   "
   ]
  },
  {
   "cell_type": "code",
   "execution_count": 82,
   "metadata": {},
   "outputs": [
    {
     "data": {
      "text/plain": [
       "0.8975"
      ]
     },
     "execution_count": 82,
     "metadata": {},
     "output_type": "execute_result"
    }
   ],
   "source": [
    "from sklearn.metrics import accuracy_score\n",
    "accuracy_score(y_pred,y_test)"
   ]
  },
  {
   "cell_type": "code",
   "execution_count": 83,
   "metadata": {},
   "outputs": [],
   "source": [
    "compression_opts = dict(method='zip',archive_name='out.csv')  \n",
    "de.to_csv('out decision.zip', index=False,compression=compression_opts)  "
   ]
  },
  {
   "cell_type": "markdown",
   "metadata": {},
   "source": [
    "# AdaBoostClassifier"
   ]
  },
  {
   "cell_type": "code",
   "execution_count": 84,
   "metadata": {},
   "outputs": [],
   "source": [
    "# Load libraries\n",
    "from sklearn.ensemble import AdaBoostClassifier\n",
    "from sklearn import datasets\n",
    "from sklearn import metrics"
   ]
  },
  {
   "cell_type": "code",
   "execution_count": 85,
   "metadata": {},
   "outputs": [
    {
     "data": {
      "text/plain": [
       "AdaBoostClassifier(base_estimator=DecisionTreeClassifier(class_weight='balanced'),\n",
       "                   learning_rate=1, n_estimators=100)"
      ]
     },
     "execution_count": 85,
     "metadata": {},
     "output_type": "execute_result"
    }
   ],
   "source": [
    "clf = AdaBoostClassifier(n_estimators=100, base_estimator=dt,learning_rate=1)\n",
    "# training the model\n",
    "ada=clf.fit(X_train,y_train)\n",
    "ada"
   ]
  },
  {
   "cell_type": "code",
   "execution_count": 86,
   "metadata": {},
   "outputs": [
    {
     "name": "stdout",
     "output_type": "stream",
     "text": [
      "\n",
      "Target on train data [1 0 0 ... 0 0 1]\n",
      "\n",
      "accuracy_score on train dataset :  1.0\n"
     ]
    }
   ],
   "source": [
    "from sklearn.metrics import accuracy_score\n",
    "# predict the target on the train dataset\n",
    "predict_train = clf.predict(X_train)\n",
    "print('\\nTarget on train data',predict_train) \n",
    "# Accuray Score on train dataset\n",
    "accuracy_train = accuracy_score(y_train,predict_train)\n",
    "print('\\naccuracy_score on train dataset : ', accuracy_train)\n"
   ]
  },
  {
   "cell_type": "code",
   "execution_count": 90,
   "metadata": {},
   "outputs": [
    {
     "name": "stdout",
     "output_type": "stream",
     "text": [
      "\n",
      "Target on test data [1 1 0 ... 0 1 1]\n",
      "\n",
      "accuracy_score on test dataset :  0.905\n"
     ]
    }
   ],
   "source": [
    "# predict the target on the test dataset\n",
    "predict_test = clf.predict(X_test)\n",
    "print('\\nTarget on test data',predict_test) \n",
    "# Accuracy Score on test dataset\n",
    "accuracy_test = accuracy_score(y_test,predict_test)\n",
    "print('\\naccuracy_score on test dataset : ', accuracy_test)"
   ]
  },
  {
   "cell_type": "code",
   "execution_count": 92,
   "metadata": {},
   "outputs": [
    {
     "data": {
      "text/html": [
       "<div>\n",
       "<style scoped>\n",
       "    .dataframe tbody tr th:only-of-type {\n",
       "        vertical-align: middle;\n",
       "    }\n",
       "\n",
       "    .dataframe tbody tr th {\n",
       "        vertical-align: top;\n",
       "    }\n",
       "\n",
       "    .dataframe thead th {\n",
       "        text-align: right;\n",
       "    }\n",
       "</style>\n",
       "<table border=\"1\" class=\"dataframe\">\n",
       "  <thead>\n",
       "    <tr style=\"text-align: right;\">\n",
       "      <th></th>\n",
       "      <th>Actual</th>\n",
       "      <th>Predicted</th>\n",
       "    </tr>\n",
       "  </thead>\n",
       "  <tbody>\n",
       "    <tr>\n",
       "      <th>0</th>\n",
       "      <td>1</td>\n",
       "      <td>1</td>\n",
       "    </tr>\n",
       "    <tr>\n",
       "      <th>1</th>\n",
       "      <td>1</td>\n",
       "      <td>1</td>\n",
       "    </tr>\n",
       "    <tr>\n",
       "      <th>2</th>\n",
       "      <td>0</td>\n",
       "      <td>0</td>\n",
       "    </tr>\n",
       "    <tr>\n",
       "      <th>3</th>\n",
       "      <td>0</td>\n",
       "      <td>0</td>\n",
       "    </tr>\n",
       "    <tr>\n",
       "      <th>4</th>\n",
       "      <td>0</td>\n",
       "      <td>0</td>\n",
       "    </tr>\n",
       "    <tr>\n",
       "      <th>...</th>\n",
       "      <td>...</td>\n",
       "      <td>...</td>\n",
       "    </tr>\n",
       "    <tr>\n",
       "      <th>1995</th>\n",
       "      <td>1</td>\n",
       "      <td>1</td>\n",
       "    </tr>\n",
       "    <tr>\n",
       "      <th>1996</th>\n",
       "      <td>0</td>\n",
       "      <td>0</td>\n",
       "    </tr>\n",
       "    <tr>\n",
       "      <th>1997</th>\n",
       "      <td>0</td>\n",
       "      <td>0</td>\n",
       "    </tr>\n",
       "    <tr>\n",
       "      <th>1998</th>\n",
       "      <td>1</td>\n",
       "      <td>1</td>\n",
       "    </tr>\n",
       "    <tr>\n",
       "      <th>1999</th>\n",
       "      <td>1</td>\n",
       "      <td>1</td>\n",
       "    </tr>\n",
       "  </tbody>\n",
       "</table>\n",
       "<p>2000 rows × 2 columns</p>\n",
       "</div>"
      ],
      "text/plain": [
       "      Actual  Predicted\n",
       "0          1          1\n",
       "1          1          1\n",
       "2          0          0\n",
       "3          0          0\n",
       "4          0          0\n",
       "...      ...        ...\n",
       "1995       1          1\n",
       "1996       0          0\n",
       "1997       0          0\n",
       "1998       1          1\n",
       "1999       1          1\n",
       "\n",
       "[2000 rows x 2 columns]"
      ]
     },
     "execution_count": 92,
     "metadata": {},
     "output_type": "execute_result"
    }
   ],
   "source": [
    "ad=pd.DataFrame({\"Actual\":y_test,\"Predicted\":predict_test})\n",
    "ad"
   ]
  },
  {
   "cell_type": "code",
   "execution_count": 93,
   "metadata": {},
   "outputs": [],
   "source": [
    "compression_opts = dict(method='zip',archive_name='out.csv')  \n",
    "ad.to_csv('out berno.zip', index=False,compression=compression_opts)  "
   ]
  },
  {
   "cell_type": "code",
   "execution_count": 94,
   "metadata": {},
   "outputs": [],
   "source": [
    "ad.to_csv('file1 adaclass.csv',header=False, index=False,sep='\\t', encoding='utf-8')   "
   ]
  },
  {
   "cell_type": "code",
   "execution_count": 95,
   "metadata": {},
   "outputs": [
    {
     "data": {
      "text/plain": [
       "(8000, 20)"
      ]
     },
     "execution_count": 95,
     "metadata": {},
     "output_type": "execute_result"
    }
   ],
   "source": [
    "X_train.shape"
   ]
  },
  {
   "cell_type": "code",
   "execution_count": 96,
   "metadata": {},
   "outputs": [
    {
     "data": {
      "text/plain": [
       "(2000, 20)"
      ]
     },
     "execution_count": 96,
     "metadata": {},
     "output_type": "execute_result"
    }
   ],
   "source": [
    "X_test.shape"
   ]
  },
  {
   "cell_type": "markdown",
   "metadata": {},
   "source": [
    "# SMOTETomek"
   ]
  },
  {
   "cell_type": "code",
   "execution_count": 97,
   "metadata": {},
   "outputs": [],
   "source": [
    "#Importing Smote\n",
    "from imblearn.combine import SMOTETomek\n",
    "s = SMOTETomek(random_state=42)\n",
    "s_xtrain,s_ytrain = s.fit_sample(X_train,y_train)"
   ]
  },
  {
   "cell_type": "code",
   "execution_count": 98,
   "metadata": {},
   "outputs": [
    {
     "name": "stdout",
     "output_type": "stream",
     "text": [
      "(7534, 20)\n",
      "(7534,)\n"
     ]
    }
   ],
   "source": [
    "print(s_xtrain.shape)\n",
    "print(s_ytrain.shape)"
   ]
  },
  {
   "cell_type": "code",
   "execution_count": 99,
   "metadata": {},
   "outputs": [
    {
     "data": {
      "text/plain": [
       "SMOTETomek(random_state=42)"
      ]
     },
     "execution_count": 99,
     "metadata": {},
     "output_type": "execute_result"
    }
   ],
   "source": [
    "s_xtest,s_ytest = s.fit_sample(X_test,y_test)\n",
    "SMT=s.fit(X_train,y_train)\n",
    "SMT"
   ]
  },
  {
   "cell_type": "code",
   "execution_count": 100,
   "metadata": {},
   "outputs": [
    {
     "name": "stdout",
     "output_type": "stream",
     "text": [
      "(1924, 20)\n",
      "(1924,)\n"
     ]
    }
   ],
   "source": [
    "print(s_xtest.shape)\n",
    "print(s_ytest.shape)"
   ]
  },
  {
   "cell_type": "code",
   "execution_count": 101,
   "metadata": {},
   "outputs": [
    {
     "name": "stderr",
     "output_type": "stream",
     "text": [
      "[nltk_data] Downloading package stopwords to\n",
      "[nltk_data]     C:\\Users\\SAGAR\\AppData\\Roaming\\nltk_data...\n",
      "[nltk_data]   Package stopwords is already up-to-date!\n"
     ]
    }
   ],
   "source": [
    "# library to clean data \n",
    "import re  \n",
    "   \n",
    "# Natural Language Tool Kit \n",
    "import nltk  \n",
    "   \n",
    "nltk.download('stopwords') \n",
    "   \n",
    "# to remove stopword \n",
    "from nltk.corpus import stopwords \n",
    "   \n",
    "# for Stemming propose  \n",
    "from nltk.stem.porter import PorterStemmer \n",
    "   \n",
    "# Initialize empty array \n",
    "# to append clean text  \n",
    "corpus = []  "
   ]
  },
  {
   "cell_type": "code",
   "execution_count": 102,
   "metadata": {},
   "outputs": [
    {
     "data": {
      "text/plain": [
       "0        house dem aide even see comey letter jason cha...\n",
       "1        ever get feel life circle roundabout rather he...\n",
       "2        truth might get fire october 29 2016 tension i...\n",
       "3        videos 15 civilians kill single us airstrike i...\n",
       "4        print iranian woman sentence six years prison ...\n",
       "                               ...                        \n",
       "20795    rapper unload black celebrities meet donald tr...\n",
       "20796    green bay packers lose washington redskins wee...\n",
       "20797    macy today grow union several great name ameri...\n",
       "20798    nato russia hold parallel exercise balkans 11 ...\n",
       "20799    david swanson author activist journalist radio...\n",
       "Name: text, Length: 18843, dtype: object"
      ]
     },
     "execution_count": 102,
     "metadata": {},
     "output_type": "execute_result"
    }
   ],
   "source": [
    "df['text']"
   ]
  },
  {
   "cell_type": "code",
   "execution_count": 103,
   "metadata": {},
   "outputs": [],
   "source": [
    "# 1000 (reviews) rows to clean \n",
    "for i in range(0, 5):  \n",
    "       # column : \"Review\", row ith \n",
    "    review = re.sub('[^a-zA-Z]',' ',df['text'][i]) \n",
    " # creating PorterStemmer object to \n",
    "    # take main stem of each word \n",
    "    ps = PorterStemmer()      \n",
    "    # loop for stemming each word \n",
    "    # in string array at ith row     \n",
    "    review = [ps.stem(word) for word in df['text'] if not word in set(stopwords.words('english'))] "
   ]
  },
  {
   "cell_type": "code",
   "execution_count": 104,
   "metadata": {},
   "outputs": [],
   "source": [
    "# rejoin all string array elements \n",
    "# to create back into a string \n",
    "review = ' '.join(df.text)       \n",
    "# append each string to create \n",
    "# array of clean text  \n",
    "corpus.append(df['text'])\n",
    " # Creating the Bag of Words model \n",
    "from sklearn.feature_extraction.text import CountVectorizer "
   ]
  },
  {
   "cell_type": "code",
   "execution_count": 105,
   "metadata": {},
   "outputs": [],
   "source": [
    "# To extract max 1500 feature. \n",
    "# \"max_features\" is attribute to \n",
    "# experiment with to get better results \n",
    "cv = CountVectorizer(max_features = 9)     \n",
    "# X contains corpus (dependent variable) "
   ]
  },
  {
   "cell_type": "code",
   "execution_count": 106,
   "metadata": {},
   "outputs": [],
   "source": [
    "# Splitting the dataset into \n",
    "# the Training set and Test set \n",
    "from sklearn.model_selection import train_test_split \n",
    "df.dropna(inplace=True)"
   ]
  },
  {
   "cell_type": "code",
   "execution_count": 107,
   "metadata": {},
   "outputs": [
    {
     "name": "stdout",
     "output_type": "stream",
     "text": [
      "(10000, 20)\n",
      "(10000,)\n",
      "(7500, 20)\n",
      "(7500,)\n"
     ]
    }
   ],
   "source": [
    "print(X.shape)\n",
    "print(y.shape) \n",
    "# experiment with \"test_size\" \n",
    "# to get better results \n",
    "X_train, X_test, y_train,y_test = train_test_split(X,y,test_size = 0.25)\n",
    "print(X_train.shape)\n",
    "print(y_train.shape) "
   ]
  },
  {
   "cell_type": "code",
   "execution_count": 108,
   "metadata": {},
   "outputs": [],
   "source": [
    "import matplotlib.pyplot as plt\n",
    "import seaborn as sns\n",
    "%matplotlib inline"
   ]
  },
  {
   "cell_type": "code",
   "execution_count": 109,
   "metadata": {},
   "outputs": [
    {
     "data": {
      "text/html": [
       "<div>\n",
       "<style scoped>\n",
       "    .dataframe tbody tr th:only-of-type {\n",
       "        vertical-align: middle;\n",
       "    }\n",
       "\n",
       "    .dataframe tbody tr th {\n",
       "        vertical-align: top;\n",
       "    }\n",
       "\n",
       "    .dataframe thead th {\n",
       "        text-align: right;\n",
       "    }\n",
       "</style>\n",
       "<table border=\"1\" class=\"dataframe\">\n",
       "  <thead>\n",
       "    <tr style=\"text-align: right;\">\n",
       "      <th></th>\n",
       "      <th>title</th>\n",
       "      <th>text</th>\n",
       "      <th>label</th>\n",
       "    </tr>\n",
       "  </thead>\n",
       "  <tbody>\n",
       "    <tr>\n",
       "      <th>0</th>\n",
       "      <td>house dem aide even see comey letter jason cha...</td>\n",
       "      <td>house dem aide even see comey letter jason cha...</td>\n",
       "      <td>1</td>\n",
       "    </tr>\n",
       "    <tr>\n",
       "      <th>1</th>\n",
       "      <td>flynn hillary clinton big woman campus breitbart</td>\n",
       "      <td>ever get feel life circle roundabout rather he...</td>\n",
       "      <td>0</td>\n",
       "    </tr>\n",
       "    <tr>\n",
       "      <th>2</th>\n",
       "      <td>truth might get fire</td>\n",
       "      <td>truth might get fire october 29 2016 tension i...</td>\n",
       "      <td>1</td>\n",
       "    </tr>\n",
       "    <tr>\n",
       "      <th>3</th>\n",
       "      <td>15 civilians kill single us airstrike identify</td>\n",
       "      <td>videos 15 civilians kill single us airstrike i...</td>\n",
       "      <td>1</td>\n",
       "    </tr>\n",
       "    <tr>\n",
       "      <th>4</th>\n",
       "      <td>iranian woman jail fictional unpublished story...</td>\n",
       "      <td>print iranian woman sentence six years prison ...</td>\n",
       "      <td>1</td>\n",
       "    </tr>\n",
       "    <tr>\n",
       "      <th>...</th>\n",
       "      <td>...</td>\n",
       "      <td>...</td>\n",
       "      <td>...</td>\n",
       "    </tr>\n",
       "    <tr>\n",
       "      <th>20795</th>\n",
       "      <td>rapper trump poster child white supremacy</td>\n",
       "      <td>rapper unload black celebrities meet donald tr...</td>\n",
       "      <td>0</td>\n",
       "    </tr>\n",
       "    <tr>\n",
       "      <th>20796</th>\n",
       "      <td>n f l playoffs schedule matchups odds new york...</td>\n",
       "      <td>green bay packers lose washington redskins wee...</td>\n",
       "      <td>0</td>\n",
       "    </tr>\n",
       "    <tr>\n",
       "      <th>20797</th>\n",
       "      <td>macy say receive takeover approach hudson bay ...</td>\n",
       "      <td>macy today grow union several great name ameri...</td>\n",
       "      <td>0</td>\n",
       "    </tr>\n",
       "    <tr>\n",
       "      <th>20798</th>\n",
       "      <td>nato russia hold parallel exercise balkans</td>\n",
       "      <td>nato russia hold parallel exercise balkans 11 ...</td>\n",
       "      <td>1</td>\n",
       "    </tr>\n",
       "    <tr>\n",
       "      <th>20799</th>\n",
       "      <td>keep f 35 alive</td>\n",
       "      <td>david swanson author activist journalist radio...</td>\n",
       "      <td>1</td>\n",
       "    </tr>\n",
       "  </tbody>\n",
       "</table>\n",
       "<p>18843 rows × 3 columns</p>\n",
       "</div>"
      ],
      "text/plain": [
       "                                                   title  \\\n",
       "0      house dem aide even see comey letter jason cha...   \n",
       "1       flynn hillary clinton big woman campus breitbart   \n",
       "2                                   truth might get fire   \n",
       "3         15 civilians kill single us airstrike identify   \n",
       "4      iranian woman jail fictional unpublished story...   \n",
       "...                                                  ...   \n",
       "20795          rapper trump poster child white supremacy   \n",
       "20796  n f l playoffs schedule matchups odds new york...   \n",
       "20797  macy say receive takeover approach hudson bay ...   \n",
       "20798         nato russia hold parallel exercise balkans   \n",
       "20799                                    keep f 35 alive   \n",
       "\n",
       "                                                    text  label  \n",
       "0      house dem aide even see comey letter jason cha...      1  \n",
       "1      ever get feel life circle roundabout rather he...      0  \n",
       "2      truth might get fire october 29 2016 tension i...      1  \n",
       "3      videos 15 civilians kill single us airstrike i...      1  \n",
       "4      print iranian woman sentence six years prison ...      1  \n",
       "...                                                  ...    ...  \n",
       "20795  rapper unload black celebrities meet donald tr...      0  \n",
       "20796  green bay packers lose washington redskins wee...      0  \n",
       "20797  macy today grow union several great name ameri...      0  \n",
       "20798  nato russia hold parallel exercise balkans 11 ...      1  \n",
       "20799  david swanson author activist journalist radio...      1  \n",
       "\n",
       "[18843 rows x 3 columns]"
      ]
     },
     "execution_count": 109,
     "metadata": {},
     "output_type": "execute_result"
    }
   ],
   "source": [
    "df"
   ]
  },
  {
   "cell_type": "code",
   "execution_count": 110,
   "metadata": {},
   "outputs": [
    {
     "data": {
      "text/html": [
       "<div>\n",
       "<style scoped>\n",
       "    .dataframe tbody tr th:only-of-type {\n",
       "        vertical-align: middle;\n",
       "    }\n",
       "\n",
       "    .dataframe tbody tr th {\n",
       "        vertical-align: top;\n",
       "    }\n",
       "\n",
       "    .dataframe thead th {\n",
       "        text-align: right;\n",
       "    }\n",
       "</style>\n",
       "<table border=\"1\" class=\"dataframe\">\n",
       "  <thead>\n",
       "    <tr style=\"text-align: right;\">\n",
       "      <th></th>\n",
       "      <th>id</th>\n",
       "      <th>label</th>\n",
       "    </tr>\n",
       "  </thead>\n",
       "  <tbody>\n",
       "    <tr>\n",
       "      <th>id</th>\n",
       "      <td>1.000000</td>\n",
       "      <td>-0.000565</td>\n",
       "    </tr>\n",
       "    <tr>\n",
       "      <th>label</th>\n",
       "      <td>-0.000565</td>\n",
       "      <td>1.000000</td>\n",
       "    </tr>\n",
       "  </tbody>\n",
       "</table>\n",
       "</div>"
      ],
      "text/plain": [
       "             id     label\n",
       "id     1.000000 -0.000565\n",
       "label -0.000565  1.000000"
      ]
     },
     "execution_count": 110,
     "metadata": {},
     "output_type": "execute_result"
    }
   ],
   "source": [
    "data.corr()"
   ]
  },
  {
   "cell_type": "code",
   "execution_count": 111,
   "metadata": {},
   "outputs": [
    {
     "data": {
      "text/plain": [
       "<AxesSubplot:>"
      ]
     },
     "execution_count": 111,
     "metadata": {},
     "output_type": "execute_result"
    },
    {
     "data": {
      "image/png": "[encoded data removed]",
      "text/plain": [
       "<Figure size 864x720 with 2 Axes>"
      ]
     },
     "metadata": {
      "needs_background": "light"
     },
     "output_type": "display_data"
    }
   ],
   "source": [
    "plt.figure(figsize=(12,10))\n",
    "sns.heatmap(data.corr(),annot=True)"
   ]
  },
  {
   "cell_type": "markdown",
   "metadata": {},
   "source": [
    "# LogisticRegression"
   ]
  },
  {
   "cell_type": "code",
   "execution_count": 112,
   "metadata": {},
   "outputs": [
    {
     "data": {
      "text/plain": [
       "LogisticRegression()"
      ]
     },
     "execution_count": 112,
     "metadata": {},
     "output_type": "execute_result"
    }
   ],
   "source": [
    "from sklearn.linear_model import LogisticRegression\n",
    "logreg = LogisticRegression()\n",
    "logreg.fit(X_train,y_train)"
   ]
  },
  {
   "cell_type": "code",
   "execution_count": 113,
   "metadata": {},
   "outputs": [],
   "source": [
    "y_pred = logreg.predict(X_test)"
   ]
  },
  {
   "cell_type": "code",
   "execution_count": 114,
   "metadata": {},
   "outputs": [
    {
     "data": {
      "text/html": [
       "<div>\n",
       "<style scoped>\n",
       "    .dataframe tbody tr th:only-of-type {\n",
       "        vertical-align: middle;\n",
       "    }\n",
       "\n",
       "    .dataframe tbody tr th {\n",
       "        vertical-align: top;\n",
       "    }\n",
       "\n",
       "    .dataframe thead th {\n",
       "        text-align: right;\n",
       "    }\n",
       "</style>\n",
       "<table border=\"1\" class=\"dataframe\">\n",
       "  <thead>\n",
       "    <tr style=\"text-align: right;\">\n",
       "      <th></th>\n",
       "      <th>Actual</th>\n",
       "      <th>Predicted</th>\n",
       "    </tr>\n",
       "  </thead>\n",
       "  <tbody>\n",
       "    <tr>\n",
       "      <th>0</th>\n",
       "      <td>1</td>\n",
       "      <td>1</td>\n",
       "    </tr>\n",
       "    <tr>\n",
       "      <th>1</th>\n",
       "      <td>1</td>\n",
       "      <td>1</td>\n",
       "    </tr>\n",
       "    <tr>\n",
       "      <th>2</th>\n",
       "      <td>1</td>\n",
       "      <td>1</td>\n",
       "    </tr>\n",
       "    <tr>\n",
       "      <th>3</th>\n",
       "      <td>0</td>\n",
       "      <td>0</td>\n",
       "    </tr>\n",
       "    <tr>\n",
       "      <th>4</th>\n",
       "      <td>0</td>\n",
       "      <td>0</td>\n",
       "    </tr>\n",
       "    <tr>\n",
       "      <th>...</th>\n",
       "      <td>...</td>\n",
       "      <td>...</td>\n",
       "    </tr>\n",
       "    <tr>\n",
       "      <th>2495</th>\n",
       "      <td>1</td>\n",
       "      <td>0</td>\n",
       "    </tr>\n",
       "    <tr>\n",
       "      <th>2496</th>\n",
       "      <td>1</td>\n",
       "      <td>1</td>\n",
       "    </tr>\n",
       "    <tr>\n",
       "      <th>2497</th>\n",
       "      <td>1</td>\n",
       "      <td>1</td>\n",
       "    </tr>\n",
       "    <tr>\n",
       "      <th>2498</th>\n",
       "      <td>1</td>\n",
       "      <td>1</td>\n",
       "    </tr>\n",
       "    <tr>\n",
       "      <th>2499</th>\n",
       "      <td>0</td>\n",
       "      <td>0</td>\n",
       "    </tr>\n",
       "  </tbody>\n",
       "</table>\n",
       "<p>2500 rows × 2 columns</p>\n",
       "</div>"
      ],
      "text/plain": [
       "      Actual  Predicted\n",
       "0          1          1\n",
       "1          1          1\n",
       "2          1          1\n",
       "3          0          0\n",
       "4          0          0\n",
       "...      ...        ...\n",
       "2495       1          0\n",
       "2496       1          1\n",
       "2497       1          1\n",
       "2498       1          1\n",
       "2499       0          0\n",
       "\n",
       "[2500 rows x 2 columns]"
      ]
     },
     "execution_count": 114,
     "metadata": {},
     "output_type": "execute_result"
    }
   ],
   "source": [
    "results = pd.DataFrame({\"Actual\":y_test,\"Predicted\":y_pred})\n",
    "results"
   ]
  },
  {
   "cell_type": "code",
   "execution_count": 115,
   "metadata": {},
   "outputs": [],
   "source": [
    "results.to_csv('file1logistic.csv',header=False, index=False,sep='\\t', encoding='utf-8')  "
   ]
  },
  {
   "cell_type": "code",
   "execution_count": 116,
   "metadata": {},
   "outputs": [
    {
     "name": "stdout",
     "output_type": "stream",
     "text": [
      "     Actual\\tPredicted\n",
      "0                 1\\t1\n",
      "1                 1\\t1\n",
      "2                 1\\t1\n",
      "3                 0\\t0\n",
      "4                 0\\t0\n",
      "...                ...\n",
      "2495              1\\t0\n",
      "2496              1\\t1\n",
      "2497              1\\t1\n",
      "2498              1\\t1\n",
      "2499              0\\t0\n",
      "\n",
      "[2500 rows x 1 columns]\n"
     ]
    }
   ],
   "source": [
    "results.to_csv('Userslog.csv', sep='\\t', index=False,header=True) \n",
    "new_df = pd.read_csv('Userslog.csv') \n",
    "print(new_df) "
   ]
  },
  {
   "cell_type": "code",
   "execution_count": 117,
   "metadata": {},
   "outputs": [],
   "source": [
    "compression_opts = dict(method='zip',archive_name='out.csv')  \n",
    "df.to_csv('logistic.zip', index=False,compression=compression_opts)  "
   ]
  },
  {
   "cell_type": "code",
   "execution_count": 118,
   "metadata": {},
   "outputs": [
    {
     "data": {
      "text/plain": [
       "0    10361\n",
       "1     8482\n",
       "Name: label, dtype: int64"
      ]
     },
     "execution_count": 118,
     "metadata": {},
     "output_type": "execute_result"
    }
   ],
   "source": [
    "df.label.value_counts()"
   ]
  },
  {
   "cell_type": "code",
   "execution_count": null,
   "metadata": {},
   "outputs": [
    {
     "data": {
      "text/plain": [
       "0    0.549859\n",
       "1    0.450141\n",
       "Name: label, dtype: float64"
      ]
     },
     "execution_count": 119,
     "metadata": {},
     "output_type": "execute_result"
    }
   ],
   "source": [
    "df.label.value_counts(normalize=True)"
   ]
  },
  {
   "cell_type": "code",
   "execution_count": null,
   "metadata": {},
   "outputs": [
    {
     "name": "stdout",
     "output_type": "stream",
     "text": [
      "precision score 0.8369132856006364\n",
      "recall score 0.8270440251572327\n",
      "f1 score 0.8319493871095295\n",
      "accuracy score 0.83\n"
     ]
    }
   ],
   "source": [
    "from sklearn.metrics import precision_score,recall_score,accuracy_score,f1_score\n",
    "print(\"precision score\",precision_score(y_pred,y_test))\n",
    "print(\"recall score\",recall_score(y_pred,y_test))\n",
    "print(\"f1 score\",f1_score(y_pred,y_test))\n",
    "print(\"accuracy score\",accuracy_score(y_pred,y_test))"
   ]
  },
  {
   "cell_type": "code",
   "execution_count": null,
   "metadata": {},
   "outputs": [
    {
     "data": {
      "text/plain": [
       "array([[1023,  205],\n",
       "       [ 220, 1052]], dtype=int64)"
      ]
     },
     "execution_count": 121,
     "metadata": {},
     "output_type": "execute_result"
    }
   ],
   "source": [
    "from sklearn.metrics import confusion_matrix\n",
    "confusion_matrix(y_pred,y_test)"
   ]
  },
  {
   "cell_type": "code",
   "execution_count": null,
   "metadata": {},
   "outputs": [
    {
     "data": {
      "text/plain": [
       "<AxesSubplot:>"
      ]
     },
     "execution_count": 122,
     "metadata": {},
     "output_type": "execute_result"
    },
    {
     "data": {
      "image/png": "[encoded data removed]",
      "text/plain": [
       "<Figure size 432x288 with 2 Axes>"
      ]
     },
     "metadata": {
      "needs_background": "light"
     },
     "output_type": "display_data"
    }
   ],
   "source": [
    "sns.heatmap(confusion_matrix(y_pred,y_test),annot=True)"
   ]
  },
  {
   "cell_type": "code",
   "execution_count": null,
   "metadata": {},
   "outputs": [
    {
     "data": {
      "text/plain": [
       "LogisticRegression(class_weight='balanced')"
      ]
     },
     "execution_count": 123,
     "metadata": {},
     "output_type": "execute_result"
    }
   ],
   "source": [
    "#hyperparameter tuning\n",
    "logreg1 = LogisticRegression(class_weight=\"balanced\")\n",
    "logreg1.fit(X_train,y_train)"
   ]
  },
  {
   "cell_type": "code",
   "execution_count": null,
   "metadata": {},
   "outputs": [],
   "source": [
    "y_pred1 = logreg1.predict(X_test)"
   ]
  },
  {
   "cell_type": "code",
   "execution_count": null,
   "metadata": {},
   "outputs": [
    {
     "data": {
      "text/plain": [
       "0.83"
      ]
     },
     "execution_count": 125,
     "metadata": {},
     "output_type": "execute_result"
    }
   ],
   "source": [
    "accuracy_score(y_pred1,y_test)"
   ]
  },
  {
   "cell_type": "code",
   "execution_count": null,
   "metadata": {},
   "outputs": [
    {
     "name": "stdout",
     "output_type": "stream",
     "text": [
      "precision score 0.8369132856006364\n",
      "recall score 0.8270440251572327\n",
      "f1 score 0.8319493871095295\n",
      "accuracy score 0.83\n"
     ]
    }
   ],
   "source": [
    "print(\"precision score\",precision_score(y_pred1,y_test))\n",
    "print(\"recall score\",recall_score(y_pred1,y_test))\n",
    "print(\"f1 score\",f1_score(y_pred1,y_test))\n",
    "print(\"accuracy score\",accuracy_score(y_pred1,y_test))"
   ]
  },
  {
   "cell_type": "code",
   "execution_count": null,
   "metadata": {},
   "outputs": [
    {
     "data": {
      "text/html": [
       "<div>\n",
       "<style scoped>\n",
       "    .dataframe tbody tr th:only-of-type {\n",
       "        vertical-align: middle;\n",
       "    }\n",
       "\n",
       "    .dataframe tbody tr th {\n",
       "        vertical-align: top;\n",
       "    }\n",
       "\n",
       "    .dataframe thead th {\n",
       "        text-align: right;\n",
       "    }\n",
       "</style>\n",
       "<table border=\"1\" class=\"dataframe\">\n",
       "  <thead>\n",
       "    <tr style=\"text-align: right;\">\n",
       "      <th></th>\n",
       "      <th>Actual</th>\n",
       "      <th>Predicted</th>\n",
       "    </tr>\n",
       "  </thead>\n",
       "  <tbody>\n",
       "    <tr>\n",
       "      <th>0</th>\n",
       "      <td>1</td>\n",
       "      <td>1</td>\n",
       "    </tr>\n",
       "    <tr>\n",
       "      <th>1</th>\n",
       "      <td>1</td>\n",
       "      <td>1</td>\n",
       "    </tr>\n",
       "    <tr>\n",
       "      <th>2</th>\n",
       "      <td>1</td>\n",
       "      <td>1</td>\n",
       "    </tr>\n",
       "    <tr>\n",
       "      <th>3</th>\n",
       "      <td>0</td>\n",
       "      <td>0</td>\n",
       "    </tr>\n",
       "    <tr>\n",
       "      <th>4</th>\n",
       "      <td>0</td>\n",
       "      <td>0</td>\n",
       "    </tr>\n",
       "    <tr>\n",
       "      <th>...</th>\n",
       "      <td>...</td>\n",
       "      <td>...</td>\n",
       "    </tr>\n",
       "    <tr>\n",
       "      <th>2495</th>\n",
       "      <td>1</td>\n",
       "      <td>0</td>\n",
       "    </tr>\n",
       "    <tr>\n",
       "      <th>2496</th>\n",
       "      <td>1</td>\n",
       "      <td>1</td>\n",
       "    </tr>\n",
       "    <tr>\n",
       "      <th>2497</th>\n",
       "      <td>1</td>\n",
       "      <td>1</td>\n",
       "    </tr>\n",
       "    <tr>\n",
       "      <th>2498</th>\n",
       "      <td>1</td>\n",
       "      <td>1</td>\n",
       "    </tr>\n",
       "    <tr>\n",
       "      <th>2499</th>\n",
       "      <td>0</td>\n",
       "      <td>0</td>\n",
       "    </tr>\n",
       "  </tbody>\n",
       "</table>\n",
       "<p>2500 rows × 2 columns</p>\n",
       "</div>"
      ],
      "text/plain": [
       "      Actual  Predicted\n",
       "0          1          1\n",
       "1          1          1\n",
       "2          1          1\n",
       "3          0          0\n",
       "4          0          0\n",
       "...      ...        ...\n",
       "2495       1          0\n",
       "2496       1          1\n",
       "2497       1          1\n",
       "2498       1          1\n",
       "2499       0          0\n",
       "\n",
       "[2500 rows x 2 columns]"
      ]
     },
     "execution_count": 127,
     "metadata": {},
     "output_type": "execute_result"
    }
   ],
   "source": [
    "resultslogi= pd.DataFrame({\"Actual\":y_test,\"Predicted\":y_pred1})\n",
    "resultslogi"
   ]
  },
  {
   "cell_type": "code",
   "execution_count": null,
   "metadata": {},
   "outputs": [],
   "source": [
    "resultslogi.to_csv('file1_logistic.csv',header=False, index=False,sep='\\t', encoding='utf-8')   "
   ]
  },
  {
   "cell_type": "code",
   "execution_count": null,
   "metadata": {},
   "outputs": [],
   "source": [
    "X = df[[\"text\",\"title\"]]\n",
    "#Visualise data points\n",
    "plt.scatter(X[\"text\"],X[\"title\"],c='black')\n",
    "plt.show()"
   ]
  },
  {
   "cell_type": "markdown",
   "metadata": {},
   "source": [
    "# Gradient Boosting"
   ]
  },
  {
   "cell_type": "code",
   "execution_count": null,
   "metadata": {},
   "outputs": [],
   "source": [
    "from sklearn.ensemble import GradientBoostingClassifier"
   ]
  },
  {
   "cell_type": "code",
   "execution_count": null,
   "metadata": {},
   "outputs": [],
   "source": [
    "clf1 = GradientBoostingClassifier(n_estimators=100, learning_rate=1.0, max_depth=1)\n",
    "clf1.fit(X_train, y_train)"
   ]
  },
  {
   "cell_type": "code",
   "execution_count": null,
   "metadata": {},
   "outputs": [],
   "source": [
    "# predict the target on the train dataset\n",
    "predict_train = clf1.predict(X_train)\n",
    "print('\\nTarget on train data',predict_train) \n",
    "# Accuray Score on train dataset\n",
    "accuracy_train = accuracy_score(y_train,predict_train)\n",
    "print('\\naccuracy_score on train dataset : ', accuracy_train)"
   ]
  },
  {
   "cell_type": "code",
   "execution_count": null,
   "metadata": {},
   "outputs": [],
   "source": [
    "# predict the target on the test dataset\n",
    "predict_test = clf1.predict(X_test)\n",
    "print('\\nTarget on test data',predict_test) \n",
    "# Accuracy Score on test dataset\n",
    "accuracy_test = accuracy_score(y_test,predict_test)\n",
    "print('\\naccuracy_score on test dataset : ', accuracy_test)"
   ]
  },
  {
   "cell_type": "code",
   "execution_count": null,
   "metadata": {},
   "outputs": [],
   "source": [
    "resultsgred= pd.DataFrame({\"Actual\":y_test,\"Predicted\":predict_test})\n",
    "resultsgred"
   ]
  },
  {
   "cell_type": "code",
   "execution_count": null,
   "metadata": {},
   "outputs": [],
   "source": [
    "resultsgred.to_csv('file1gredientBoost.csv',header=False, index=False,sep='\\t', encoding='utf-8')   "
   ]
  },
  {
   "cell_type": "markdown",
   "metadata": {},
   "source": [
    "# Extreme Gradient Boosting"
   ]
  },
  {
   "cell_type": "code",
   "execution_count": null,
   "metadata": {},
   "outputs": [],
   "source": [
    "from xgboost import XGBClassifier\n",
    "model = XGBClassifier()\n",
    "# fit the model with the training data\n",
    "model.fit(X_train,y_train)"
   ]
  },
  {
   "cell_type": "code",
   "execution_count": null,
   "metadata": {},
   "outputs": [],
   "source": [
    "# predict the target on the train dataset\n",
    "predict_train = model.predict(X_train)\n",
    "print('\\nTarget on train data',predict_train) \n",
    "# Accuray Score on train dataset\n",
    "accuracy_train = accuracy_score(y_train,predict_train)\n",
    "print('\\naccuracy_score on train dataset : ', accuracy_train)"
   ]
  },
  {
   "cell_type": "code",
   "execution_count": null,
   "metadata": {},
   "outputs": [],
   "source": [
    "# predict the target on the test dataset\n",
    "predict_test1 = model.predict(X_test)\n",
    "print('\\nTarget on test data',predict_test) \n",
    "# Accuracy Score on test dataset\n",
    "accuracy_test1 = accuracy_score(y_test,predict_test)\n",
    "print('\\naccuracy_score on test dataset : ', accuracy_test)"
   ]
  },
  {
   "cell_type": "code",
   "execution_count": null,
   "metadata": {},
   "outputs": [],
   "source": [
    "resultsXGboost= pd.DataFrame({\"Actual\":y_test,\"Predicted\":predict_test1})\n",
    "resultsXGboost"
   ]
  },
  {
   "cell_type": "code",
   "execution_count": null,
   "metadata": {},
   "outputs": [],
   "source": [
    "resultsXGboost.to_csv('file1XGBoost.csv',header=False, index=False,sep='\\t', encoding='utf-8')   "
   ]
  }
 ],
 "metadata": {
  "kernelspec": {
   "display_name": "Python 3",
   "language": "python",
   "name": "python3"
  },
  "language_info": {
   "codemirror_mode": {
    "name": "ipython",
    "version": 3
   },
   "file_extension": ".py",
   "mimetype": "text/x-python",
   "name": "python",
   "nbconvert_exporter": "python",
   "pygments_lexer": "ipython3",
   "version": "3.7.3"
  }
 },
 "nbformat": 4,
 "nbformat_minor": 2
}
